{
 "cells": [
  {
   "cell_type": "markdown",
   "metadata": {},
   "source": [
    "# 0.8 Hierarchical Learning\n",
    "\n",
    "Quickly put together a model to see how neural networks perform when run on tasks with a heirarchical structure such as the one laid out in [this](http://ski.clps.brown.edu/papers/CollinsFrank_Cognition.pdf) paper."
   ]
  },
  {
   "cell_type": "markdown",
   "metadata": {},
   "source": [
    "## Boilerplate\n",
    "\n",
    "The following subsections are largely boilerplate code, so skip around as needed."
   ]
  },
  {
   "cell_type": "markdown",
   "metadata": {},
   "source": [
    "### Jupyter Extensions"
   ]
  },
  {
   "cell_type": "markdown",
   "metadata": {},
   "source": [
    "Load [watermark](https://github.com/rasbt/watermark) to see the state of the machine and environment that's running the notebook. To make sense of the options, take a look at the [usage](https://github.com/rasbt/watermark#usage) section of the readme."
   ]
  },
  {
   "cell_type": "code",
   "execution_count": 1,
   "metadata": {},
   "outputs": [
    {
     "name": "stdout",
     "output_type": "stream",
     "text": [
      "Thu Jun 06 2019 16:35:02 \n",
      "\n",
      "CPython 3.6.8\n",
      "IPython 7.3.0\n",
      "\n",
      "numpy 1.16.2\n",
      "matplotlib 3.0.2\n",
      "seaborn 0.9.0\n",
      "tensorflow 1.10.0\n",
      "\n",
      "compiler   : GCC 7.3.0\n",
      "system     : Linux\n",
      "release    : 4.18.0-20-generic\n",
      "machine    : x86_64\n",
      "processor  : x86_64\n",
      "CPU cores  : 8\n",
      "interpreter: 64bit\n",
      "Git hash   : 0acecbc0d8d21d0b2ddae2d03e5b9a2ba46c9778\n",
      "Git branch : master\n"
     ]
    }
   ],
   "source": [
    "# Load `watermark` extension\n",
    "%load_ext watermark\n",
    "# Display the status of the machine and packages. Add more as necessary.\n",
    "%watermark -v -n -m -g -b -t -p numpy,matplotlib,seaborn,tensorflow"
   ]
  },
  {
   "cell_type": "markdown",
   "metadata": {},
   "source": [
    "Load [autoreload](https://ipython.org/ipython-doc/3/config/extensions/autoreload.html) which will always reload modules marked with `%aimport`.\n",
    "\n",
    "This behavior can be inverted by running `autoreload 2` which will set everything to be auto-reloaded *except* for modules marked with `%aimport`."
   ]
  },
  {
   "cell_type": "code",
   "execution_count": 2,
   "metadata": {},
   "outputs": [],
   "source": [
    "# Load `autoreload` extension\n",
    "%load_ext autoreload\n",
    "# Set autoreload behavior\n",
    "%autoreload 1"
   ]
  },
  {
   "cell_type": "markdown",
   "metadata": {},
   "source": [
    "Load `matplotlib` in one of the more `jupyter`-friendly [rich-output modes](https://ipython.readthedocs.io/en/stable/interactive/plotting.html). Some options (that may or may not have worked) are `inline`, `notebook`, and `gtk`."
   ]
  },
  {
   "cell_type": "code",
   "execution_count": 3,
   "metadata": {},
   "outputs": [],
   "source": [
    "# Set the matplotlib mode.\n",
    "%matplotlib inline"
   ]
  },
  {
   "cell_type": "markdown",
   "metadata": {},
   "source": [
    "### Imports"
   ]
  },
  {
   "cell_type": "markdown",
   "metadata": {},
   "source": [
    "Static imports that shouldn't necessarily change throughout the notebook."
   ]
  },
  {
   "cell_type": "code",
   "execution_count": 4,
   "metadata": {},
   "outputs": [],
   "source": [
    "# Standard library imports\n",
    "import logging\n",
    "import os\n",
    "from pathlib import Path\n",
    "from copy import deepcopy\n",
    "from pprint import pprint\n",
    "\n",
    "# Third party\n",
    "import IPython as ipy\n",
    "import matplotlib.pyplot as plt\n",
    "import numpy as np\n",
    "import pandas as pd\n",
    "import seaborn as sns\n",
    "import tensorflow as tf\n",
    "from pstar import pdict"
   ]
  },
  {
   "cell_type": "markdown",
   "metadata": {},
   "source": [
    "Local imports that may or may not be autoreloaded. This section contains things that will likely have to be re-imported multiple times, and have additions or subtractions made throughout the project."
   ]
  },
  {
   "cell_type": "code",
   "execution_count": 5,
   "metadata": {},
   "outputs": [],
   "source": [
    "# Utility functions\n",
    "%aimport leabratf.utils\n",
    "from leabratf.utils import setup_logging\n",
    "%aimport leabratf.constants\n",
    "from leabratf.constants import DIR_DATA_PROC"
   ]
  },
  {
   "cell_type": "markdown",
   "metadata": {},
   "source": [
    "### Initial Setup"
   ]
  },
  {
   "cell_type": "markdown",
   "metadata": {},
   "source": [
    "Set [seaborn defaults](https://seaborn.pydata.org/generated/seaborn.set.html) for matplotlib."
   ]
  },
  {
   "cell_type": "code",
   "execution_count": 6,
   "metadata": {},
   "outputs": [],
   "source": [
    "sns.set()\n",
    "sns.set_context(\"notebook\")"
   ]
  },
  {
   "cell_type": "markdown",
   "metadata": {},
   "source": [
    "Set up the logger configuration to something more useful than baseline. Creates log files for the different log levels in the `logs` directory.\n",
    "\n",
    "See `logging.yml` for the exact logging configuration."
   ]
  },
  {
   "cell_type": "code",
   "execution_count": 7,
   "metadata": {},
   "outputs": [],
   "source": [
    "# Run base logger setup\n",
    "setup_logging()\n",
    "# Define a logger object\n",
    "logger = logging.getLogger('leabratf')"
   ]
  },
  {
   "cell_type": "markdown",
   "metadata": {},
   "source": [
    "## Task Definitions"
   ]
  },
  {
   "cell_type": "markdown",
   "metadata": {},
   "source": [
    "### Constants"
   ]
  },
  {
   "cell_type": "code",
   "execution_count": 8,
   "metadata": {},
   "outputs": [],
   "source": [
    "N_COLORS = 5\n",
    "N_SHAPES = 4\n",
    "N_ACTIONS = 4"
   ]
  },
  {
   "cell_type": "markdown",
   "metadata": {},
   "source": [
    "### Phase Colors and Shapes"
   ]
  },
  {
   "cell_type": "code",
   "execution_count": 9,
   "metadata": {},
   "outputs": [],
   "source": [
    "# All the colors and shapes\n",
    "all_colors = [0, 1, 2, 3, 4]\n",
    "all_shapes = [1 ,2, 3, 4]\n",
    "\n",
    "# Phase A\n",
    "phase_a_colors = [0, 1, 2]\n",
    "phase_a_shapes = [1, 2]\n",
    "\n",
    "# Phase B\n",
    "phase_b_colors = [0, 1, 2]\n",
    "phase_b_shapes = [3, 4]\n",
    "\n",
    "# Phase C\n",
    "phase_c_colors = [3, 4]\n",
    "phase_c_shapes = [3, 4]\n",
    "\n",
    "# Color lines correspond to a particular horizontal line\n",
    "# # colors are not uniformly selected for\n",
    "# Shapes corespond to a particular vertical line\n",
    "# Color, Shape combinations correspond to a particular action 1-4"
   ]
  },
  {
   "cell_type": "markdown",
   "metadata": {},
   "source": [
    "### Action Mapping\n"
   ]
  },
  {
   "cell_type": "code",
   "execution_count": 10,
   "metadata": {},
   "outputs": [],
   "source": [
    "action_dictonary = {\n",
    "    # (Color,Shape) : Action\n",
    "    #      Phase A       |       Phase B\n",
    "    (0,1) : 1, (0,2) : 2, (0,3) : 1, (0,4) : 3, # TS 1\n",
    "    (1,1) : 1, (1,2) : 2, (1,3) : 1, (1,4) : 3, # TS 1\n",
    "    (2,1) : 3, (2,2) : 4, (2,3) : 4, (2,4) : 2, # TS 2\n",
    "    #                    |       Phase C\n",
    "                          (3,3) : 1, (3,4) : 3, # TS Old\n",
    "                          (4,3) : 1, (4,4) : 2} # TS New"
   ]
  },
  {
   "cell_type": "markdown",
   "metadata": {},
   "source": [
    "## Data Generation Functions"
   ]
  },
  {
   "cell_type": "markdown",
   "metadata": {},
   "source": [
    "### Phase"
   ]
  },
  {
   "cell_type": "code",
   "execution_count": 58,
   "metadata": {},
   "outputs": [],
   "source": [
    "def phase_labels(n_samples,\n",
    "                 phase_colors,\n",
    "                 phase_shapes,\n",
    "                 p_colors,\n",
    "                 p_shapes,\n",
    "                 n_colors=N_COLORS,\n",
    "                 n_shapes=N_SHAPES,\n",
    "                ):\n",
    "    \"\"\"Base label generator.\"\"\"\n",
    "    # N Color samples\n",
    "    color_choices = np.eye(n_colors)[np.random.choice(\n",
    "        phase_colors,\n",
    "        size=n_samples,\n",
    "        replace=True,\n",
    "        p=p_colors,\n",
    "    )].reshape((n_samples, n_colors, 1))\n",
    "    # N Shape samples\n",
    "    shape_choices = np.eye(n_shapes)[np.random.choice(\n",
    "        [s-1 for s in phase_shapes],\n",
    "        size=n_samples,\n",
    "        replace=True,\n",
    "        p=p_shapes,\n",
    "    )].reshape((n_samples, n_shapes, 1))\n",
    "    # Return the choices\n",
    "    return color_choices, shape_choices    \n",
    "\n",
    "def phase_a_labels(n_samples=120, \n",
    "                   colors=phase_a_colors,\n",
    "                   shapes=phase_a_shapes,\n",
    "                   p_colors=None,\n",
    "                   p_shapes=None,\n",
    "                ):\n",
    "    \"\"\"Label generator with defaults for phase a\"\"\"\n",
    "    # Color and shape probabilities\n",
    "    p_colors = p_colors or [.25, .25, .5]\n",
    "    p_shapes = p_shapes or [.5, .5]\n",
    "    return phase_labels(n_samples, colors, shapes, \n",
    "                        p_colors, p_shapes)\n",
    "\n",
    "def phase_b_labels(n_samples=120, \n",
    "                   colors=phase_b_colors,\n",
    "                   shapes=phase_b_shapes,\n",
    "                   p_colors=None,\n",
    "                   p_shapes=None,\n",
    "                ):\n",
    "    \"\"\"Label generator with defaults for phase b\"\"\"\n",
    "    # Color and shape probabilities\n",
    "    p_colors = p_colors or [.25, .25, .5]\n",
    "    p_shapes = p_shapes or [.5, .5]\n",
    "    return phase_labels(n_samples, colors, shapes, \n",
    "                        p_colors, p_shapes)\n",
    "\n",
    "def phase_c_labels(n_samples=120, \n",
    "                   colors=phase_c_colors,\n",
    "                   shapes=phase_c_shapes,\n",
    "                   p_colors=None,\n",
    "                   p_shapes=None,\n",
    "                ):\n",
    "    \"\"\"Label generator with defaults for phase c\"\"\"\n",
    "    # Color and shape probabilities\n",
    "    p_colors = p_colors or [.5, .5]\n",
    "    p_shapes = p_shapes or [.5, .5]\n",
    "    return phase_labels(n_samples, colors, shapes, \n",
    "                        p_colors, p_shapes)\n",
    "\n",
    "phase_labels_funcs = pdict({\n",
    "    'a' : phase_a_labels,\n",
    "    'b' : phase_b_labels,\n",
    "    'c' : phase_c_labels\n",
    "}) "
   ]
  },
  {
   "cell_type": "markdown",
   "metadata": {},
   "source": [
    "### Helper Functions"
   ]
  },
  {
   "cell_type": "code",
   "execution_count": 59,
   "metadata": {},
   "outputs": [],
   "source": [
    "def integer_labels(labels):\n",
    "    \"\"\"Turns one-hot labels to integers\"\"\"\n",
    "    return [np.where(r==1)[0][0] for r in labels]\n",
    "    \n",
    "def input_array(color_choices, shape_choices, \n",
    "                n_shapes=N_SHAPES, n_colors=N_COLORS):\n",
    "    \"\"\"Turns one-hot labels to 2D input arrays with lines\"\"\"\n",
    "    # Full Color array\n",
    "    color_array = np.tile(color_choices, n_shapes)\n",
    "    # Full Shape Array\n",
    "    shape_array = np.transpose(\n",
    "        np.tile(shape_choices, n_colors),\n",
    "        [0, 2, 1])\n",
    "        \n",
    "    # Full data with both\n",
    "    x_data = np.maximum(color_array, shape_array)\n",
    "    return x_data"
   ]
  },
  {
   "cell_type": "markdown",
   "metadata": {},
   "source": [
    "### Action Selection"
   ]
  },
  {
   "cell_type": "code",
   "execution_count": 60,
   "metadata": {},
   "outputs": [],
   "source": [
    "def actions(color_choices, shape_choices, action_dict=None, n_actions=N_ACTIONS):\n",
    "    \"\"\"Implements the mapping from shapes and colors to actions\"\"\"\n",
    "    # Create the action dictionary to compare to\n",
    "    action_dict = action_dict or action_dictonary\n",
    "    # Make binary from one hot and increment shape by 1\n",
    "    color_binarized = integer_labels(color_choices)\n",
    "    shape_binarized = [i+1 for i in integer_labels(shape_choices)]\n",
    "    # Compile into a list of tuples\n",
    "    label_tuples = [(color, shape) for color, shape in zip(\n",
    "        color_binarized, shape_binarized)]\n",
    "    # Substitute based on the action dictionary\n",
    "    integer_actions = [action_dict[key] for key in label_tuples]\n",
    "    return np.eye(n_actions)[np.array(integer_actions)-1]"
   ]
  },
  {
   "cell_type": "markdown",
   "metadata": {},
   "source": [
    "## Making the Datasets"
   ]
  },
  {
   "cell_type": "markdown",
   "metadata": {},
   "source": [
    "### Generating the Phase Data"
   ]
  },
  {
   "cell_type": "code",
   "execution_count": 61,
   "metadata": {},
   "outputs": [],
   "source": [
    "datasets = [pdict(), pdict()]\n",
    "for key in phase_labels_funcs.keys():\n",
    "    for dataset in datasets:\n",
    "        choices = phase_labels_funcs[key]()\n",
    "        inputs = input_array(*choices)\n",
    "        labels = actions(*choices)\n",
    "        dataset[key] = (inputs, labels)\n",
    "train_dataset, test_dataset = datasets"
   ]
  },
  {
   "cell_type": "markdown",
   "metadata": {},
   "source": [
    "### Tensorflow Datasets"
   ]
  },
  {
   "cell_type": "code",
   "execution_count": 62,
   "metadata": {},
   "outputs": [],
   "source": [
    "def make_tf_datasets(datasets, init_ops=None):\n",
    "    # The first step of the setup is that each of the datasets (training, validation, and \n",
    "    # testing) are turned into their own `Dataset` objects.\n",
    "    tf_datasets = pdict()\n",
    "    for data, name in zip(datasets, ['train', 'test']):\n",
    "        for key in data.keys():\n",
    "            tf_datasets[f'{name}_{key}'] = tf.data.Dataset.from_tensor_slices(\n",
    "                data[key]).repeat().batch(1 if name=='train' \n",
    "                                          else len(data[key][0]))\n",
    "    \n",
    "    # Next, let's define the iterators for each of the datasets, and then add their \n",
    "    # initializations to the `init_ops` list.\n",
    "    # Training iterator\n",
    "    iterators = pdict({name : data.make_initializable_iterator()\n",
    "                      for name, data in tf_datasets.items()})\n",
    "\n",
    "    # Add the initiatlizations to the init opts\n",
    "    init_ops = init_ops or []\n",
    "    init_ops += [iter.initializer for iter in iterators.values()]\n",
    "    \n",
    "    first_dataset = list(tf_datasets.values())[0] \n",
    "    output_types, output_shapes = first_dataset.output_types, first_dataset.output_shapes\n",
    "    \n",
    "    # And finally, the interesting part. Rather than creating separate next elements for \n",
    "    # the model, the `tf.data` API has a string handler iterator so we can contextually \n",
    "    # switch the active `Dataset` object, resulting in different values being used for `x` \n",
    "    # and `y`.\n",
    "\n",
    "    # The way this is done is by defining a `tf.placeholder` variable, which is used \n",
    "    # first to create a string handler iterator, and later to hold the dataset-indicating \n",
    "    # string handle. The string handler iterator is what then changes the values of `x` and \n",
    "    # `y`, naturally also supplying them using the `get_next` method.\n",
    "    # The placeholder variable of type string\n",
    "    handle = tf.placeholder(tf.string, shape=[])\n",
    "    \n",
    "    # Iterator from string handle\n",
    "    handle_iterator = tf.data.Iterator.from_string_handle(\n",
    "        handle, output_types, output_shapes)\n",
    "\n",
    "    # x and y that will be used in the graph\n",
    "    x, y = handle_iterator.get_next()\n",
    "    \n",
    "    return x, y, iterators, handle, init_ops"
   ]
  },
  {
   "cell_type": "markdown",
   "metadata": {},
   "source": [
    "## Graph Definitions"
   ]
  },
  {
   "cell_type": "markdown",
   "metadata": {},
   "source": [
    "### TF Variables\n",
    "\n",
    "Straight forward section where we define the weights and biases. One thing to note is that the weights are initialized using the `tf.contrib.layers.xavier_initializer`. \n",
    "\n",
    "Additionally, create an empty list that will contain the initialization operations to be performed at the start of a session."
   ]
  },
  {
   "cell_type": "code",
   "execution_count": 63,
   "metadata": {},
   "outputs": [],
   "source": [
    "N_INPUTS = N_COLORS * N_SHAPES\n",
    "N_HIDDEN_1 = 100 \n",
    "N_OUTPUTS = 4\n",
    "\n",
    "# Cleanup any residual nodes\n",
    "tf.reset_default_graph()\n",
    "init_ops = []\n",
    "\n",
    "# Weights and biases\n",
    "weights = pdict({\n",
    "    'h1': tf.get_variable(\n",
    "        name='w_h1', \n",
    "        shape=[N_INPUTS, N_HIDDEN_1],\n",
    "        initializer=tf.contrib.layers.xavier_initializer(),\n",
    "        dtype=tf.float64),\n",
    "    'out': tf.get_variable(\n",
    "        name='w_out', \n",
    "        shape=[N_HIDDEN_1, N_OUTPUTS],\n",
    "        initializer=tf.contrib.layers.xavier_initializer(),\n",
    "        dtype=tf.float64),\n",
    "})\n",
    "biases = pdict({\n",
    "    'b1': tf.get_variable(\n",
    "        name=\"b_1\", \n",
    "        shape=[N_HIDDEN_1], \n",
    "        initializer=tf.zeros_initializer(),\n",
    "        dtype=tf.float64),\n",
    "    'out': tf.get_variable(\n",
    "        name=\"b_out\", \n",
    "        shape=[N_OUTPUTS], \n",
    "        initializer=tf.zeros_initializer(),\n",
    "        dtype=tf.float64),\n",
    "})\n",
    "\n",
    "init_ops = []"
   ]
  },
  {
   "cell_type": "markdown",
   "metadata": {},
   "source": [
    "### Model and Metrics\n",
    "\n",
    "The architecture is the same as previous notebooks. See `nb-0.3` for more details."
   ]
  },
  {
   "cell_type": "code",
   "execution_count": 64,
   "metadata": {},
   "outputs": [],
   "source": [
    "def oreilly_model(inputs):\n",
    "    # Reshape for hidden layer\n",
    "    inputs = tf.reshape(inputs, shape=[-1, N_INPUTS])\n",
    "    # Single hidden layer\n",
    "    inputs = tf.sigmoid(tf.add(tf.matmul(inputs, weights['h1']), biases['b1']))\n",
    "    # Output layer\n",
    "    inputs = tf.add(tf.matmul(inputs, weights['out']), biases['out'])\n",
    "    # Reshape for labels\n",
    "    return tf.reshape(inputs, shape=[-1, N_OUTPUTS])"
   ]
  },
  {
   "cell_type": "code",
   "execution_count": 65,
   "metadata": {},
   "outputs": [],
   "source": [
    "TF_DEVICE = '/device:CPU:0'\n",
    "with tf.device(TF_DEVICE):\n",
    "    # Get the relevant dataset nodes\n",
    "    x, y, iterators, handler, init_ops = make_tf_datasets(\n",
    "        datasets, init_ops)\n",
    "\n",
    "    # Build the model\n",
    "    logits = oreilly_model(x)\n",
    "    # Ensure y is cast to the same type as logits\n",
    "    labels = tf.cast(y, logits.dtype)\n",
    "    \n",
    "    # We will keep this in for now\n",
    "    # Define alpha as placeholder variable\n",
    "    alpha_ph = tf.placeholder(tf.float32, shape=[])\n",
    "\n",
    "    # Define loss and optimizer\n",
    "    loss_op = tf.reduce_mean(tf.losses.softmax_cross_entropy(\n",
    "        labels, logits))\n",
    "\n",
    "    # Define some intermediate nodes\n",
    "    predictions = tf.nn.softmax(logits)\n",
    "    rounded_predictions = tf.round(predictions)\n",
    "    equal_labels_and_preds = tf.equal(rounded_predictions, labels)\n",
    "    \n",
    "    # Accuracy \n",
    "    sample_acc = tf.reduce_all(equal_labels_and_preds, axis=1)\n",
    "    accuracy = tf.reduce_mean(tf.cast(sample_acc, tf.float64))\n",
    " \n",
    "#     # Elemental Accuracy \n",
    "#     el_acc_op = tf.reduce_mean(tf.cast(equal_labels_and_preds, tf.float32))\n",
    "#     # Axis Accuracy\n",
    "#     axis_acc_op = tf.reduce_mean(tf.cast(axis_acc, tf.float32))\n",
    "#     # Slot Accuracy\n",
    "#     slot_acc_op = tf.reduce_mean(tf.cast(slot_acc, tf.float32))\n",
    "#     # Sample Accuracy\n",
    "#     sample_acc_op = tf.reduce_mean(tf.cast(sample_acc, tf.float32))\n",
    "    \n",
    "#     # metric ops\n",
    "#     met_op_names = ['loss', 'el_acc', 'ax_acc', 'sl_acc', 'sm_acc']\n",
    "#     met_ops = [loss_op, el_acc_op, axis_acc_op, slot_acc_op, sample_acc_op]\n",
    "#     # Put them in a dict\n",
    "#     met_op_dict = pdict({name : op for name, op in zip(met_op_names, met_ops)})\n",
    "\n",
    "#     # Generic metrics dict\n",
    "#     generic_metrics_dict = lambda : pdict({name : [] \n",
    "#                                            for name in met_op_names+['epoch']})"
   ]
  },
  {
   "cell_type": "code",
   "execution_count": 66,
   "metadata": {},
   "outputs": [
    {
     "data": {
      "text/plain": [
       "0.23333333333333334"
      ]
     },
     "execution_count": 66,
     "metadata": {},
     "output_type": "execute_result"
    }
   ],
   "source": [
    "phase = 'a'\n",
    "def test_func(init_ops):\n",
    "    with tf.Session() as sess:\n",
    "        if tf.global_variables_initializer() not in init_ops:\n",
    "            init_ops += [tf.global_variables_initializer(), \n",
    "                         tf.local_variables_initializer()]\n",
    "        sess.run(init_ops)\n",
    "        handles = pdict({name : sess.run(iterators[name].string_handle())\n",
    "                    for name in iterators.keys()})\n",
    "        return sess.run(accuracy, feed_dict={handler: handles[f'test_{phase}']})\n",
    "test_func(init_ops)"
   ]
  },
  {
   "cell_type": "markdown",
   "metadata": {},
   "source": [
    "\n",
    "### Varying the Optimizer\n",
    "\n",
    "Let's create several different training operations."
   ]
  },
  {
   "cell_type": "code",
   "execution_count": 67,
   "metadata": {},
   "outputs": [],
   "source": [
    "with tf.device(TF_DEVICE):\n",
    "    # Adam\n",
    "    train_op_adam = tf.train.AdamOptimizer(alpha_ph).minimize(loss_op)\n",
    "    # Adadelta \n",
    "    train_op_adadelta = tf.train.AdadeltaOptimizer(alpha_ph).minimize(loss_op)\n",
    "    # RMSProp\n",
    "    train_op_rmsprop = tf.train.RMSPropOptimizer(alpha_ph).minimize(loss_op)\n",
    "    # SGD\n",
    "    train_op_sgd = tf.train.GradientDescentOptimizer(alpha_ph).minimize(loss_op)\n",
    "    \n",
    "# And now add these to a dictionary\n",
    "optimizer_dict = pdict({\n",
    "    'Adam' : train_op_adam,\n",
    "    'Adadelta' : train_op_adadelta,\n",
    "    'RMSProp' : train_op_rmsprop,\n",
    "    'sgd' : train_op_sgd,\n",
    "})"
   ]
  },
  {
   "cell_type": "markdown",
   "metadata": {},
   "source": [
    "### New Session Function\n",
    "\n",
    "In the event that we do not want to immediately close sessions, we won't be using the context handler but will still need to grab new sessions as necessary. So let's quickly write a function that will properly run `sess.close()` if a previous session exists and then return a new `tf.Session` instance."
   ]
  },
  {
   "cell_type": "code",
   "execution_count": 68,
   "metadata": {},
   "outputs": [],
   "source": [
    "def new_session(*args, **kwargs):\n",
    "    # Try to close the globally defined session if it isn't already\n",
    "    try:\n",
    "        if not sess._closed:\n",
    "            sess.close()\n",
    "    # If it doesn't exist, then just pass\n",
    "    except NameError:\n",
    "        pass\n",
    "    # Return the new instance\n",
    "    return tf.Session(*args, **kwargs)"
   ]
  },
  {
   "cell_type": "markdown",
   "metadata": {},
   "source": [
    "### Defining the Training Function\n",
    "\n",
    "Let's define a function that runs the training routine and accepts the number of epochs as the inputs."
   ]
  },
  {
   "cell_type": "code",
   "execution_count": 69,
   "metadata": {},
   "outputs": [],
   "source": [
    "# Based on code from \n",
    "# https://codereview.stackexchange.com/questions/169870/decorator-to-measure-execution-time-of-a-function\n",
    "from functools import wraps\n",
    "from time import time\n",
    "import datetime\n",
    "\n",
    "def timing(func):\n",
    "    @wraps(func)\n",
    "    def wrapper(*args, **kwargs):\n",
    "        start = time()\n",
    "        result = func(*args, **kwargs)\n",
    "        end = time()\n",
    "        logger.info('Elapsed time: {}'.format(\n",
    "            datetime.timedelta(seconds=end-start)))\n",
    "        return result\n",
    "    return wrapper"
   ]
  },
  {
   "cell_type": "code",
   "execution_count": 70,
   "metadata": {},
   "outputs": [],
   "source": [
    "@timing\n",
    "def train_exp(\n",
    "    sess, \n",
    "    lr=0.0033, \n",
    "    epochs=100,\n",
    "    train_op=optimizer_dict['Adam'], \n",
    "    init_ops=None,\n",
    "    verbose=False,\n",
    "    phases=['a'],\n",
    "    n_train=None,\n",
    "    n_val=5,\n",
    "):\n",
    "    log_level = logger.info if verbose else logger.debug\n",
    "    log_level(f'Beginning training using learning rate {lr}, {train_op.name} '\n",
    "              f'training routine, for {epochs} epochs')\n",
    "    # Ensure this is an int\n",
    "    epochs = int(epochs)\n",
    "    # Dict with the various metrics we care about while training\n",
    "    phase_metrics = pdict()\n",
    "    \n",
    "    # Run the initialization ops\n",
    "    init_ops = init_ops or []\n",
    "    if tf.global_variables_initializer() not in init_ops:\n",
    "        init_ops += [tf.global_variables_initializer(), \n",
    "                     tf.local_variables_initializer()]\n",
    "    sess.run(init_ops)\n",
    "    \n",
    "    # Define training and validation handlers\n",
    "    handles = pdict({name : sess.run(iterators[name].string_handle())\n",
    "                    for name in iterators.keys()})\n",
    "    \n",
    "    for phase in phases:\n",
    "        n_train = len(train_dataset[phase][0])\n",
    "        training_metrics = pdict({'loss':[], 'accuracy':[], 'sample':[]})\n",
    "        for epoch in range(epochs):\n",
    "            for i in range(n_train):\n",
    "                # Training op and compute metrics\n",
    "                _ = sess.run(\n",
    "                    train_op, \n",
    "                    feed_dict={alpha_ph: lr, handler: handles[f'train_{phase}']})\n",
    "\n",
    "                if not i % n_val or i == n_train - 1:\n",
    "                    metrics = sess.run(\n",
    "                        [loss_op, accuracy],\n",
    "                        feed_dict={handler: handles[f'test_{phase}']})\n",
    "                    # Record\n",
    "                    for key, metric in zip(['loss', 'accuracy'], metrics):\n",
    "                        training_metrics[key].append(metric)\n",
    "                    training_metrics['sample'].append(i + epoch*n_train)\n",
    "                    log_level(f'Completed Sample {i + epoch*n_train}')\n",
    "        phase_metrics[phase] = training_metrics\n",
    "\n",
    "    return phase_metrics"
   ]
  },
  {
   "cell_type": "code",
   "execution_count": 73,
   "metadata": {},
   "outputs": [
    {
     "name": "stderr",
     "output_type": "stream",
     "text": [
      "2019-06-06 16:52:04 apra-xps-13 leabratf[22508] INFO Elapsed time: 0:00:00.995685\n"
     ]
    },
    {
     "data": {
      "image/png": "[encoded data removed]",
      "text/plain": [
       "<Figure size 432x288 with 1 Axes>"
      ]
     },
     "metadata": {},
     "output_type": "display_data"
    }
   ],
   "source": [
    "sess = new_session()\n",
    "phase_metrics = train_exp(\n",
    "    sess, \n",
    "    lr=0.00333, \n",
    "    epochs=1,\n",
    "    train_op=optimizer_dict['Adam'], \n",
    "    init_ops=init_ops,\n",
    "    verbose=False,\n",
    "    phases=['a', 'b', 'c'],\n",
    "    n_train=None,\n",
    "    n_val=1,\n",
    ")\n",
    "for phase, data in phase_metrics.items():\n",
    "    plt.plot(data.sample, data['accuracy'], label=f'Phase {phase}')\n",
    "plt.legend()\n",
    "plt.show()"
   ]
  },
  {
   "cell_type": "code",
   "execution_count": null,
   "metadata": {},
   "outputs": [],
   "source": [
    "for metric in ['loss', 'accuracy']:\n",
    "    plt.plot(training_metrics.sample, training_metrics[metric], label=metric)\n",
    "plt.legend()\n",
    "plt.show()"
   ]
  },
  {
   "cell_type": "code",
   "execution_count": null,
   "metadata": {},
   "outputs": [],
   "source": []
  }
 ],
 "metadata": {
  "anaconda-cloud": {},
  "kernelspec": {
   "display_name": "Python 3",
   "language": "python",
   "name": "python3"
  },
  "language_info": {
   "codemirror_mode": {
    "name": "ipython",
    "version": 3
   },
   "file_extension": ".py",
   "mimetype": "text/x-python",
   "name": "python",
   "nbconvert_exporter": "python",
   "pygments_lexer": "ipython3",
   "version": "3.6.8"
  }
 },
 "nbformat": 4,
 "nbformat_minor": 2
}
