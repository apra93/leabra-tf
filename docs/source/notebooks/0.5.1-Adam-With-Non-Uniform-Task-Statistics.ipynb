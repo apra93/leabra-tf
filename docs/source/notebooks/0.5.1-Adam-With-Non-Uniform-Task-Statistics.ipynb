{
 "cells": [
  {
   "cell_type": "markdown",
   "metadata": {},
   "source": [
    "# 0.5.1 Adam with Non-Uniform Task Statistics"
   ]
  },
  {
   "cell_type": "markdown",
   "metadata": {},
   "source": [
    "## Boilerplate\n",
    "\n",
    "The following subsections are largely boilerplate code, so skip around as needed."
   ]
  },
  {
   "cell_type": "markdown",
   "metadata": {},
   "source": [
    "### Jupyter Extensions"
   ]
  },
  {
   "cell_type": "markdown",
   "metadata": {},
   "source": [
    "Load [watermark](https://github.com/rasbt/watermark) to see the state of the machine and environment that's running the notebook. To make sense of the options, take a look at the [usage](https://github.com/rasbt/watermark#usage) section of the readme."
   ]
  },
  {
   "cell_type": "code",
   "execution_count": 496,
   "metadata": {},
   "outputs": [
    {
     "name": "stdout",
     "output_type": "stream",
     "text": [
      "The watermark extension is already loaded. To reload it, use:\n",
      "  %reload_ext watermark\n",
      "Fri May 03 2019 16:36:29 \n",
      "\n",
      "CPython 3.6.8\n",
      "IPython 7.3.0\n",
      "\n",
      "numpy 1.16.2\n",
      "matplotlib 3.0.3\n",
      "seaborn 0.9.0\n",
      "tensorflow 1.12.0\n",
      "\n",
      "compiler   : GCC 7.3.0\n",
      "system     : Linux\n",
      "release    : 4.4.0-130-generic\n",
      "machine    : x86_64\n",
      "processor  : x86_64\n",
      "CPU cores  : 12\n",
      "interpreter: 64bit\n",
      "Git hash   : c6bcfa830f3afc3e16c005bc2371fd24a8c9da17\n",
      "Git branch : master\n"
     ]
    }
   ],
   "source": [
    "# Load `watermark` extension\n",
    "%load_ext watermark\n",
    "# Display the status of the machine and packages. Add more as necessary.\n",
    "%watermark -v -n -m -g -b -t -p numpy,matplotlib,seaborn,tensorflow"
   ]
  },
  {
   "cell_type": "markdown",
   "metadata": {},
   "source": [
    "Load [autoreload](https://ipython.org/ipython-doc/3/config/extensions/autoreload.html) which will always reload modules marked with `%aimport`.\n",
    "\n",
    "This behavior can be inverted by running `autoreload 2` which will set everything to be auto-reloaded *except* for modules marked with `%aimport`."
   ]
  },
  {
   "cell_type": "code",
   "execution_count": 497,
   "metadata": {},
   "outputs": [
    {
     "name": "stdout",
     "output_type": "stream",
     "text": [
      "The autoreload extension is already loaded. To reload it, use:\n",
      "  %reload_ext autoreload\n"
     ]
    }
   ],
   "source": [
    "# Load `autoreload` extension\n",
    "%load_ext autoreload\n",
    "# Set autoreload behavior\n",
    "%autoreload 1"
   ]
  },
  {
   "cell_type": "markdown",
   "metadata": {},
   "source": [
    "Load `matplotlib` in one of the more `jupyter`-friendly [rich-output modes](https://ipython.readthedocs.io/en/stable/interactive/plotting.html). Some options (that may or may not have worked) are `inline`, `notebook`, and `gtk`."
   ]
  },
  {
   "cell_type": "code",
   "execution_count": 498,
   "metadata": {},
   "outputs": [],
   "source": [
    "# Set the matplotlib mode.\n",
    "%matplotlib inline"
   ]
  },
  {
   "cell_type": "markdown",
   "metadata": {},
   "source": [
    "### Imports"
   ]
  },
  {
   "cell_type": "markdown",
   "metadata": {},
   "source": [
    "Static imports that shouldn't necessarily change throughout the notebook."
   ]
  },
  {
   "cell_type": "code",
   "execution_count": 499,
   "metadata": {},
   "outputs": [],
   "source": [
    "# Standard library imports\n",
    "import logging\n",
    "import os\n",
    "from pathlib import Path\n",
    "from copy import deepcopy\n",
    "\n",
    "# Third party\n",
    "import IPython as ipy\n",
    "import matplotlib.pyplot as plt\n",
    "import numpy as np\n",
    "import pandas as pd\n",
    "import seaborn as sns\n",
    "import tensorflow as tf\n",
    "from pstar import pdict"
   ]
  },
  {
   "cell_type": "markdown",
   "metadata": {},
   "source": [
    "Local imports that may or may not be autoreloaded. This section contains things that will likely have to be re-imported multiple times, and have additions or subtractions made throughout the project."
   ]
  },
  {
   "cell_type": "code",
   "execution_count": 500,
   "metadata": {},
   "outputs": [],
   "source": [
    "# Task script\n",
    "%aimport leabratf.tasks.combinatorics.combigen\n",
    "import leabratf.tasks.combinatorics.combigen as cg\n",
    "# Visualization for the task\n",
    "%aimport leabratf.visualization.combigen_heatmap\n",
    "import leabratf.visualization.combigen_heatmap as cgh\n",
    "# Metrics visulaization\n",
    "%aimport leabratf.visualization.metrics\n",
    "import leabratf.visualization.metrics as plt_metrics\n",
    "# Utility functions\n",
    "%aimport leabratf.utils\n",
    "from leabratf.utils import setup_logging\n",
    "%aimport leabratf.constants\n",
    "from leabratf.constants import DIR_DATA_PROC\n",
    "%aimport leabratf.tasks.combinatorics.default_configuration\n",
    "from leabratf.tasks.combinatorics.default_configuration import default_config"
   ]
  },
  {
   "cell_type": "markdown",
   "metadata": {},
   "source": [
    "### Initial Setup"
   ]
  },
  {
   "cell_type": "markdown",
   "metadata": {},
   "source": [
    "Set [seaborn defaults](https://seaborn.pydata.org/generated/seaborn.set.html) for matplotlib."
   ]
  },
  {
   "cell_type": "code",
   "execution_count": 501,
   "metadata": {},
   "outputs": [],
   "source": [
    "sns.set()\n",
    "sns.set_context(\"notebook\")"
   ]
  },
  {
   "cell_type": "markdown",
   "metadata": {},
   "source": [
    "Set up the logger configuration to something more useful than baseline. Creates log files for the different log levels in the `logs` directory.\n",
    "\n",
    "See `logging.yml` for the exact logging configuration."
   ]
  },
  {
   "cell_type": "code",
   "execution_count": 502,
   "metadata": {},
   "outputs": [],
   "source": [
    "# Run base logger setup\n",
    "setup_logging()\n",
    "# Define a logger object\n",
    "logger = logging.getLogger('leabratf')\n",
    "# Don't propagate messages\n",
    "logger.propagate = False"
   ]
  },
  {
   "cell_type": "markdown",
   "metadata": {},
   "source": [
    "### Default Configuration"
   ]
  },
  {
   "cell_type": "code",
   "execution_count": 667,
   "metadata": {},
   "outputs": [],
   "source": [
    "# Define the base experiment configuration\n",
    "cfg = default_config()\n",
    "# Overwrite any configuration values here\n",
    "cfg.tf_device = '/device:CPU:0'"
   ]
  },
  {
   "cell_type": "code",
   "execution_count": 685,
   "metadata": {},
   "outputs": [
    {
     "name": "stdout",
     "output_type": "stream",
     "text": [
      "{'_config': True,\n",
      " '_name': 'train',\n",
      " 'batch_size': 1,\n",
      " 'dims': 2,\n",
      " 'epochs': 500,\n",
      " 'line_stats': [[1, 1, 1, 1, 1], [1, 1, 1, 1, 1]],\n",
      " 'lr': 0.01,\n",
      " 'n_epochs_acc': 25,\n",
      " 'n_hidden_1': 100,\n",
      " 'n_inputs': 100,\n",
      " 'n_lines': 2,\n",
      " 'n_models': 10,\n",
      " 'n_outputs': 40,\n",
      " 'n_samples': 100,\n",
      " 'n_test': 500,\n",
      " 'n_train': 100,\n",
      " 'n_updates': 2,\n",
      " 'n_val': 50,\n",
      " 'optimizer': 'sgd',\n",
      " 'size': 5,\n",
      " 'slots': 4,\n",
      " 'tf_device': '/device:CPU:0'}\n",
      "<class 'pstar.pstar.pdict'>\n"
     ]
    }
   ],
   "source": [
    "# Define a config dict constructor based on the cfg above\n",
    "default_nb_config = lambda **kwargs: default_config(**deepcopy(cfg).update(**kwargs))\n",
    "# Training set config\n",
    "training_set_config = default_nb_config(_name='train')\n",
    "print(training_set_config, type(training_set_config), sep='\\n')"
   ]
  },
  {
   "cell_type": "markdown",
   "metadata": {},
   "source": [
    "#### Datasets\n",
    "\n",
    "Here we will introduce new line sampling statistics"
   ]
  },
  {
   "cell_type": "code",
   "execution_count": 686,
   "metadata": {},
   "outputs": [],
   "source": [
    "# Uniform, same as before. Not actually needed but here for \n",
    "# comparative purposes\n",
    "uniform = [[1,1,1,1,1], [1,1,1,1,1]]\n",
    "# One element is twice as likely to occur as any other element \n",
    "one_elem = [[2,1,1,1,1], [1,1,1,1,1]]\n",
    "# Two elements are twice as likely to occur as any other element\n",
    "two_elem = [[2,1,1,1,1], [1,1,1,1,2]]\n",
    "# Half the elements are twice as likely to occur as the other half\n",
    "half_elem = [[2,1,2,1,2], [1,2,1,2,1]]\n",
    "\n",
    "# String names for the stats\n",
    "test_names = ['1e', '2e', 'he', 'uni']\n",
    "stats = [one_elem, two_elem, half_elem, uniform]\n",
    "# Arrange these into a dictionary\n",
    "stats_dict = pdict({name : stat for name, stat in zip(test_names, stats)})\n",
    "\n",
    "# Testing Set experiment configurations\n",
    "testing_set_configs = pdict({name : default_nb_config(line_stats=stat, \n",
    "                                                      batch_size=cfg.n_test,\n",
    "                                                      n_samples=cfg.n_test,\n",
    "                                                      _name=name)\n",
    "                            for name, stat in stats_dict.items()})"
   ]
  },
  {
   "cell_type": "code",
   "execution_count": 687,
   "metadata": {},
   "outputs": [],
   "source": [
    "def np_datasets(configs):\n",
    "    datasets = pdict()\n",
    "    inner_config = configs\n",
    "    if hasattr(inner_config, '_config') and inner_config._config:\n",
    "        inner_config = pdict({inner_config._name : inner_config})\n",
    "        \n",
    "    for name, exp_cfg in inner_config.items():\n",
    "        # Generate the datasets\n",
    "        y_data = cg.generate_labels(n_samples=exp_cfg.n_samples, \n",
    "                                    slots=exp_cfg.slots, \n",
    "                                    size=exp_cfg.size, \n",
    "                                    dims=exp_cfg.dims, \n",
    "                                    n_lines=exp_cfg.n_lines,\n",
    "                                    line_stats=exp_cfg.line_stats)\n",
    "        x_data = cg.inverse_transform(y_data)\n",
    "        # Add them to the datasets pdict\n",
    "        datasets[name] = (x_data, y_data)\n",
    "    return datasets\n",
    "    \n",
    "# Single pdict of x,y datasets\n",
    "dataset_configs = pdict({training_set_config._name: training_set_config}).update(\n",
    "    testing_set_configs)\n",
    "np_datasets = np_datasets(dataset_configs)"
   ]
  },
  {
   "cell_type": "markdown",
   "metadata": {},
   "source": [
    "## Background\n",
    "\n",
    "This section goes over some of the background information for the notebook using results from previous notebooks. This first section shows the task as always, but then will also go over the previous training curves."
   ]
  },
  {
   "cell_type": "markdown",
   "metadata": {},
   "source": [
    "### The Combigen Task\n",
    "\n",
    "Quickly remind ourselves what the task looks like before diving in."
   ]
  },
  {
   "cell_type": "code",
   "execution_count": 688,
   "metadata": {},
   "outputs": [
    {
     "data": {
      "image/png": "[encoded data removed]",
      "text/plain": [
       "<Figure size 432x288 with 40 Axes>"
      ]
     },
     "metadata": {},
     "output_type": "display_data"
    }
   ],
   "source": [
    "cgh.visualize_combigen(5)\n",
    "plt.show()"
   ]
  },
  {
   "cell_type": "markdown",
   "metadata": {},
   "source": [
    "### Adam Optimizer Performance Thus Far\n",
    "\n",
    "In [nb-0.7](0.7-Replicating-Results-with-the-Updated-Task.ipynb) we showed that Adam Optimizer still performed better than the standard model."
   ]
  },
  {
   "cell_type": "markdown",
   "metadata": {},
   "source": [
    "## Setting Up the Graph\n",
    "\n",
    "This next section will define the computational graph that will be used to generate the metrics down below. It is largely code copied from nb-0.3, so skip around as needed."
   ]
  },
  {
   "cell_type": "code",
   "execution_count": 689,
   "metadata": {},
   "outputs": [],
   "source": [
    "# Cleanup any residual nodes\n",
    "tf.reset_default_graph()"
   ]
  },
  {
   "cell_type": "markdown",
   "metadata": {},
   "source": [
    "### Make the Different Datasets\n",
    "\n",
    "Define the various `tf.Dataset`s that will be used including the ones with the different statistics."
   ]
  },
  {
   "cell_type": "code",
   "execution_count": 690,
   "metadata": {},
   "outputs": [],
   "source": [
    "def make_tf_datasets(datasets, configs, init_ops=None):\n",
    "    # The first step of the setup is that each of the datasets (training, validation, and \n",
    "    # testing) are turned into their own `Dataset` objects.\n",
    "    tf_datasets = pdict(\n",
    "        {name : tf.data.Dataset.from_tensor_slices(\n",
    "            datasets[name]).repeat().batch(configs[name].batch_size)\n",
    "         for name in datasets.keys()})\n",
    "    \n",
    "    # Next, let's define the iterators for each of the datasets, and then add their \n",
    "    # initializations to the `init_ops` list.\n",
    "    # Training iterator\n",
    "    iterators = pdict({name : data.make_initializable_iterator()\n",
    "                      for name, data in tf_datasets.items()})\n",
    "\n",
    "    # Add the initiatlizations to the init opts\n",
    "    init_ops = init_ops or []\n",
    "    init_ops += [iter.initializer for iter in iterators.values()]\n",
    "    \n",
    "    first_dataset = list(tf_datasets.values())[0] \n",
    "    output_types, output_shapes = first_dataset.output_types, first_dataset.output_shapes\n",
    "    \n",
    "    # And finally, the interesting part. Rather than creating separate next elements for \n",
    "    # the model, the `tf.data` API has a string handler iterator so we can contextually \n",
    "    # switch the active `Dataset` object, resulting in different values being used for `x` \n",
    "    # and `y`.\n",
    "\n",
    "    # The way this is done is by defining a `tf.placeholder` variable, which is used \n",
    "    # first to create a string handler iterator, and later to hold the dataset-indicating \n",
    "    # string handle. The string handler iterator is what then changes the values of `x` and \n",
    "    # `y`, naturally also supplying them using the `get_next` method.\n",
    "    # The placeholder variable of type string\n",
    "    handle = tf.placeholder(tf.string, shape=[])\n",
    "    \n",
    "    # Iterator from string handle\n",
    "    handle_iterator = tf.data.Iterator.from_string_handle(\n",
    "        handle, output_types, output_shapes)\n",
    "\n",
    "    # x and y that will be used in the graph\n",
    "    x, y = handle_iterator.get_next()\n",
    "    \n",
    "    return x, y, iterators, handle, init_ops"
   ]
  },
  {
   "cell_type": "markdown",
   "metadata": {},
   "source": [
    "### TF Variables\n",
    "\n",
    "Straight forward section where we define the weights and biases. One thing to note is that the weights are initialized using the `tf.contrib.layers.xavier_initializer`. \n",
    "\n",
    "Additionally, create an empty list that will contain the initialization operations to be performed at the start of a session."
   ]
  },
  {
   "cell_type": "code",
   "execution_count": 691,
   "metadata": {},
   "outputs": [],
   "source": [
    "# Weights and biases\n",
    "weights = {\n",
    "    'h1': tf.get_variable(name='w_h1', shape=[cfg.n_inputs, cfg.n_hidden_1],\n",
    "                      initializer=tf.contrib.layers.xavier_initializer()),\n",
    "    'out': tf.get_variable(name='w_out', shape=[cfg.n_hidden_1, cfg.n_outputs],\n",
    "                      initializer=tf.contrib.layers.xavier_initializer()),\n",
    "}\n",
    "biases = {\n",
    "    'b1': tf.get_variable(name=\"b_1\", shape=[cfg.n_hidden_1], \n",
    "                      initializer=tf.zeros_initializer()),\n",
    "    'out': tf.get_variable(name=\"b_out\", shape=[cfg.n_outputs], \n",
    "                      initializer=tf.zeros_initializer()),\n",
    "}\n",
    "\n",
    "init_ops = []"
   ]
  },
  {
   "cell_type": "markdown",
   "metadata": {},
   "source": [
    "### Model and Metrics\n",
    "\n",
    "The architecture is the same as previous notebooks. See `nb-0.3` for more details."
   ]
  },
  {
   "cell_type": "code",
   "execution_count": 692,
   "metadata": {},
   "outputs": [],
   "source": [
    "def oreilly_model(inputs, config):\n",
    "    # Reshape for hidden layer\n",
    "    inputs = tf.reshape(inputs, shape=[-1, config.n_inputs])\n",
    "    # Single hidden layer\n",
    "    inputs = tf.sigmoid(tf.add(tf.matmul(inputs, weights['h1']), biases['b1']))\n",
    "    # Output layer\n",
    "    inputs = tf.add(tf.matmul(inputs, weights['out']), biases['out'])\n",
    "    # Reshape for labels\n",
    "    return tf.reshape(inputs, shape=[-1, config.slots, config.size, config.dims])"
   ]
  },
  {
   "cell_type": "code",
   "execution_count": 693,
   "metadata": {},
   "outputs": [],
   "source": [
    "with tf.device(cfg.tf_device):\n",
    "    # Get the relevant dataset nodes\n",
    "    x, y, iterators, handler, init_ops = make_tf_datasets(\n",
    "        np_datasets, dataset_configs, init_ops)\n",
    "\n",
    "    # Build the model\n",
    "    logits = oreilly_model(x, config=cfg)\n",
    "    # Ensure y is cast to the same type as logits\n",
    "    labels = tf.cast(y, logits.dtype)\n",
    "    \n",
    "    # We will keep this in for now\n",
    "    # Define alpha as placeholder variable\n",
    "    alpha_ph = tf.placeholder(tf.float32, shape=[])\n",
    "\n",
    "    # Define loss and optimizer\n",
    "    loss_op = tf.reduce_mean(tf.nn.sigmoid_cross_entropy_with_logits(\n",
    "        logits=logits, labels=labels))\n",
    "\n",
    "    # Define some intermediate nodes\n",
    "    predictions = tf.sigmoid(logits)\n",
    "    rounded_predictions = tf.round(predictions)\n",
    "    equal_labels_and_preds = tf.equal(rounded_predictions, labels)\n",
    "    \n",
    "    # O'Reilly Accuracy \n",
    "    axis_acc = tf.reduce_all(equal_labels_and_preds, axis=(2))\n",
    "    slot_acc = tf.reduce_all(axis_acc, axis=(2))\n",
    "    sample_acc = tf.reduce_all(slot_acc, axis=(1))\n",
    " \n",
    "    # Elemental Accuracy \n",
    "    el_acc_op = tf.reduce_mean(tf.cast(equal_labels_and_preds, tf.float32))\n",
    "    # Axis Accuracy\n",
    "    axis_acc_op = tf.reduce_mean(tf.cast(axis_acc, tf.float32))\n",
    "    # Slot Accuracy\n",
    "    slot_acc_op = tf.reduce_mean(tf.cast(slot_acc, tf.float32))\n",
    "    # Sample Accuracy\n",
    "    sample_acc_op = tf.reduce_mean(tf.cast(sample_acc, tf.float32))\n",
    "    \n",
    "    # metric ops\n",
    "    met_op_names = ['loss', 'el_acc', 'ax_acc', 'sl_acc', 'sm_acc']\n",
    "    met_ops = [loss_op, el_acc_op, axis_acc_op, slot_acc_op, sample_acc_op]\n",
    "    # Put them in a dict\n",
    "    met_op_dict = pdict({name : op for name, op in zip(met_op_names, met_ops)})\n",
    "\n",
    "    # Generic metrics dict\n",
    "    generic_metrics_dict = lambda : pdict({name : [] \n",
    "                                           for name in met_op_names+['epoch']})"
   ]
  },
  {
   "cell_type": "markdown",
   "metadata": {},
   "source": [
    "\n",
    "### Varying the Optimizer\n",
    "\n",
    "Let's create several different training operations."
   ]
  },
  {
   "cell_type": "code",
   "execution_count": 694,
   "metadata": {},
   "outputs": [],
   "source": [
    "with tf.device(cfg.tf_device):\n",
    "    # Adam\n",
    "    train_op_adam = tf.train.AdamOptimizer(alpha_ph).minimize(loss_op)\n",
    "    # Adadelta \n",
    "    train_op_adadelta = tf.train.AdadeltaOptimizer(alpha_ph).minimize(loss_op)\n",
    "    # RMSProp\n",
    "    train_op_rmsprop = tf.train.RMSPropOptimizer(alpha_ph).minimize(loss_op)\n",
    "    # SGD\n",
    "    train_op_sgd = tf.train.GradientDescentOptimizer(alpha_ph).minimize(loss_op)\n",
    "    \n",
    "# And now add these to a dictionary\n",
    "optimizer_dict = pdict({\n",
    "    'Adam' : train_op_adam,\n",
    "    'Adadelta' : train_op_adadelta,\n",
    "    'RMSProp' : train_op_rmsprop,\n",
    "    'sgd' : train_op_sgd,\n",
    "})"
   ]
  },
  {
   "cell_type": "markdown",
   "metadata": {},
   "source": [
    "### New Session Function\n",
    "\n",
    "In the event that we do not want to immediately close sessions, we won't be using the context handler but will still need to grab new sessions as necessary. So let's quickly write a function that will properly run `sess.close()` if a previous session exists and then return a new `tf.Session` instance."
   ]
  },
  {
   "cell_type": "code",
   "execution_count": 695,
   "metadata": {},
   "outputs": [],
   "source": [
    "def new_session(*args, **kwargs):\n",
    "    # Try to close the globally defined session if it isn't already\n",
    "    try:\n",
    "        if not sess._closed:\n",
    "            sess.close()\n",
    "    # If it doesn't exist, then just pass\n",
    "    except NameError:\n",
    "        pass\n",
    "    # Return the new instance\n",
    "    return tf.Session(*args, **kwargs)"
   ]
  },
  {
   "cell_type": "markdown",
   "metadata": {},
   "source": [
    "### Defining the Training Function\n",
    "\n",
    "Let's define a function that runs the training routine and accepts the number of epochs as the inputs."
   ]
  },
  {
   "cell_type": "code",
   "execution_count": 696,
   "metadata": {},
   "outputs": [],
   "source": [
    "def train_stats(sess, \n",
    "                lr=cfg.lr, \n",
    "                epochs=cfg.epochs,\n",
    "                train_op=optimizer_dict[cfg.optimizer], \n",
    "                init_ops=None,\n",
    "                n_train=training_set_config.n_train,\n",
    "                n_val=25):\n",
    "    # Ensure this is an int\n",
    "    epochs = int(epochs)\n",
    "    # Dict with the various metrics we care about while training\n",
    "    training_metrics = generic_metrics_dict()\n",
    "    # Testing dict of dicts\n",
    "    testing_metrics = pdict({name : generic_metrics_dict() for name in test_names})\n",
    "    \n",
    "    # Run the initialization ops\n",
    "    init_ops = init_ops or []\n",
    "    init_ops += [tf.global_variables_initializer(), \n",
    "                 tf.local_variables_initializer()]\n",
    "    sess.run(init_ops)\n",
    "    \n",
    "    # Define training and validation handlers\n",
    "    handles = pdict({name : sess.run(iterators[name].string_handle())\n",
    "                    for name in iterators.keys()})\n",
    "        \n",
    "    for epoch in range(epochs):\n",
    "        epoch_metrics = np.zeros([n_train, len(met_ops)])\n",
    "        # Run the training steps\n",
    "        for i in range(n_train):\n",
    "            # Training op and compute metrics\n",
    "            _, *epoch_metrics[i,:] = sess.run(\n",
    "                [train_op] + met_ops,\n",
    "                feed_dict={ \n",
    "                    alpha_ph: lr,\n",
    "                    handler: handles.train})\n",
    "                                    \n",
    "        # Record\n",
    "        for key, mean_val in zip(met_op_names,\n",
    "                                 np.mean(epoch_metrics, axis=0)):\n",
    "            training_metrics[key].append(mean_val)\n",
    "                        \n",
    "        # Calculate the testing metrics every 50 epochs and the last epoch\n",
    "        if not epoch % n_val or epoch == epochs - 1:\n",
    "            # Go through each handle and name\n",
    "            for test_name in test_names:\n",
    "                # Get all the metrics for this testing set\n",
    "                train_ep_data = list(sess.run(\n",
    "                    met_ops,\n",
    "                    feed_dict={handler: handles[test_name]}))\n",
    "                \n",
    "                # Add each metric to its respective list\n",
    "                for met_name, train_val in zip(met_op_names, train_ep_data):\n",
    "                    testing_metrics[test_name][met_name].append(train_val) \n",
    "                testing_metrics[test_name]['epoch'].append(epoch)\n",
    "            \n",
    "            # Print for the user\n",
    "            print((\"Completed epoch {0}/{1}. Epoch accuracy: {2}\").format(\n",
    "                epoch+1, epochs, training_metrics['sm_acc'][-1]))\n",
    "            \n",
    "    return training_metrics, testing_metrics"
   ]
  },
  {
   "cell_type": "markdown",
   "metadata": {},
   "source": [
    "### Defining The Training Routine"
   ]
  },
  {
   "cell_type": "code",
   "execution_count": 697,
   "metadata": {},
   "outputs": [],
   "source": [
    "def exp_stats(epochs=cfg.epochs, \n",
    "              all_train_metrics=None, \n",
    "              all_test_metrics=None,\n",
    "              n_models=cfg.n_models,\n",
    "              lr=cfg.lr,\n",
    "              n_val=25,\n",
    "              optimizer=cfg.optimizer):\n",
    "    \n",
    "    sess = new_session()\n",
    "    all_train_metrics = all_train_metrics or []\n",
    "    all_test_metrics = all_test_metrics or []\n",
    "    train_op = optimizer_dict[optimizer]\n",
    "    \n",
    "    print('Optimizing using {0}'.format(train_op.name))\n",
    "    while len(all_train_metrics) < n_models:\n",
    "        try:\n",
    "            print('Starting training for model {0}.'.format(len(all_train_metrics)))\n",
    "            train_metrics, test_metrics = train_stats(\n",
    "                sess, \n",
    "                epochs=epochs, \n",
    "                lr=lr,\n",
    "                init_ops=init_ops,\n",
    "                n_val=n_val,\n",
    "                train_op=train_op)\n",
    "            \n",
    "            all_train_metrics.append(train_metrics)\n",
    "            all_test_metrics.append(test_metrics)\n",
    "\n",
    "        except KeyboardInterrupt:\n",
    "            print('Encountered a KeyboardInterrupt. Starting a IPython Shell.')\n",
    "            ipy.embed()\n",
    "            inp = ''\n",
    "            while inp.lower() not in ['y', 'n', 's']:\n",
    "                inp = input(\"Continue training? [(Y)es/(N)o]\")\n",
    "            if inp.lower() == 'y':\n",
    "                print('Continuing training...')\n",
    "                continue\n",
    "            else:\n",
    "                print('Exiting')\n",
    "                break\n",
    "                \n",
    "    print('Completed exp with {0} models'.format(len(all_train_metrics)))\n",
    "    return all_train_metrics, all_test_metrics"
   ]
  },
  {
   "cell_type": "markdown",
   "metadata": {},
   "source": [
    "## Adam Optimizer with the Different Training Sets"
   ]
  },
  {
   "cell_type": "markdown",
   "metadata": {},
   "source": [
    "### Getting the Metrics"
   ]
  },
  {
   "cell_type": "code",
   "execution_count": null,
   "metadata": {},
   "outputs": [],
   "source": [
    "%%time\n",
    "adam_train_metrics, adam_test_metrics = exp_stats(\n",
    "    epochs=5000,\n",
    "    n_models=10,\n",
    "    n_val=50,\n",
    "    lr=0.0033,\n",
    "    optimizer='Adam')"
   ]
  },
  {
   "cell_type": "code",
   "execution_count": 716,
   "metadata": {},
   "outputs": [],
   "source": [
    "import pickle"
   ]
  },
  {
   "cell_type": "code",
   "execution_count": 723,
   "metadata": {},
   "outputs": [
    {
     "name": "stdout",
     "output_type": "stream",
     "text": [
      "Wrote to file /home/abdullah_rashed/work/projects/leabra-tf/data/processed/test_statistics/adam_train_metrics.pickle\n",
      "Wrote to file /home/abdullah_rashed/work/projects/leabra-tf/data/processed/test_statistics/adam_test_metrics.pickle\n"
     ]
    }
   ],
   "source": [
    "dryrun = False\n",
    "\n",
    "exp_dir = DIR_DATA_PROC / 'test_statistics'\n",
    "if not exp_dir.exists():\n",
    "    exp_dir.mkdir()\n",
    "    \n",
    "adam_file_names = ['adam_train_metrics.pickle', 'adam_test_metrics.pickle']\n",
    "adam_file_paths = [exp_dir / file for file in adam_file_names]\n",
    "adam_data = [adam_train_metrics, adam_test_metrics]\n",
    "\n",
    "for i, file in enumerate(adam_file_paths):\n",
    "    if not dryrun:\n",
    "        if not file.exists():\n",
    "            file.touch()\n",
    "        assert file.exists()\n",
    "        with open(str(file), 'wb') as fp:\n",
    "            pickle.dump(adam_data[i], fp, protocol=2)\n",
    "        print('Wrote to file {0}'.format(str(file)))\n",
    "    else:\n",
    "        print('Dryrun: did not write to file {0}'.format(str(file)))"
   ]
  },
  {
   "cell_type": "code",
   "execution_count": 729,
   "metadata": {},
   "outputs": [
    {
     "name": "stdout",
     "output_type": "stream",
     "text": [
      "10\n",
      "['loss', 'el_acc', 'ax_acc', 'sl_acc', 'sm_acc', 'epoch']\n",
      "10\n",
      "['1e', '2e', 'he', 'uni']\n"
     ]
    }
   ],
   "source": [
    "for file in adam_file_paths:\n",
    "    assert file.exists(), file\n",
    "    with open(str(file), 'rb') as fp:\n",
    "        data = pickle.load(fp)\n",
    "        print(len(data))\n",
    "        print(list(data[0].keys()))"
   ]
  },
  {
   "cell_type": "code",
   "execution_count": null,
   "metadata": {},
   "outputs": [],
   "source": [
    "%%time\n",
    "sgd_train_metrics, sgd_test_metrics = exp_stats(\n",
    "    epochs=5000,\n",
    "    n_models=10,\n",
    "    n_val=20,\n",
    "    lr=0.1,\n",
    "    optimizer='sgd')"
   ]
  },
  {
   "cell_type": "code",
   "execution_count": 733,
   "metadata": {},
   "outputs": [
    {
     "name": "stdout",
     "output_type": "stream",
     "text": [
      "Wrote to file /home/abdullah_rashed/work/projects/leabra-tf/data/processed/test_statistics/sgd_train_metrics.pickle\n",
      "Wrote to file /home/abdullah_rashed/work/projects/leabra-tf/data/processed/test_statistics/sgd_test_metrics.pickle\n"
     ]
    }
   ],
   "source": [
    "dryrun = False\n",
    "\n",
    "sgd_file_names = ['sgd_train_metrics.pickle', 'sgd_test_metrics.pickle']\n",
    "sgd_file_paths = [exp_dir / file for file in sgd_file_names]\n",
    "sgd_data = [sgd_train_metrics, sgd_test_metrics]\n",
    "\n",
    "for i, file in enumerate(sgd_file_paths):\n",
    "    if not dryrun:\n",
    "        if not file.exists():\n",
    "            file.touch()\n",
    "        assert file.exists()\n",
    "        with open(str(file), 'wb') as fp:\n",
    "            pickle.dump(sgd_data[i], fp, protocol=2)\n",
    "        print('Wrote to file {0}'.format(str(file)))\n",
    "    else:\n",
    "        print('Dryrun: did not write to file {0}'.format(str(file)))"
   ]
  },
  {
   "cell_type": "code",
   "execution_count": null,
   "metadata": {},
   "outputs": [],
   "source": [
    "for name in met_op_names:\n",
    "    plt.plot(adam_test_metrics[0]['1e']['epoch'], adam_test_metrics[0]['1e'][name], label=name)\n",
    "plt.xlabel('Epochs')\n",
    "plt.legend()\n",
    "plt.show()"
   ]
  },
  {
   "cell_type": "code",
   "execution_count": 701,
   "metadata": {},
   "outputs": [
    {
     "data": {
      "image/png": "[encoded data removed]",
      "text/plain": [
       "<Figure size 432x288 with 1 Axes>"
      ]
     },
     "metadata": {},
     "output_type": "display_data"
    }
   ],
   "source": [
    "met = 'sm_acc'\n",
    "for test_stat in test_names:\n",
    "    for i, model in enumerate(adam_test_metrics):\n",
    "        plt.plot(model[test_stat]['epoch'], \n",
    "                 model[test_stat][met], \n",
    "                 label='Stat: {}'.format(test_stat),\n",
    "                )\n",
    "    \n",
    "handles, labels = plt.gca().get_legend_handles_labels()\n",
    "by_label = dict(zip(labels, handles))\n",
    "plt.legend(by_label.values(), by_label.keys())\n",
    "\n",
    "plt.xlabel('Epochs')\n",
    "# plt.legend()\n",
    "plt.show()"
   ]
  },
  {
   "cell_type": "code",
   "execution_count": null,
   "metadata": {},
   "outputs": [],
   "source": [
    "from leabratf.utils import set_plot_size\n",
    "\n",
    "@set_plot_size()\n",
    "def plot_df_metrics(metrics_df, metrics=None, title='Training History',\n",
    "                    epochs=None, key_by_model=False, model_average=False,\n",
    "                    epoch_vline=500):\n",
    "    # What metrics to plot\n",
    "    metrics = metrics or metrics_df.columns\n",
    "    # Empty lists for the long form data\n",
    "    long_epochs, long_metrics, long_hues, long_units = [], [], [], []\n",
    "    \n",
    "    # Loop through each model's data\n",
    "    for i, metrics_series in metrics_df.iterrows():\n",
    "        # Series data is in a string format, convert to floats and put them in a\n",
    "        # dict\n",
    "        if isinstance(metrics_series[metrics[0]], str):\n",
    "            metrics_dict = {key: [float(val)\n",
    "                                  for val in literal_eval(metrics_series[key])]\n",
    "                            for key in metrics}\n",
    "            \n",
    "        else:\n",
    "            metrics_dict = {key: [val for val in metrics_series[key]]\n",
    "                            for key in metrics}\n",
    "        \n",
    "        # How many epochs to plot\n",
    "        if not epochs:\n",
    "            len_metrics = [len(val) for val in metrics_dict.values()]\n",
    "            # Plot the number of epochs according to the data with the shortest\n",
    "            # number of epochs.\n",
    "            epochs = min(len_metrics)\n",
    "\n",
    "        # Add to the long form lists\n",
    "        for key in metrics:\n",
    "            label = key if not key_by_model else 'Model {0}'.format(i)\n",
    "            units = i if not key_by_model else key\n",
    "            long_epochs += list(range(epochs))\n",
    "            long_metrics += metrics_dict[key][:epochs]\n",
    "            long_hues += [label]*epochs\n",
    "            long_units += [units]*epochs\n",
    "\n",
    "    if model_average:\n",
    "        sns.lineplot(x=long_epochs, y=long_metrics, hue=long_hues, \n",
    "                     estimator='mean')\n",
    "    # Plot each line individually\n",
    "    else:\n",
    "        sns.lineplot(x=long_epochs, y=long_metrics, hue=long_hues, \n",
    "                     estimator=None, units=long_units)\n",
    "\n",
    "    # Title, axis, and 500 epoch line\n",
    "    plt.title(title)\n",
    "    plt.xlabel('Epochs')\n",
    "    if epoch_vline and epochs > epoch_vline:\n",
    "        plt.axvline(epoch_vline, linestyle='--', label='{0} Epochs'.format(\n",
    "            epoch_vline))\n",
    "        \n",
    "    # Prune down the number of labels to just the unique ones\n",
    "    handles, labels = plt.gca().get_legend_handles_labels()\n",
    "    by_label = dict(zip(labels, handles))\n",
    "    plt.legend(by_label.values(), by_label.keys())\n"
   ]
  },
  {
   "cell_type": "code",
   "execution_count": 781,
   "metadata": {},
   "outputs": [],
   "source": [
    "# Losses\n",
    "min_loss_sgd_train = [min(met['loss']) for met in sgd_train_metrics]\n",
    "min_loss_adam_train = [min(met['loss']) for met in adam_train_metrics]\n",
    "max_mets_sgd_test = {name : [max(met[name]['sm_acc']) for met in sgd_test_metrics] \n",
    "                     for name in sgd_test_metrics[0].keys()}\n",
    "max_mets_adam_test = {name : [max(met[name]['sm_acc']) for met in adam_test_metrics] \n",
    "                     for name in adam_test_metrics[0].keys()}"
   ]
  },
  {
   "cell_type": "code",
   "execution_count": 782,
   "metadata": {},
   "outputs": [
    {
     "data": {
      "text/plain": [
       "array(['Adam', 'Adam', 'Adam', 'Adam', 'Adam', 'Adam', 'Adam', 'Adam',\n",
       "       'Adam', 'Adam', 'SGD', 'SGD', 'SGD', 'SGD', 'SGD', 'SGD', 'SGD',\n",
       "       'SGD', 'SGD', 'SGD'], dtype='<U4')"
      ]
     },
     "execution_count": 782,
     "metadata": {},
     "output_type": "execute_result"
    }
   ],
   "source": [
    "optimizer_labels = np.repeat(['Adam', 'SGD'], 10)\n",
    "optimizer_labels"
   ]
  },
  {
   "cell_type": "code",
   "execution_count": 783,
   "metadata": {},
   "outputs": [],
   "source": [
    "data_loss = min_loss_adam_train + min_loss_sgd_train\n",
    "data_dict = {key : max_mets_adam_test[key] + max_mets_sgd_test[key]\n",
    "            for key in max_mets_adam_test.keys()}\n",
    "data_dict['Loss'] = data_loss\n",
    "data_dict['Optimizer'] = optimizer_labels"
   ]
  },
  {
   "cell_type": "code",
   "execution_count": 784,
   "metadata": {},
   "outputs": [],
   "source": [
    "metric_labels = []\n",
    "metric_values = []\n",
    "optimizer_labels = []\n",
    "for key in max_mets_adam_test.keys():\n",
    "    metric_values += max_mets_adam_test[key] + max_mets_sgd_test[key]\n",
    "    metric_labels +=  [key] * 20\n",
    "    optimizer_labels += ['Adam'] * 10 + ['SGD'] * 10\n"
   ]
  },
  {
   "cell_type": "code",
   "execution_count": 785,
   "metadata": {},
   "outputs": [
    {
     "data": {
      "text/html": [
       "<div>\n",
       "<style scoped>\n",
       "    .dataframe tbody tr th:only-of-type {\n",
       "        vertical-align: middle;\n",
       "    }\n",
       "\n",
       "    .dataframe tbody tr th {\n",
       "        vertical-align: top;\n",
       "    }\n",
       "\n",
       "    .dataframe thead th {\n",
       "        text-align: right;\n",
       "    }\n",
       "</style>\n",
       "<table border=\"1\" class=\"dataframe\">\n",
       "  <thead>\n",
       "    <tr style=\"text-align: right;\">\n",
       "      <th></th>\n",
       "      <th>Values</th>\n",
       "      <th>Datasets</th>\n",
       "      <th>Optimizer</th>\n",
       "    </tr>\n",
       "  </thead>\n",
       "  <tbody>\n",
       "    <tr>\n",
       "      <th>0</th>\n",
       "      <td>0.338</td>\n",
       "      <td>1e</td>\n",
       "      <td>Adam</td>\n",
       "    </tr>\n",
       "    <tr>\n",
       "      <th>1</th>\n",
       "      <td>0.400</td>\n",
       "      <td>1e</td>\n",
       "      <td>Adam</td>\n",
       "    </tr>\n",
       "    <tr>\n",
       "      <th>2</th>\n",
       "      <td>0.374</td>\n",
       "      <td>1e</td>\n",
       "      <td>Adam</td>\n",
       "    </tr>\n",
       "    <tr>\n",
       "      <th>3</th>\n",
       "      <td>0.368</td>\n",
       "      <td>1e</td>\n",
       "      <td>Adam</td>\n",
       "    </tr>\n",
       "    <tr>\n",
       "      <th>4</th>\n",
       "      <td>0.354</td>\n",
       "      <td>1e</td>\n",
       "      <td>Adam</td>\n",
       "    </tr>\n",
       "  </tbody>\n",
       "</table>\n",
       "</div>"
      ],
      "text/plain": [
       "   Values Datasets Optimizer\n",
       "0   0.338       1e      Adam\n",
       "1   0.400       1e      Adam\n",
       "2   0.374       1e      Adam\n",
       "3   0.368       1e      Adam\n",
       "4   0.354       1e      Adam"
      ]
     },
     "execution_count": 785,
     "metadata": {},
     "output_type": "execute_result"
    }
   ],
   "source": [
    "data_dict = {'Values' : metric_values,\n",
    "             'Datasets' : metric_labels,\n",
    "             'Optimizer' : optimizer_labels}\n",
    "data_df = pd.DataFrame(data_dict)\n",
    "data_df.head()"
   ]
  },
  {
   "cell_type": "markdown",
   "metadata": {},
   "source": [
    "## Plotting Results"
   ]
  },
  {
   "cell_type": "markdown",
   "metadata": {},
   "source": [
    "### Comparing Datasets"
   ]
  },
  {
   "cell_type": "code",
   "execution_count": 786,
   "metadata": {},
   "outputs": [
    {
     "data": {
      "image/png": "[encoded data removed]",
      "text/plain": [
       "<Figure size 432x288 with 1 Axes>"
      ]
     },
     "metadata": {},
     "output_type": "display_data"
    }
   ],
   "source": [
    "sns.swarmplot(x=\"Datasets\", y=\"Values\", hue=\"Optimizer\", data=data_df)\n",
    "plt.title('Sample Accuracy of Adam vs SGD')\n",
    "plt.show()"
   ]
  }
 ],
 "metadata": {
  "anaconda-cloud": {},
  "kernelspec": {
   "display_name": "Python 3",
   "language": "python",
   "name": "python3"
  },
  "language_info": {
   "codemirror_mode": {
    "name": "ipython",
    "version": 3
   },
   "file_extension": ".py",
   "mimetype": "text/x-python",
   "name": "python",
   "nbconvert_exporter": "python",
   "pygments_lexer": "ipython3",
   "version": "3.6.8"
  }
 },
 "nbformat": 4,
 "nbformat_minor": 2
}
