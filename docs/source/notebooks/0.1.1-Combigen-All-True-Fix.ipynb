{
 "cells": [
  {
   "cell_type": "markdown",
   "metadata": {},
   "source": [
    "# 0.1.1 Combigen All-True Fix\n",
    "\n",
    "While working on nb 0.2 I spotted a corner case for the task that would make it impossible to classify, which is the situation where one of the columns in the label is completely on. \n",
    "\n",
    "Rather than having this be part of that nb, I've split it off since it doesn't fit the theme of that analysis."
   ]
  },
  {
   "cell_type": "markdown",
   "metadata": {},
   "source": [
    "## Jupyter Extensions"
   ]
  },
  {
   "cell_type": "markdown",
   "metadata": {},
   "source": [
    "Load [watermark](https://github.com/rasbt/watermark) to see the state of the machine and environment that's running the notebook. To make sense of the options, take a look at the [usage](https://github.com/rasbt/watermark#usage) section of the readme."
   ]
  },
  {
   "cell_type": "code",
   "execution_count": 3,
   "metadata": {},
   "outputs": [
    {
     "name": "stdout",
     "output_type": "stream",
     "text": [
      "The watermark extension is already loaded. To reload it, use:\n",
      "  %reload_ext watermark\n",
      "Sun Feb 17 2019 13:52:06 \n",
      "\n",
      "CPython 3.6.8\n",
      "IPython 7.2.0\n",
      "\n",
      "numpy 1.15.4\n",
      "matplotlib 3.0.2\n",
      "seaborn 0.9.0\n",
      "\n",
      "compiler   : GCC 7.3.0\n",
      "system     : Linux\n",
      "release    : 4.15.0-45-generic\n",
      "machine    : x86_64\n",
      "processor  : x86_64\n",
      "CPU cores  : 4\n",
      "interpreter: 64bit\n",
      "Git hash   : 6a8ddc3dde5c2553d43e638fb6b205fc9189ac12\n",
      "Git branch : resnet\n"
     ]
    }
   ],
   "source": [
    "# Load `watermark` extension\n",
    "%load_ext watermark\n",
    "# Display the status of the machine and packages. Add more as necessary.\n",
    "%watermark -v -n -m -g -b -t -p numpy,matplotlib,seaborn"
   ]
  },
  {
   "cell_type": "markdown",
   "metadata": {},
   "source": [
    "Load [autoreload](https://ipython.org/ipython-doc/3/config/extensions/autoreload.html) which will always reload modules marked with `%aimport`.\n",
    "\n",
    "This behavior can be inverted by running `autoreload 2` which will set everything to be auto-reloaded *except* for modules marked with `%aimport`."
   ]
  },
  {
   "cell_type": "code",
   "execution_count": 5,
   "metadata": {},
   "outputs": [
    {
     "name": "stdout",
     "output_type": "stream",
     "text": [
      "The autoreload extension is already loaded. To reload it, use:\n",
      "  %reload_ext autoreload\n"
     ]
    }
   ],
   "source": [
    "# Load `autoreload` extension\n",
    "%load_ext autoreload\n",
    "# Set autoreload behavior\n",
    "%autoreload 1"
   ]
  },
  {
   "cell_type": "markdown",
   "metadata": {},
   "source": [
    "Load `matplotlib` in one of the more `jupyter`-friendly [rich-output modes](https://ipython.readthedocs.io/en/stable/interactive/plotting.html). Some options (that may or may not have worked) are `inline`, `notebook`, and `gtk`."
   ]
  },
  {
   "cell_type": "code",
   "execution_count": 6,
   "metadata": {},
   "outputs": [],
   "source": [
    "# Set the matplotlib mode\n",
    "%matplotlib inline"
   ]
  },
  {
   "cell_type": "markdown",
   "metadata": {},
   "source": [
    "## Imports"
   ]
  },
  {
   "cell_type": "markdown",
   "metadata": {},
   "source": [
    "Static imports that shouldn't necessarily change throughout the notebook."
   ]
  },
  {
   "cell_type": "code",
   "execution_count": 9,
   "metadata": {},
   "outputs": [],
   "source": [
    "# Standard library imports\n",
    "import logging\n",
    "\n",
    "# Third party\n",
    "import matplotlib.pyplot as plt\n",
    "import numpy as np\n",
    "import seaborn as sns"
   ]
  },
  {
   "cell_type": "markdown",
   "metadata": {},
   "source": [
    "Local imports that may or may not be autoreloaded. This section contains things that will likely have to be re-imported multiple times, and have additions or subtractions made throughout the project."
   ]
  },
  {
   "cell_type": "code",
   "execution_count": 10,
   "metadata": {},
   "outputs": [],
   "source": [
    "# Task script\n",
    "%aimport leabratf.tasks.combinatorics.combigen\n",
    "import leabratf.tasks.combinatorics.combigen as cbg\n",
    "# Visualization for the task\n",
    "%aimport leabratf.visualization.combigen_heatmap\n",
    "import leabratf.visualization.combigen_heatmap as cbhm\n",
    "# Utility functions\n",
    "%aimport leabratf.utils\n",
    "from leabratf.utils import setup_logging"
   ]
  },
  {
   "cell_type": "markdown",
   "metadata": {},
   "source": [
    "## Initial Setup"
   ]
  },
  {
   "cell_type": "markdown",
   "metadata": {},
   "source": [
    "Set [seaborn defaults](https://seaborn.pydata.org/generated/seaborn.set.html) for matplotlib."
   ]
  },
  {
   "cell_type": "code",
   "execution_count": 11,
   "metadata": {},
   "outputs": [],
   "source": [
    "sns.set()"
   ]
  },
  {
   "cell_type": "markdown",
   "metadata": {},
   "source": [
    "Set up the logger configuration to something more useful than baseline. Creates log files for the different log levels in the `logs` directory.\n",
    "\n",
    "See `logging.yml` for the exact logging configuration."
   ]
  },
  {
   "cell_type": "code",
   "execution_count": 13,
   "metadata": {},
   "outputs": [],
   "source": [
    "# Run base logger setup\n",
    "setup_logging()\n",
    "# Define a logger object\n",
    "logger = logging.getLogger(\"leabratf\")"
   ]
  },
  {
   "cell_type": "markdown",
   "metadata": {},
   "source": [
    "## The Combigen Task as it Stands\n",
    "\n",
    "Just to remind ourselves what the task looks like. For more detail, check out nb-0.1.\n",
    "\n",
    "The bug was discovered when the implementation of generate labels was the following:"
   ]
  },
  {
   "cell_type": "code",
   "execution_count": 64,
   "metadata": {},
   "outputs": [],
   "source": [
    "def generate_labels(n_samples=1, size=5, dims=2):\n",
    "    \"\"\"...\"\"\"\n",
    "    return np.random.choice(2, (n_samples, size, dims), True)"
   ]
  },
  {
   "cell_type": "markdown",
   "metadata": {},
   "source": [
    "Let's visualize a few `y` and `x` combinations: "
   ]
  },
  {
   "cell_type": "code",
   "execution_count": 21,
   "metadata": {},
   "outputs": [
    {
     "name": "stderr",
     "output_type": "stream",
     "text": [
      "2019-02-17 14:02:22 apra-xps13 leabratf.utils[28642] WARNING First argument passed is not of type `np.ndarray`. Skipping reshape operation.\n",
      "2019-02-17 14:02:22 apra-xps13 leabratf.utils[28642] WARNING First argument passed is not of type `np.ndarray`. Skipping reshape operation.\n"
     ]
    },
    {
     "data": {
      "image/png": "[encoded data removed]",
      "text/plain": [
       "<Figure size 432x288 with 2 Axes>"
      ]
     },
     "metadata": {},
     "output_type": "display_data"
    },
    {
     "data": {
      "image/png": "[encoded data removed]",
      "text/plain": [
       "<Figure size 432x288 with 2 Axes>"
      ]
     },
     "metadata": {},
     "output_type": "display_data"
    }
   ],
   "source": [
    "def visualize_combigen(func=generate_labels, n_pairs=2, *args, **kwargs):\n",
    "    \"\"\"Plot N x and y pairs of the combigen task\"\"\"\n",
    "    # Visulize a few combinations of x and y\n",
    "    for _ in range(n_pairs):\n",
    "        # Generate a signle y\n",
    "        example_y = func( *args, **kwargs) # cbg.generate_labels for the real thing\n",
    "        # Generate a single x from the y\n",
    "        example_x = cbg.inverse_transform(example_y)\n",
    "        cbhm.heatmap([example_y, example_x[0]], gridspec_kw={'width_ratios': [2, 5]}, sharex=False)\n",
    "        \n",
    "visualize_combigen()\n",
    "plt.show()"
   ]
  },
  {
   "cell_type": "markdown",
   "metadata": {},
   "source": [
    "It took a couple tries but the first image demonstrates the bug relatively well. We can make this observation more concrete:"
   ]
  },
  {
   "cell_type": "code",
   "execution_count": 61,
   "metadata": {},
   "outputs": [
    {
     "name": "stdout",
     "output_type": "stream",
     "text": [
      "Checking sums.\n",
      "\"0\" present in sum: True. Counts: 62282\n",
      "\"1\" present in sum: True. Counts: 312218\n",
      "\"2\" present in sum: True. Counts: 625850\n",
      "\"3\" present in sum: True. Counts: 624977\n",
      "\"4\" present in sum: True. Counts: 312059\n",
      "\"5\" present in sum: True. Counts: 62614\n"
     ]
    }
   ],
   "source": [
    "def test_all_label_counts(func=generate_labels, n_labels=1000000, *args, **kwargs):\n",
    "    \"\"\"Genrates `n_labels` labels and checks their sums.\"\"\"\n",
    "    # Generate a large number of y values to test\n",
    "    large_test_Y = func(n_labels,  *args, **kwargs)\n",
    "    \n",
    "    # Sum over the long dimension of each sample to see how many of them are set to\n",
    "    # the on state. If they are all on, then it will sum to the length of the dim.\n",
    "    label_sums = np.sum(large_test_Y, axis=1)\n",
    "    values_in_sum = np.isin(range(large_test_Y.shape[1] + 1), label_sums)\n",
    "    \n",
    "    # Get unique values in the sum and their counts and put them in a dict\n",
    "    count_dict = {val:count for val, count in zip(\n",
    "        *np.unique(label_sums, return_counts=True))}\n",
    "    # Sanity check\n",
    "    assert sum(count_dict.values()) == n_labels * large_test_Y.shape[2]\n",
    "    \n",
    "    # We should see that all values up to the last one are set to True\n",
    "    print('Checking sums.')\n",
    "    for i, present in enumerate(values_in_sum):\n",
    "        print('\"{0}\" present in sum: {1}. Counts: {2}'.format(\n",
    "            i, present , count_dict.get(i) or 0))\n",
    "    \n",
    "# Test run the function\n",
    "test_all_label_counts()"
   ]
  },
  {
   "cell_type": "markdown",
   "metadata": {},
   "source": [
    "Turns out it's getting roughly the same number of all `True` as all `False`, which isn't surprising but definitely makes the scope of the problem clear."
   ]
  },
  {
   "cell_type": "markdown",
   "metadata": {},
   "source": [
    "## All-True Fix\n",
    "\n",
    "It is currently defined as the following:\n",
    "\n",
    "```\n",
    "def generate_labels(n_samples=1, size=5, dims=2):\n",
    "    \"\"\"...\"\"\"\n",
    "    return np.random.choice(2, (n_samples, size, dims), True)\n",
    "```\n",
    "\n",
    "So let's tweak it so it ensures that one of the indices are zero."
   ]
  },
  {
   "cell_type": "code",
   "execution_count": 63,
   "metadata": {},
   "outputs": [],
   "source": [
    "def generate_labels_fix(n_samples=1, size=5, dims=2):\n",
    "    \"\"\"Returns an array of labels to construct the data from.\n",
    "\n",
    "    Parameters\n",
    "    ----------\n",
    "    n_samples : int, optional\n",
    "    \tNumber of samples to return.\n",
    "\n",
    "    size : int, optional\n",
    "    \tSize of the nxn matrix to use for the task.\n",
    "\n",
    "    dims : int, optional\n",
    "    \tNumber of dimensions for the task.\n",
    "\n",
    "    Returns\n",
    "    -------\n",
    "    labels : np.ndarray (n_samples x size x dims)\n",
    "    \tThe resulting task labels.\n",
    "    \"\"\"\n",
    "    # Generate baseline labels\n",
    "    raw_labels = np.random.choice(2, (n_samples, size, dims), replace=True)\n",
    "    # Random selection of indices to zero out\n",
    "    arg_zero = np.random.choice(size, (n_samples*dims), replace=True)\n",
    "    # Alternating indices to loop through the dims of the labels\n",
    "    dim_indices = np.tile(range(dims), n_samples)\n",
    "    # Repeating indices to loop through the samples\n",
    "    sample_indices = np.repeat(range(n_samples), dims)\n",
    "    \n",
    "    # Zero out a random selection of indices\n",
    "    raw_labels[sample_indices, arg_zero, dim_indices] = 0\n",
    "    return raw_labels"
   ]
  },
  {
   "cell_type": "markdown",
   "metadata": {},
   "source": [
    "Let's see if we did any better with the count tester."
   ]
  },
  {
   "cell_type": "code",
   "execution_count": 65,
   "metadata": {},
   "outputs": [
    {
     "name": "stdout",
     "output_type": "stream",
     "text": [
      "Checking sums.\n",
      "\"0\" present in sum: True. Counts: 125501\n",
      "\"1\" present in sum: True. Counts: 499212\n",
      "\"2\" present in sum: True. Counts: 750195\n",
      "\"3\" present in sum: True. Counts: 500060\n",
      "\"4\" present in sum: True. Counts: 125032\n",
      "\"5\" present in sum: False. Counts: 0\n"
     ]
    }
   ],
   "source": [
    "# Test run the function\n",
    "test_all_label_counts(generate_labels_fix)"
   ]
  },
  {
   "cell_type": "markdown",
   "metadata": {},
   "source": [
    "Much better."
   ]
  }
 ],
 "metadata": {
  "anaconda-cloud": {},
  "kernelspec": {
   "display_name": "Python 3",
   "language": "python",
   "name": "python3"
  },
  "language_info": {
   "codemirror_mode": {
    "name": "ipython",
    "version": 3
   },
   "file_extension": ".py",
   "mimetype": "text/x-python",
   "name": "python",
   "nbconvert_exporter": "python",
   "pygments_lexer": "ipython3",
   "version": "3.6.8"
  }
 },
 "nbformat": 4,
 "nbformat_minor": 2
}
