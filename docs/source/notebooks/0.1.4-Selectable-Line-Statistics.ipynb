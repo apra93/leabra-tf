{
 "cells": [
  {
   "cell_type": "markdown",
   "metadata": {},
   "source": [
    "# 0.1.4 Selectable Line Statistics\n",
    "\n",
    "Rather than sampling randomly between each of the five indices, we should change the implementation so the statistics of each index on each axis can be changed."
   ]
  },
  {
   "cell_type": "markdown",
   "metadata": {},
   "source": [
    "## Boilerplate\n",
    "\n",
    "The following subsections are largely boilerplate code, so skip around as needed."
   ]
  },
  {
   "cell_type": "markdown",
   "metadata": {},
   "source": [
    "### Jupyter Extensions"
   ]
  },
  {
   "cell_type": "markdown",
   "metadata": {},
   "source": [
    "Load [watermark](https://github.com/rasbt/watermark) to see the state of the machine and environment that's running the notebook. To make sense of the options, take a look at the [usage](https://github.com/rasbt/watermark#usage) section of the readme."
   ]
  },
  {
   "cell_type": "code",
   "execution_count": 1,
   "metadata": {},
   "outputs": [
    {
     "name": "stdout",
     "output_type": "stream",
     "text": [
      "Wed Mar 27 2019 11:45:42 \n",
      "\n",
      "CPython 3.6.8\n",
      "IPython 7.3.0\n",
      "\n",
      "numpy 1.16.2\n",
      "matplotlib 3.0.2\n",
      "seaborn 0.9.0\n",
      "\n",
      "compiler   : GCC 7.3.0\n",
      "system     : Linux\n",
      "release    : 4.18.0-16-generic\n",
      "machine    : x86_64\n",
      "processor  : x86_64\n",
      "CPU cores  : 8\n",
      "interpreter: 64bit\n",
      "Git hash   : 821cf34ff14802f195172e5f13c46066474a0376\n",
      "Git branch : master\n"
     ]
    }
   ],
   "source": [
    "# Load `watermark` extension\n",
    "%load_ext watermark\n",
    "# Display the status of the machine and packages. Add more as necessary.\n",
    "%watermark -v -n -m -g -b -t -p numpy,matplotlib,seaborn"
   ]
  },
  {
   "cell_type": "markdown",
   "metadata": {},
   "source": [
    "Load [autoreload](https://ipython.org/ipython-doc/3/config/extensions/autoreload.html) which will always reload modules marked with `%aimport`.\n",
    "\n",
    "This behavior can be inverted by running `autoreload 2` which will set everything to be auto-reloaded *except* for modules marked with `%aimport`."
   ]
  },
  {
   "cell_type": "code",
   "execution_count": 2,
   "metadata": {},
   "outputs": [],
   "source": [
    "# Load `autoreload` extension\n",
    "%load_ext autoreload\n",
    "# Set autoreload behavior\n",
    "%autoreload 1"
   ]
  },
  {
   "cell_type": "markdown",
   "metadata": {},
   "source": [
    "Load `matplotlib` in one of the more `jupyter`-friendly [rich-output modes](https://ipython.readthedocs.io/en/stable/interactive/plotting.html). Some options (that may or may not have worked) are `inline`, `notebook`, and `gtk`."
   ]
  },
  {
   "cell_type": "code",
   "execution_count": 3,
   "metadata": {},
   "outputs": [],
   "source": [
    "# Set the matplotlib mode\n",
    "%matplotlib inline"
   ]
  },
  {
   "cell_type": "markdown",
   "metadata": {},
   "source": [
    "### Imports"
   ]
  },
  {
   "cell_type": "markdown",
   "metadata": {},
   "source": [
    "Static imports that shouldn't necessarily change throughout the notebook."
   ]
  },
  {
   "cell_type": "code",
   "execution_count": 4,
   "metadata": {},
   "outputs": [],
   "source": [
    "# Standard library imports\n",
    "import logging\n",
    "\n",
    "# Third party\n",
    "import matplotlib.pyplot as plt\n",
    "import numpy as np\n",
    "import seaborn as sns\n",
    "\n",
    "# Progress bar\n",
    "from tqdm import tqdm"
   ]
  },
  {
   "cell_type": "markdown",
   "metadata": {},
   "source": [
    "Local imports that may or may not be autoreloaded. This section contains things that will likely have to be re-imported multiple times, and have additions or subtractions made throughout the project."
   ]
  },
  {
   "cell_type": "code",
   "execution_count": 85,
   "metadata": {},
   "outputs": [],
   "source": [
    "# Task script\n",
    "%aimport leabratf.tasks.combinatorics.combigen\n",
    "import leabratf.tasks.combinatorics.combigen as cg\n",
    "# Visualization for the task\n",
    "%aimport leabratf.visualization.combigen_heatmap\n",
    "import leabratf.visualization.combigen_heatmap as cgh\n",
    "# Utility functions\n",
    "%aimport leabratf.utils\n",
    "from leabratf.utils import setup_logging, as_list, flatten"
   ]
  },
  {
   "cell_type": "markdown",
   "metadata": {},
   "source": [
    "### Initial Setup"
   ]
  },
  {
   "cell_type": "markdown",
   "metadata": {},
   "source": [
    "Set [seaborn defaults](https://seaborn.pydata.org/generated/seaborn.set.html) for matplotlib."
   ]
  },
  {
   "cell_type": "code",
   "execution_count": 6,
   "metadata": {},
   "outputs": [],
   "source": [
    "sns.set()"
   ]
  },
  {
   "cell_type": "markdown",
   "metadata": {},
   "source": [
    "Set up the logger configuration to something more useful than baseline. Creates log files for the different log levels in the `logs` directory.\n",
    "\n",
    "See `logging.yml` for the exact logging configuration."
   ]
  },
  {
   "cell_type": "code",
   "execution_count": 7,
   "metadata": {},
   "outputs": [],
   "source": [
    "# Run base logger setup\n",
    "setup_logging()\n",
    "# Define a logger object\n",
    "logger = logging.getLogger(\"leabratf\")"
   ]
  },
  {
   "cell_type": "markdown",
   "metadata": {},
   "source": [
    "## Combigen with a Selectable Number of Lines\n",
    "\n",
    "As it stands, the number of lines in the resulting `y` is chosen by the `n_lines` argument. Below is what the labels, `y`, look like with the default number of lines ([1,1]) and the resulting inputs, `x`, would look like. "
   ]
  },
  {
   "cell_type": "code",
   "execution_count": 11,
   "metadata": {},
   "outputs": [
    {
     "data": {
      "image/png": "[encoded data removed]",
      "text/plain": [
       "<Figure size 432x288 with 40 Axes>"
      ]
     },
     "metadata": {},
     "output_type": "display_data"
    }
   ],
   "source": [
    "cgh.visualize_combigen(5)\n",
    "plt.show()"
   ]
  },
  {
   "cell_type": "markdown",
   "metadata": {},
   "source": [
    "And then this is what it looks like with `n_lines` set to something different.\n"
   ]
  },
  {
   "cell_type": "code",
   "execution_count": 12,
   "metadata": {},
   "outputs": [
    {
     "data": {
      "image/png": "[encoded data removed]",
      "text/plain": [
       "<Figure size 432x288 with 40 Axes>"
      ]
     },
     "metadata": {},
     "output_type": "display_data"
    }
   ],
   "source": [
    "cgh.visualize_combigen(5, n_lines=[1,2])\n",
    "plt.show()"
   ]
  },
  {
   "cell_type": "markdown",
   "metadata": {},
   "source": [
    "This way of implementing the lines allows for control over the exact number of lines per axis, but the correct implementation statistically samples all remaining indices of all axes until the correct number of lines is obtained.\n",
    "\n",
    "Below is the current implmentation of `generate_labels`"
   ]
  },
  {
   "cell_type": "code",
   "execution_count": 188,
   "metadata": {},
   "outputs": [],
   "source": [
    "def generate_labels(n_samples=1, stack=4, size=5, dims=2, n_lines=None):\n",
    "    \"\"\"Returns an array of labels to construct the data from.\n",
    "\n",
    "    Parameters\n",
    "    ----------\n",
    "    n_samples : int, optional\n",
    "    \tNumber of samples to return.\n",
    "\n",
    "    stack : int, optional\n",
    "    \tNumber of labels per stack.\n",
    "\n",
    "    size : int, optional\n",
    "    \tSize of the nxn matrix to use for the task.\n",
    "\n",
    "    dims : int, optional\n",
    "    \tNumber of dimensions for the task.\n",
    "\n",
    "    n_lines : list or int, optional\n",
    "    \tNumber of lines to have on each axis. If an int is provided, then it is\n",
    "    \tused for each axis.\n",
    "    \n",
    "    Returns\n",
    "    -------\n",
    "    labels : np.ndarray of shape ``(n_samples, stack, size, dims)``\n",
    "    \tThe resulting task labels.\n",
    "\n",
    "    Raises\n",
    "    ------\n",
    "    ValueError\n",
    "    \tIf ``dims`` does not match the number of lines provided (assuming more\n",
    "    \tthan one number was provided for it)\n",
    "    \"\"\"\n",
    "    # Ensure this is a list\n",
    "    n_lines = as_list(n_lines) if n_lines else [1,1]\n",
    "    # If one number is passed in for n_lines and there is more than 1 dim, then\n",
    "    # assume that they should both be set to the value of n_lines.\n",
    "    if len(n_lines) == 1 and dims != 1:\n",
    "        n_lines *= dims\n",
    "    # Ensure dims and `len(n_lines)` is the same\n",
    "    if dims != len(n_lines):\n",
    "        raise ValueError('Value for dims must match len(n_lines)')\n",
    "    \n",
    "    # Generate a zero array to fill with 1s\n",
    "    raw_labels = np.zeros((n_samples, stack, size, dims))\n",
    "\n",
    "    # Create a list of length `dims` that contains arrays with the indices which\n",
    "    # to set the value to 1. Each array is of shape `n_samples` by `stack` by\n",
    "    # `n_line[i]` where `i` is the line index.\n",
    "    arg_ones = [np.array([np.random.choice(range(size), line, replace=False)\n",
    "                          for _ in range(n_samples*stack)])\n",
    "                .reshape((n_samples,stack,line))\n",
    "                for line in n_lines]\n",
    "\n",
    "    # Use the index arrays created above to set the desired indices of the\n",
    "    # zero-array to be 1 for each dim in dims.\n",
    "    for dim, arg_one in enumerate(arg_ones):\n",
    "        np.put_along_axis(raw_labels[:,:,:,dim], arg_one, values=1, axis=2)\n",
    "    return raw_labels"
   ]
  },
  {
   "cell_type": "markdown",
   "metadata": {},
   "source": [
    "## Reworking the Implementation\n",
    "\n",
    "So now let's rework the implementation so a new argument, `line_stats`, determines the sampling statistics of the possible indices to choose from. `n_lines` will now determine the *total* number of lines, and thus must be an integer."
   ]
  },
  {
   "cell_type": "code",
   "execution_count": 122,
   "metadata": {},
   "outputs": [],
   "source": [
    "def generate_labels_statistically(\n",
    "    n_samples=1, \n",
    "    slots=4, \n",
    "    size=5, \n",
    "    dims=2, \n",
    "    n_lines=2, \n",
    "    line_stats=None):\n",
    "    \"\"\"Returns an array of labels to construct the data from.\n",
    "    \"\"\"\n",
    "    # Ensure `n_lines` is an int\n",
    "    n_lines = int(n_lines)\n",
    "    # This will be useful going forward\n",
    "    n_idx = size * dims\n",
    "    # It must be less than the number of available indices\n",
    "    if n_lines >= n_idx:\n",
    "        raise ValueError('n_lines must be less than size * dims.')\n",
    "        \n",
    "    # Normalize `line_stats` to sum to 1 if it isn't already\n",
    "    if line_stats is not None:\n",
    "        line_stats = flatten(line_stats)\n",
    "        if sum(line_stats) != 1.0:\n",
    "            line_stats = np.array(line_stats) / sum(line_stats)\n",
    "        \n",
    "    # Generate a zero array to fill with 1s\n",
    "    raw_labels = np.zeros((n_samples, slots, n_idx))\n",
    "    \n",
    "    # Create a list of length `dims` that contains arrays with the indices which\n",
    "    # to set the value to 1. Each array is of shape `n_samples` by `stack` by\n",
    "    # `n_line[i]` where `i` is the line index.\n",
    "    arg_ones = np.array([np.random.choice(range(n_idx), \n",
    "                                          n_lines, \n",
    "                                          replace=False,\n",
    "                                          p=line_stats)\n",
    "                         for _ in range(n_samples * slots)]).reshape(\n",
    "        (n_samples, slots, n_lines))\n",
    "\n",
    "    # Use the index arrays created above to set the desired indices of the\n",
    "    # zero-array to be 1 for each dim in dims.\n",
    "    np.put_along_axis(raw_labels, arg_ones, values=1, axis=2)\n",
    "    return raw_labels.reshape((n_samples, slots, size, dims), order='F')"
   ]
  },
  {
   "cell_type": "markdown",
   "metadata": {},
   "source": [
    "### Default Configuration\n",
    "\n",
    "And so lets visualize the changes that were made, starting with the default configuration. Let's try running it until we see a set that has both lines on the same axis."
   ]
  },
  {
   "cell_type": "code",
   "execution_count": 103,
   "metadata": {},
   "outputs": [
    {
     "data": {
      "image/png": "[encoded data removed]",
      "text/plain": [
       "<Figure size 432x288 with 4 Axes>"
      ]
     },
     "metadata": {},
     "output_type": "display_data"
    }
   ],
   "source": [
    "cgh.heatmap(generate_labels_statistically())\n",
    "plt.show()"
   ]
  },
  {
   "cell_type": "markdown",
   "metadata": {},
   "source": [
    "### Different Number of Lines\n",
    "\n",
    "Looks identical to the previous implementation so far but with the extra ability to have lines in the same axis. Now let's try a different number of lines."
   ]
  },
  {
   "cell_type": "code",
   "execution_count": 106,
   "metadata": {},
   "outputs": [
    {
     "name": "stdout",
     "output_type": "stream",
     "text": [
      "3 lines:\n"
     ]
    },
    {
     "data": {
      "image/png": "[encoded data removed]",
      "text/plain": [
       "<Figure size 432x288 with 4 Axes>"
      ]
     },
     "metadata": {},
     "output_type": "display_data"
    },
    {
     "name": "stdout",
     "output_type": "stream",
     "text": [
      "4 lines:\n"
     ]
    },
    {
     "data": {
      "image/png": "[encoded data removed]",
      "text/plain": [
       "<Figure size 432x288 with 4 Axes>"
      ]
     },
     "metadata": {},
     "output_type": "display_data"
    },
    {
     "name": "stdout",
     "output_type": "stream",
     "text": [
      "5 lines:\n"
     ]
    },
    {
     "data": {
      "image/png": "[encoded data removed]",
      "text/plain": [
       "<Figure size 432x288 with 4 Axes>"
      ]
     },
     "metadata": {},
     "output_type": "display_data"
    }
   ],
   "source": [
    "for i in range(3, 6):\n",
    "    print('{0} lines:'.format(i))\n",
    "    cgh.heatmap(generate_labels_statistically(n_lines=i))\n",
    "    plt.show()"
   ]
  },
  {
   "cell_type": "markdown",
   "metadata": {},
   "source": [
    "### Element Statistics\n",
    "\n",
    "And finally, let's change the statistics of the different elements. \n",
    "\n",
    "#### First and Last Elements\n",
    "\n",
    "Lets start with being able to select the exact elements we want."
   ]
  },
  {
   "cell_type": "code",
   "execution_count": 124,
   "metadata": {},
   "outputs": [
    {
     "data": {
      "image/png": "[encoded data removed]",
      "text/plain": [
       "<Figure size 432x288 with 4 Axes>"
      ]
     },
     "metadata": {},
     "output_type": "display_data"
    },
    {
     "data": {
      "image/png": "[encoded data removed]",
      "text/plain": [
       "<Figure size 432x288 with 4 Axes>"
      ]
     },
     "metadata": {},
     "output_type": "display_data"
    },
    {
     "data": {
      "image/png": "[encoded data removed]",
      "text/plain": [
       "<Figure size 432x288 with 4 Axes>"
      ]
     },
     "metadata": {},
     "output_type": "display_data"
    }
   ],
   "source": [
    "# Only sample first element of the first axis and last element of the second axis\n",
    "line_stats = [[1,0,0,0,0],[0,0,0,0,1]]\n",
    "for _ in range(3):\n",
    "    cgh.heatmap(generate_labels_statistically(line_stats=line_stats))\n",
    "    plt.show()"
   ]
  },
  {
   "cell_type": "markdown",
   "metadata": {},
   "source": [
    "#### Line Stats Index Order\n",
    "\n",
    "Now let's show the ordering of the index. To do this, let's have three alternating elements in the first dimension and two in the second. We should then pass five for `n_lines` so each element is used."
   ]
  },
  {
   "cell_type": "code",
   "execution_count": 127,
   "metadata": {},
   "outputs": [
    {
     "data": {
      "image/png": "[encoded data removed]",
      "text/plain": [
       "<Figure size 432x288 with 4 Axes>"
      ]
     },
     "metadata": {},
     "output_type": "display_data"
    },
    {
     "data": {
      "image/png": "[encoded data removed]",
      "text/plain": [
       "<Figure size 432x288 with 4 Axes>"
      ]
     },
     "metadata": {},
     "output_type": "display_data"
    },
    {
     "data": {
      "image/png": "[encoded data removed]",
      "text/plain": [
       "<Figure size 432x288 with 4 Axes>"
      ]
     },
     "metadata": {},
     "output_type": "display_data"
    }
   ],
   "source": [
    "# Two of four positions sampled equally\n",
    "line_stats = [[1,0,1,0,1], [0,1,0,1,0]]\n",
    "for _ in range(3):\n",
    "    cgh.heatmap(generate_labels_statistically(n_lines=5, line_stats=line_stats))\n",
    "    plt.show()"
   ]
  },
  {
   "cell_type": "markdown",
   "metadata": {},
   "source": [
    "#### Alternating Elements\n",
    "\n",
    "In the last couple examples, `n_lines` was set to the same number of possible elements. Let's have two lines alternate between four available slots, but be three times as likely to be in two of them."
   ]
  },
  {
   "cell_type": "code",
   "execution_count": 133,
   "metadata": {},
   "outputs": [
    {
     "data": {
      "image/png": "[encoded data removed]",
      "text/plain": [
       "<Figure size 432x288 with 4 Axes>"
      ]
     },
     "metadata": {},
     "output_type": "display_data"
    },
    {
     "data": {
      "image/png": "[encoded data removed]",
      "text/plain": [
       "<Figure size 432x288 with 4 Axes>"
      ]
     },
     "metadata": {},
     "output_type": "display_data"
    },
    {
     "data": {
      "image/png": "[encoded data removed]",
      "text/plain": [
       "<Figure size 432x288 with 4 Axes>"
      ]
     },
     "metadata": {},
     "output_type": "display_data"
    }
   ],
   "source": [
    "# Only sample first element of the first axis and last element of the second axis\n",
    "line_stats = [[1,0,0,3,0], [0,3,0,0,1]]\n",
    "for _ in range(3):\n",
    "    cgh.heatmap(generate_labels_statistically(n_lines=2,line_stats=line_stats))\n",
    "    plt.show()"
   ]
  },
  {
   "cell_type": "markdown",
   "metadata": {},
   "source": [
    "## Ensuring the Statistics are Correct\n",
    "\n",
    "Let's just quickly try to ensure that the values returned are being set according to the expected statistics."
   ]
  },
  {
   "cell_type": "markdown",
   "metadata": {},
   "source": [
    "### Uniform Sampling\n",
    "\n",
    "A quick way is to create labels with one `n_sample` and `dims`, but `N` numbers of `slots`, which we can then use to compute a sum accross the `slots` axis. What we expect to see is as `N` gets large, the sums all become increasingly similar."
   ]
  },
  {
   "cell_type": "code",
   "execution_count": 170,
   "metadata": {},
   "outputs": [
    {
     "name": "stdout",
     "output_type": "stream",
     "text": [
      "0.2630589287593186\n"
     ]
    }
   ],
   "source": [
    "slots = 100\n",
    "\n",
    "# Create an array containing all the sums of labels with `dims` dimensions. \n",
    "y_tests = np.array(\n",
    "    [generate_labels_statistically(\n",
    "        n_samples=1, slots=slots, dims=1, n_lines=1).sum(axis=1)\n",
    "     for _ in range(100)])\n",
    "\n",
    "# Assert the standard deviation of the means of the sums is less than 1 percent of the total\n",
    "# number of dimensions used.\n",
    "assert slots * 0.01 > y_tests.mean(axis=0).std()\n",
    "print(y_tests.mean(axis=0).std())"
   ]
  },
  {
   "cell_type": "markdown",
   "metadata": {},
   "source": [
    "As expected they are all quite similar and do not vary much."
   ]
  },
  {
   "cell_type": "markdown",
   "metadata": {},
   "source": [
    "### Nonuniform Sampling\n",
    "\n",
    "Now let's make some slots more likely than others and then take a look at the means of the sums."
   ]
  },
  {
   "cell_type": "code",
   "execution_count": 167,
   "metadata": {},
   "outputs": [
    {
     "name": "stdout",
     "output_type": "stream",
     "text": [
      "[ 67.06 134.06 199.71 265.22 333.95]\n"
     ]
    }
   ],
   "source": [
    "line_stats = np.array([1,2,3,4,5])\n",
    "\n",
    "# Create an array containing all the sums of labels with `dims` dimensions. \n",
    "y_tests = np.array(\n",
    "    [generate_labels_statistically(\n",
    "        n_samples=1, \n",
    "        slots=slots, \n",
    "        dims=1, \n",
    "        n_lines=1, \n",
    "        line_stats=line_stats,\n",
    "    ).sum(axis=1)\n",
    "     for _ in range(100)])\n",
    "\n",
    "# Separate out the means of sums\n",
    "means = y_tests.mean(axis=0).reshape((5))\n",
    "\n",
    "# Assert the different pair-wise sums are as expected of the stats defined above.\n",
    "for l, m in zip(line_stats, means):\n",
    "    assert np.isclose(means[0]*l, m, atol=slots*0.05/size)\n",
    "print(means)"
   ]
  },
  {
   "cell_type": "markdown",
   "metadata": {},
   "source": [
    "Now let's run a couple tests on this."
   ]
  }
 ],
 "metadata": {
  "anaconda-cloud": {},
  "kernelspec": {
   "display_name": "Python 3",
   "language": "python",
   "name": "python3"
  },
  "language_info": {
   "codemirror_mode": {
    "name": "ipython",
    "version": 3
   },
   "file_extension": ".py",
   "mimetype": "text/x-python",
   "name": "python",
   "nbconvert_exporter": "python",
   "pygments_lexer": "ipython3",
   "version": "3.6.8"
  }
 },
 "nbformat": 4,
 "nbformat_minor": 2
}
