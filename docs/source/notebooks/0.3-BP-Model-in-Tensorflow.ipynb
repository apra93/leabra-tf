{
 "cells": [
  {
   "cell_type": "markdown",
   "metadata": {},
   "source": [
    "# 0.3 BP Model in Tensorflow"
   ]
  },
  {
   "cell_type": "markdown",
   "metadata": {},
   "source": [
    "## Boilerplate\n",
    "\n",
    "The following subsections are largely boilerplate code, so skip around as needed."
   ]
  },
  {
   "cell_type": "markdown",
   "metadata": {},
   "source": [
    "### Jupyter Extensions"
   ]
  },
  {
   "cell_type": "markdown",
   "metadata": {},
   "source": [
    "Load [watermark](https://github.com/rasbt/watermark) to see the state of the machine and environment that's running the notebook. To make sense of the options, take a look at the [usage](https://github.com/rasbt/watermark#usage) section of the readme."
   ]
  },
  {
   "cell_type": "code",
   "execution_count": 1,
   "metadata": {},
   "outputs": [
    {
     "name": "stdout",
     "output_type": "stream",
     "text": [
      "Sun Mar 03 2019 01:37:24 \n",
      "\n",
      "CPython 3.6.8\n",
      "IPython 7.3.0\n",
      "\n",
      "numpy 1.16.2\n",
      "matplotlib 3.0.3\n",
      "seaborn 0.9.0\n",
      "tensorflow 1.12.0\n",
      "\n",
      "compiler   : GCC 7.3.0\n",
      "system     : Linux\n",
      "release    : 4.4.0-130-generic\n",
      "machine    : x86_64\n",
      "processor  : x86_64\n",
      "CPU cores  : 12\n",
      "interpreter: 64bit\n",
      "Git hash   : edd22d45c1c38e765037bf04d03c4caf4494dc66\n",
      "Git branch : master\n"
     ]
    }
   ],
   "source": [
    "# Load `watermark` extension\n",
    "%load_ext watermark\n",
    "# Display the status of the machine and packages. Add more as necessary.\n",
    "%watermark -v -n -m -g -b -t -p numpy,matplotlib,seaborn,tensorflow"
   ]
  },
  {
   "cell_type": "markdown",
   "metadata": {},
   "source": [
    "Load [autoreload](https://ipython.org/ipython-doc/3/config/extensions/autoreload.html) which will always reload modules marked with `%aimport`.\n",
    "\n",
    "This behavior can be inverted by running `autoreload 2` which will set everything to be auto-reloaded *except* for modules marked with `%aimport`."
   ]
  },
  {
   "cell_type": "code",
   "execution_count": 2,
   "metadata": {},
   "outputs": [],
   "source": [
    "# Load `autoreload` extension\n",
    "%load_ext autoreload\n",
    "# Set autoreload behavior\n",
    "%autoreload 1"
   ]
  },
  {
   "cell_type": "markdown",
   "metadata": {},
   "source": [
    "Load `matplotlib` in one of the more `jupyter`-friendly [rich-output modes](https://ipython.readthedocs.io/en/stable/interactive/plotting.html). Some options (that may or may not have worked) are `inline`, `notebook`, and `gtk`."
   ]
  },
  {
   "cell_type": "code",
   "execution_count": 3,
   "metadata": {},
   "outputs": [],
   "source": [
    "# Set the matplotlib mode\n",
    "%matplotlib inline"
   ]
  },
  {
   "cell_type": "markdown",
   "metadata": {},
   "source": [
    "### Imports"
   ]
  },
  {
   "cell_type": "markdown",
   "metadata": {},
   "source": [
    "Static imports that shouldn't necessarily change throughout the notebook."
   ]
  },
  {
   "cell_type": "code",
   "execution_count": 410,
   "metadata": {},
   "outputs": [],
   "source": [
    "# Standard library imports\n",
    "import os\n",
    "import logging\n",
    "from functools import reduce\n",
    "\n",
    "# Third party\n",
    "import matplotlib.pyplot as plt\n",
    "import numpy as np\n",
    "import seaborn as sns\n",
    "import tensorflow as tf"
   ]
  },
  {
   "cell_type": "markdown",
   "metadata": {},
   "source": [
    "Local imports that may or may not be autoreloaded. This section contains things that will likely have to be re-imported multiple times, and have additions or subtractions made throughout the project."
   ]
  },
  {
   "cell_type": "code",
   "execution_count": 41,
   "metadata": {},
   "outputs": [],
   "source": [
    "# Task script\n",
    "%aimport leabratf.tasks.combinatorics.combigen\n",
    "import leabratf.tasks.combinatorics.combigen as cg\n",
    "# Visualization for the task\n",
    "%aimport leabratf.visualization.combigen_heatmap\n",
    "import leabratf.visualization.combigen_heatmap as cgh\n",
    "# Utility functions\n",
    "%aimport leabratf.utils\n",
    "from leabratf.utils import setup_logging\n",
    "%aimport leabratf.constants\n",
    "from leabratf.constants import DIR_MODELS"
   ]
  },
  {
   "cell_type": "markdown",
   "metadata": {},
   "source": [
    "### Initial Setup"
   ]
  },
  {
   "cell_type": "markdown",
   "metadata": {},
   "source": [
    "Set [seaborn defaults](https://seaborn.pydata.org/generated/seaborn.set.html) for matplotlib."
   ]
  },
  {
   "cell_type": "code",
   "execution_count": 6,
   "metadata": {},
   "outputs": [],
   "source": [
    "sns.set()\n",
    "sns.set_context(\"notebook\")"
   ]
  },
  {
   "cell_type": "markdown",
   "metadata": {},
   "source": [
    "Set up the logger configuration to something more useful than baseline. Creates log files for the different log levels in the `logs` directory.\n",
    "\n",
    "See `logging.yml` for the exact logging configuration."
   ]
  },
  {
   "cell_type": "code",
   "execution_count": 45,
   "metadata": {},
   "outputs": [],
   "source": [
    "# Run base logger setup\n",
    "# setup_logging()\n",
    "# Define a logger object\n",
    "logger = logging.getLogger('leabratf')\n",
    "# Don't propagate messages\n",
    "logger.propagate = False\n",
    "\n",
    "tf.logging.set_verbosity(logging.INFO)"
   ]
  },
  {
   "cell_type": "markdown",
   "metadata": {},
   "source": [
    "### Global Variables"
   ]
  },
  {
   "cell_type": "markdown",
   "metadata": {},
   "source": [
    "#### Combigen Task Variables"
   ]
  },
  {
   "cell_type": "code",
   "execution_count": 9,
   "metadata": {},
   "outputs": [],
   "source": [
    "# Number of slots in a training set\n",
    "STACK = 4\n",
    "# Size of each axis in the input array\n",
    "SIZE = 5\n",
    "# Number of axes to use per slot\n",
    "DIMS = 2"
   ]
  },
  {
   "cell_type": "markdown",
   "metadata": {},
   "source": [
    "#### Data Parameters"
   ]
  },
  {
   "cell_type": "code",
   "execution_count": 10,
   "metadata": {},
   "outputs": [],
   "source": [
    "# Number of epochs to train for\n",
    "EPOCHS = 500\n",
    "# Number of samples in the training set\n",
    "N_TRAIN= 100\n",
    "# Number of samples in the validation set\n",
    "N_VAL = 50\n",
    "# Number of samples in the testing set\n",
    "N_TEST = 500"
   ]
  },
  {
   "cell_type": "markdown",
   "metadata": {},
   "source": [
    "#### Datasets"
   ]
  },
  {
   "cell_type": "code",
   "execution_count": 11,
   "metadata": {},
   "outputs": [],
   "source": [
    "# Training Data\n",
    "Y_TRAIN = cg.generate_labels(n_samples=N_TRAIN, stack=STACK, size=SIZE, dims=DIMS)\n",
    "X_TRAIN = cg.inverse_transform(Y_TRAIN)\n",
    "# Validation Data\n",
    "Y_VAL = cg.generate_labels(n_samples=N_VAL, stack=STACK, size=SIZE, dims=DIMS)\n",
    "X_VAL = cg.inverse_transform(Y_VAL)\n",
    "# Testing data\n",
    "Y_TEST = cg.generate_labels(n_samples=N_TEST, stack=STACK, size=SIZE, dims=DIMS)\n",
    "X_TEST = cg.inverse_transform(Y_TEST)"
   ]
  },
  {
   "cell_type": "markdown",
   "metadata": {},
   "source": [
    "#### Network Parameters"
   ]
  },
  {
   "cell_type": "code",
   "execution_count": 79,
   "metadata": {},
   "outputs": [],
   "source": [
    "# Learning rate\n",
    "ALPHA = 0.01\n",
    "# Batch size\n",
    "BATCH_SIZE = 1\n",
    "# Number of parameters in the inputs\n",
    "N_INPUTS = STACK * SIZE ** DIMS\n",
    "# Number of hidden units\n",
    "N_HIDDEN_1 = 100\n",
    "# Number of parameters in the labels\n",
    "N_OUTPUTS = STACK * SIZE * DIMS"
   ]
  },
  {
   "cell_type": "markdown",
   "metadata": {},
   "source": [
    "#### Training Parameters"
   ]
  },
  {
   "cell_type": "code",
   "execution_count": 479,
   "metadata": {},
   "outputs": [],
   "source": [
    "# Number of times to print an update\n",
    "N_UPDATES = 5\n",
    "# Which device to train on\n",
    "TF_DEVICE = '/cpu:0'"
   ]
  },
  {
   "cell_type": "markdown",
   "metadata": {},
   "source": [
    "## Background\n",
    "\n",
    "This section goes over some of the background information for the notebook using results from previous notebooks. Skip around as needed."
   ]
  },
  {
   "cell_type": "markdown",
   "metadata": {},
   "source": [
    "### The Combigen Task\n",
    "\n",
    "Quickly remind ourselves what the task looks like before diving in."
   ]
  },
  {
   "cell_type": "code",
   "execution_count": 13,
   "metadata": {},
   "outputs": [
    {
     "data": {
      "image/png": "[encoded data removed]",
      "text/plain": [
       "<Figure size 432x288 with 40 Axes>"
      ]
     },
     "metadata": {},
     "output_type": "display_data"
    }
   ],
   "source": [
    "cgh.visualize_combigen(5)\n",
    "plt.show()"
   ]
  },
  {
   "cell_type": "markdown",
   "metadata": {},
   "source": [
    "### Keras Implementation\n",
    "\n",
    "In nb-0.2.x, the O'Reilly BP model was implemented in keras with the code having this general structure:\n",
    "\n",
    "```\n",
    "def bp_model_bce(hidden_units=100, stack=STACK, size=SIZE, dims=DIMS):\n",
    "    \"\"\"Builds and returns the model\"\"\"\n",
    "    model = models.Sequential()\n",
    "    model.add(layers.Reshape((stack*size*size,), name='Initial_reshape'))\n",
    "    # Single hidden layer\n",
    "    model.add(layers.Dense(hidden_units, activation='sigmoid', name='Hidden_Layer'))\n",
    "    # Output layer\n",
    "    model.add(layers.Dense(stack*size*dims, activation='sigmoid', name='Output_Layer'))\n",
    "    # Reshape to match the labels\n",
    "    model.add(layers.Reshape((stack, size, dims), name='Output_reshape'))\n",
    "    \n",
    "    # Loss and optimizer to use, along with metrics to track\n",
    "    model.compile(optimizer=optimizers.SGD(lr=0.01), \n",
    "                  loss='binary_crossentropy', \n",
    "                  metrics=['accuracy'])\n",
    "    return model\n",
    "```\n",
    "\n",
    "With the main difference between models tested in nb-0.2.1 being the loss functions. The two most interesting models had the following training curves:\n",
    "\n",
    "##### Binary cross-entropy loss with stochastic gradient descent\n",
    "\n",
    "\n",
    "![BCE_SGD](images/nb0.2.1_bce_sgd_5000_epochs.png)\n",
    "\n",
    "\n",
    "##### Mean-squared-error loss with stochastic gradient descent\n",
    "\n",
    "\n",
    "![MSE_SGD](images/nb0.2.1_mse_sgd_5000_epochs.png)\n",
    "\n",
    "\n",
    "Some things to note are that the models were trained to 10 times the number of epochs as O'Reilly did (500). However, a dotted vertical line was added at the 500 epoch mark to make it clear what the model's performance would have looked like."
   ]
  },
  {
   "cell_type": "markdown",
   "metadata": {},
   "source": [
    "## The Tensorflow Pipeline\n",
    "\n",
    "Using the results of the keras implementation as the benchmark for this model, let's rewrite the model using pure tensorflow. Let's start by resetting the graph and then defining the weights and associated biases."
   ]
  },
  {
   "cell_type": "code",
   "execution_count": 480,
   "metadata": {},
   "outputs": [],
   "source": [
    "# Cleanup any residual nodes\n",
    "tf.reset_default_graph()"
   ]
  },
  {
   "cell_type": "markdown",
   "metadata": {},
   "source": [
    "### Variables\n",
    "\n",
    "Straight forward section where we define the weights and biases. One thing to note is that the weights are initialized using the `tf.contrib.layers.xavier_initializer`. \n",
    "\n",
    "Additionally, create an empty list that will contain the initialization operations to be performed at the start of a session."
   ]
  },
  {
   "cell_type": "code",
   "execution_count": 481,
   "metadata": {},
   "outputs": [],
   "source": [
    "# Weights and biases\n",
    "weights = {\n",
    "    'h1': tf.get_variable(name='w_h1', shape=[N_INPUTS, N_HIDDEN_1],\n",
    "                      initializer=tf.contrib.layers.xavier_initializer()),\n",
    "    'out': tf.get_variable(name='w_out', shape=[N_HIDDEN_1, N_OUTPUTS],\n",
    "                      initializer=tf.contrib.layers.xavier_initializer()),\n",
    "}\n",
    "biases = {\n",
    "    'b1': tf.get_variable(name=\"b_1\", shape=[N_HIDDEN_1], \n",
    "                      initializer=tf.zeros_initializer()),\n",
    "    'out': tf.get_variable(name=\"b_out\", shape=[N_OUTPUTS], \n",
    "                      initializer=tf.zeros_initializer()),\n",
    "}\n",
    "\n",
    "# List for initialization operations\n",
    "init_ops = [tf.global_variables_initializer()]"
   ]
  },
  {
   "cell_type": "markdown",
   "metadata": {},
   "source": [
    "### Datasets\n",
    "\n",
    "Now let's use the `tf.data` API to wrap our task data. \n",
    "\n",
    "The first step of the setup is that each of the datasets (training, validation, and testing) are turned into their own `Dataset` objects."
   ]
  },
  {
   "cell_type": "code",
   "execution_count": 482,
   "metadata": {},
   "outputs": [],
   "source": [
    "# Training dataset\n",
    "dataset_train = tf.data.Dataset.from_tensor_slices(\n",
    "    (X_TRAIN, Y_TRAIN)).repeat().batch(BATCH_SIZE)\n",
    "# Validation dataset\n",
    "dataset_val = tf.data.Dataset.from_tensor_slices(\n",
    "    (X_VAL, Y_VAL)).repeat().batch(N_VAL)\n",
    "# Testing dataset\n",
    "dataset_test = tf.data.Dataset.from_tensor_slices(\n",
    "    (X_TEST, Y_TEST)).repeat().batch(N_TEST)"
   ]
  },
  {
   "cell_type": "markdown",
   "metadata": {},
   "source": [
    "Next, let's define the iterators for each of the datasets, and then add their initializations to the `init_ops` list."
   ]
  },
  {
   "cell_type": "code",
   "execution_count": 483,
   "metadata": {},
   "outputs": [],
   "source": [
    "# Training iterator\n",
    "train_iter = dataset_train.make_initializable_iterator()\n",
    "# Validation iterator\n",
    "val_iter = dataset_val.make_initializable_iterator()\n",
    "# Testing iterator\n",
    "test_iter = dataset_test.make_initializable_iterator()\n",
    "\n",
    "# Add the initiatlizations to the init opts\n",
    "init_ops += [train_iter.initializer, val_iter.initializer, test_iter.initializer]"
   ]
  },
  {
   "cell_type": "markdown",
   "metadata": {},
   "source": [
    "And finally, the interesting part.\n",
    "\n",
    "Rather than creating separate next elements for the model, the `tf.data` API has a string handler iterator so we can contextually switch the active `Dataset` object, resulting in different values being used for `x` and `y`.\n",
    "\n",
    "The way this is done is by defining a `tf.placeholder` variable, which is used first to create a string handler iterator, and later to hold the dataset-indicating string handle. The string handler iterator is what then changes the values of `x` and `y`, naturally also supplying them using the `get_next` method."
   ]
  },
  {
   "cell_type": "code",
   "execution_count": 484,
   "metadata": {},
   "outputs": [],
   "source": [
    "# The placeholder variable of type string\n",
    "handle = tf.placeholder(tf.string, shape=[])\n",
    "# Iterator from string handle\n",
    "iterator = tf.data.Iterator.from_string_handle(\n",
    "    handle, dataset_train.output_types, \n",
    "    dataset_train.output_shapes)\n",
    "\n",
    "# x and y that will be used in the graph\n",
    "x, y = iterator.get_next()"
   ]
  },
  {
   "cell_type": "markdown",
   "metadata": {},
   "source": [
    "### O'Reilly Model\n",
    "\n",
    "The architecture is the same as before, with one slight change. The output layer no longer has the sigmoid activation, but only because it is baked into the loss function `tf.nn.sigmoid_cross_entropy_with_logits`, which naturally takes in logits.\n",
    "\n",
    "Note that when instantiating the model, `x` is passed in as the inputs."
   ]
  },
  {
   "cell_type": "code",
   "execution_count": 485,
   "metadata": {},
   "outputs": [],
   "source": [
    "def oreilly_model(inputs):\n",
    "    # Reshape for hidden layer\n",
    "    inputs = tf.reshape(inputs, shape=[-1, N_INPUTS])\n",
    "    # Single hidden layer\n",
    "    inputs = tf.sigmoid(tf.add(tf.matmul(inputs, weights['h1']), biases['b1']))\n",
    "    # Output layer\n",
    "    inputs = tf.add(tf.matmul(inputs, weights['out']), biases['out'])\n",
    "    # Reshape for labels\n",
    "    return tf.reshape(inputs, shape=[-1, STACK, SIZE, DIMS])"
   ]
  },
  {
   "cell_type": "markdown",
   "metadata": {},
   "source": [
    "### The Loss Function\n",
    "\n",
    "For the loss, we'll use binary cross entropy with vanilla gradient descent."
   ]
  },
  {
   "cell_type": "code",
   "execution_count": 486,
   "metadata": {},
   "outputs": [],
   "source": [
    "with tf.device(TF_DEVICE):\n",
    "    # Build the model\n",
    "    logits = oreilly_model(x)\n",
    "    # Ensure y is cast to the same type as logits\n",
    "    labels = tf.cast(y, logits.dtype)\n",
    "\n",
    "    # Define loss and optimizer\n",
    "    loss_op = tf.reduce_mean(tf.nn.sigmoid_cross_entropy_with_logits(\n",
    "        logits=logits, labels=labels))\n",
    "    optimizer = tf.train.GradientDescentOptimizer(learning_rate=ALPHA)\n",
    "\n",
    "    # train_op = optimizer.minimize(loss_op, global_step=tf.train.get_global_step())\n",
    "    train_op = optimizer.minimize(loss_op)"
   ]
  },
  {
   "cell_type": "markdown",
   "metadata": {},
   "source": [
    "### Metrics\n",
    "\n",
    "The last few ops to define before training are the metrics. In particular, O'Reilly defines accuracy to be the fraction of samples where the model was on the correct side of 0.5 for all elements in the outputs."
   ]
  },
  {
   "cell_type": "code",
   "execution_count": 487,
   "metadata": {},
   "outputs": [],
   "source": [
    "with tf.device(TF_DEVICE):\n",
    "    # Define some intermediate nodes\n",
    "    predictions = tf.sigmoid(logits)\n",
    "    rounded_predictions = tf.round(predictions)\n",
    "    equal_labels_and_preds = tf.equal(rounded_predictions, labels)\n",
    "\n",
    "    # O'Reilly Accuracy \n",
    "    correct_pred = tf.reduce_all(equal_labels_and_preds, axis=(1,2,3))\n",
    "    accuracy_op = tf.reduce_mean(tf.cast(correct_pred, tf.float16))\n",
    "\n",
    "    # Elemental Accuracy \n",
    "    el_accuracy_op = tf.reduce_mean(tf.cast(equal_labels_and_preds, tf.float16))"
   ]
  },
  {
   "cell_type": "markdown",
   "metadata": {},
   "source": [
    "### New Session Function\n",
    "\n",
    "In the event that we do not want to immediately close sessions, we won't be using the context handler but will still need to grab new sessions as necessary. So let's quickly write a function that will properly run `sess.close()` if a previous session exists and then return a new `tf.Session` instance."
   ]
  },
  {
   "cell_type": "code",
   "execution_count": 488,
   "metadata": {},
   "outputs": [],
   "source": [
    "def new_session(*args, **kwargs):\n",
    "    try:\n",
    "        if not sess._closed:\n",
    "            sess.close()\n",
    "    except NameError:\n",
    "        pass\n",
    "    return tf.Session(*args, **kwargs)"
   ]
  },
  {
   "cell_type": "markdown",
   "metadata": {},
   "source": [
    "### Training the Model\n",
    "\n",
    "Let's define a function that runs the training routine and accepts the number of epochs as the inputs."
   ]
  },
  {
   "cell_type": "code",
   "execution_count": 499,
   "metadata": {},
   "outputs": [],
   "source": [
    "def train_or_model(sess, epochs=EPOCHS):\n",
    "    # Ensure this is an int\n",
    "    epochs = int(epochs)\n",
    "    # Dict with the various metrics we care about\n",
    "    metrics = {'loss':[], 'acc':[], 'el_acc':[], \n",
    "               'val_loss':[], 'val_acc':[], 'val_el_acc':[]}\n",
    "    # Run the initialization ops\n",
    "    sess.run(init_ops)\n",
    "    # Define training and validation handlers\n",
    "    training_handle, validation_handle, testing_handle = sess.run(\n",
    "        [train_iter.string_handle(),\n",
    "         val_iter.string_handle(),\n",
    "         test_iter.string_handle()])\n",
    "\n",
    "    for epoch in range(epochs):\n",
    "        epoch_loss, epoch_acc, epoch_el_acc = np.zeros([3, N_TRAIN])\n",
    "        # Run the training steps\n",
    "        for i in range(N_TRAIN):\n",
    "            _, epoch_loss[i], epoch_acc[i], epoch_el_acc[i]= sess.run(\n",
    "                [train_op, loss_op, accuracy_op, el_accuracy_op],\n",
    "                feed_dict={handle: training_handle})\n",
    "        loss, acc, el_acc = np.mean((epoch_loss, epoch_acc, epoch_el_acc), axis=1)\n",
    "\n",
    "        # Calculate validation accuracy and loss\n",
    "        val_loss, val_acc, val_el_acc = sess.run([loss_op, accuracy_op, el_accuracy_op],\n",
    "                                                 feed_dict={handle: validation_handle})\n",
    "        # Record\n",
    "        for key, value in zip(metrics.keys(), [loss, acc, el_acc, val_loss, val_acc, val_el_acc]):\n",
    "            metrics[key].append(value)\n",
    "\n",
    "        # Selectively display the epoch number\n",
    "        if not epoch % (epochs / N_UPDATES) or epoch == epochs - 1:\n",
    "            print((\"Completed epoch {0}/{1}. Metrics:\\n\" + \n",
    "                   \"                     Loss       Accuracy   Elem Accuracy\\n\" +\n",
    "                   \"    Epoch:      {2:10.4f}   {3:10.4f}   {4:10.4f}\\n\" +\n",
    "                   \"    Validation: {5:10.4f}   {6:10.4f}   {7:10.4f}\\n\").format(\n",
    "                      epoch+1, epochs, loss, acc, el_acc, val_loss, val_acc, val_el_acc))\n",
    "\n",
    "    print(\"Optimization Finished!\")\n",
    "    # Calculate accuracy for MNIST test images\n",
    "    print(\"Testing Accuracy:\", sess.run(accuracy_op, feed_dict={handle: testing_handle}))\n",
    "    return metrics"
   ]
  },
  {
   "cell_type": "markdown",
   "metadata": {},
   "source": [
    "And now let's train for `EPOCHS` epochs."
   ]
  },
  {
   "cell_type": "code",
   "execution_count": 503,
   "metadata": {},
   "outputs": [
    {
     "name": "stdout",
     "output_type": "stream",
     "text": [
      "Completed epoch 1/50. Metrics:\n",
      "                     Loss       Accuracy   Elem Accuracy\n",
      "    Epoch:          0.7072       0.0000       0.5708\n",
      "    Validation:     0.6705       0.0000       0.6260\n",
      "\n",
      "Completed epoch 11/50. Metrics:\n",
      "                     Loss       Accuracy   Elem Accuracy\n",
      "    Epoch:          0.5040       0.0000       0.7998\n",
      "    Validation:     0.5096       0.0000       0.7998\n",
      "\n",
      "Completed epoch 21/50. Metrics:\n",
      "                     Loss       Accuracy   Elem Accuracy\n",
      "    Epoch:          0.4888       0.0000       0.7998\n",
      "    Validation:     0.5007       0.0000       0.7998\n",
      "\n",
      "Completed epoch 31/50. Metrics:\n",
      "                     Loss       Accuracy   Elem Accuracy\n",
      "    Epoch:          0.4834       0.0000       0.7998\n",
      "    Validation:     0.4981       0.0000       0.7998\n",
      "\n",
      "Completed epoch 41/50. Metrics:\n",
      "                     Loss       Accuracy   Elem Accuracy\n",
      "    Epoch:          0.4789       0.0000       0.7998\n",
      "    Validation:     0.4954       0.0000       0.7998\n",
      "\n",
      "Completed epoch 50/50. Metrics:\n",
      "                     Loss       Accuracy   Elem Accuracy\n",
      "    Epoch:          0.4750       0.0000       0.7998\n",
      "    Validation:     0.4926       0.0000       0.7998\n",
      "\n",
      "Optimization Finished!\n",
      "Testing Accuracy: 0.0\n",
      "CPU times: user 19.1 s, sys: 3.3 s, total: 22.4 s\n",
      "Wall time: 7.89 s\n"
     ]
    }
   ],
   "source": [
    "%%time\n",
    "sess = new_session()\n",
    "metrics = train_or_model(sess, epochs=EPOCHS)"
   ]
  },
  {
   "cell_type": "markdown",
   "metadata": {},
   "source": [
    "### Plotting the Training Curves\n",
    "\n",
    "Just like before, let's plot the training curves using the metrics we obtained. To do this, let's borrow the same function we had earlier but make a slight adjustment to it works for plain dictionaries."
   ]
  },
  {
   "cell_type": "code",
   "execution_count": 501,
   "metadata": {},
   "outputs": [],
   "source": [
    "def plot_history(history):\n",
    "    metrics = history if not hasattr(history, 'history') else history.history\n",
    "    for key, array in metrics.items():\n",
    "        plt.plot(array, label=key)\n",
    "    plt.title('Training History')\n",
    "    plt.xlabel('Epochs')\n",
    "    if len(array) > EPOCHS:\n",
    "        plt.axvline(EPOCHS, linestyle='--', label='500 Epochs')\n",
    "    plt.legend()"
   ]
  },
  {
   "cell_type": "markdown",
   "metadata": {},
   "source": [
    "This function will now work for both keras history objects and dictionaries."
   ]
  },
  {
   "cell_type": "markdown",
   "metadata": {},
   "source": [
    "### Recreating the BCE+E Training Curves\n",
    "\n",
    "Let's recreate the same plot shown above for the O'Reilly model when running for ten times as many epochs."
   ]
  },
  {
   "cell_type": "code",
   "execution_count": 504,
   "metadata": {},
   "outputs": [
    {
     "name": "stdout",
     "output_type": "stream",
     "text": [
      "Completed epoch 1/5000. Metrics:\n",
      "                     Loss       Accuracy   Elem Accuracy\n",
      "    Epoch:          0.7168       0.0000       0.5350\n",
      "    Validation:     0.6800       0.0000       0.5771\n",
      "\n",
      "Completed epoch 1001/5000. Metrics:\n",
      "                     Loss       Accuracy   Elem Accuracy\n",
      "    Epoch:          0.1357       0.4600       0.9801\n",
      "    Validation:     0.2340       0.0200       0.9082\n",
      "\n",
      "Completed epoch 2001/5000. Metrics:\n",
      "                     Loss       Accuracy   Elem Accuracy\n",
      "    Epoch:          0.0583       0.9800       0.9995\n",
      "    Validation:     0.1589       0.0800       0.9429\n",
      "\n",
      "Completed epoch 3001/5000. Metrics:\n",
      "                     Loss       Accuracy   Elem Accuracy\n",
      "    Epoch:          0.0341       1.0000       1.0000\n",
      "    Validation:     0.1295       0.0800       0.9521\n",
      "\n",
      "Completed epoch 4001/5000. Metrics:\n",
      "                     Loss       Accuracy   Elem Accuracy\n",
      "    Epoch:          0.0234       1.0000       1.0000\n",
      "    Validation:     0.1138       0.1200       0.9590\n",
      "\n",
      "Completed epoch 5000/5000. Metrics:\n",
      "                     Loss       Accuracy   Elem Accuracy\n",
      "    Epoch:          0.0175       1.0000       1.0000\n",
      "    Validation:     0.1039       0.1600       0.9634\n",
      "\n",
      "Optimization Finished!\n",
      "Testing Accuracy: 0.236\n",
      "CPU times: user 31min 30s, sys: 5min 33s, total: 37min 3s\n",
      "Wall time: 12min 49s\n"
     ]
    }
   ],
   "source": [
    "%%time\n",
    "sess = new_session()\n",
    "metrics = train_or_model(sess, epochs=10*EPOCHS)"
   ]
  },
  {
   "cell_type": "code",
   "execution_count": 505,
   "metadata": {},
   "outputs": [
    {
     "data": {
      "image/png": "[encoded data removed]",
      "text/plain": [
       "<Figure size 432x288 with 1 Axes>"
      ]
     },
     "metadata": {},
     "output_type": "display_data"
    }
   ],
   "source": [
    "plot_history(metrics)\n",
    "plt.show()"
   ]
  }
 ],
 "metadata": {
  "anaconda-cloud": {},
  "kernelspec": {
   "display_name": "Python 3",
   "language": "python",
   "name": "python3"
  },
  "language_info": {
   "codemirror_mode": {
    "name": "ipython",
    "version": 3
   },
   "file_extension": ".py",
   "mimetype": "text/x-python",
   "name": "python",
   "nbconvert_exporter": "python",
   "pygments_lexer": "ipython3",
   "version": "3.6.8"
  }
 },
 "nbformat": 4,
 "nbformat_minor": 2
}
