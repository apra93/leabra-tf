{
 "cells": [
  {
   "cell_type": "markdown",
   "metadata": {},
   "source": [
    "# 0.1.3 Specifying the Number of Lines\n",
    "\n",
    "Michael pointed out that in the true task only has one lines on each axis, so this should be a controllable parameter."
   ]
  },
  {
   "cell_type": "markdown",
   "metadata": {},
   "source": [
    "### Jupyter Extensions"
   ]
  },
  {
   "cell_type": "markdown",
   "metadata": {},
   "source": [
    "Load [watermark](https://github.com/rasbt/watermark) to see the state of the machine and environment that's running the notebook. To make sense of the options, take a look at the [usage](https://github.com/rasbt/watermark#usage) section of the readme."
   ]
  },
  {
   "cell_type": "code",
   "execution_count": 1,
   "metadata": {},
   "outputs": [
    {
     "name": "stdout",
     "output_type": "stream",
     "text": [
      "Wed Feb 27 2019 13:48:42 \n",
      "\n",
      "CPython 3.6.8\n",
      "IPython 7.2.0\n",
      "\n",
      "numpy 1.15.4\n",
      "matplotlib 3.0.2\n",
      "seaborn 0.9.0\n",
      "\n",
      "compiler   : GCC 7.3.0\n",
      "system     : Linux\n",
      "release    : 4.15.0-45-generic\n",
      "machine    : x86_64\n",
      "processor  : x86_64\n",
      "CPU cores  : 8\n",
      "interpreter: 64bit\n",
      "Git hash   : 9827c2e568837bc33ed859d3e44d2eff755a6f1f\n",
      "Git branch : master\n"
     ]
    }
   ],
   "source": [
    "# Load `watermark` extension\n",
    "%load_ext watermark\n",
    "# Display the status of the machine and packages. Add more as necessary.\n",
    "%watermark -v -n -m -g -b -t -p numpy,matplotlib,seaborn"
   ]
  },
  {
   "cell_type": "markdown",
   "metadata": {},
   "source": [
    "Load [autoreload](https://ipython.org/ipython-doc/3/config/extensions/autoreload.html) which will always reload modules marked with `%aimport`.\n",
    "\n",
    "This behavior can be inverted by running `autoreload 2` which will set everything to be auto-reloaded *except* for modules marked with `%aimport`."
   ]
  },
  {
   "cell_type": "code",
   "execution_count": 2,
   "metadata": {},
   "outputs": [],
   "source": [
    "# Load `autoreload` extension\n",
    "%load_ext autoreload\n",
    "# Set autoreload behavior\n",
    "%autoreload 1"
   ]
  },
  {
   "cell_type": "markdown",
   "metadata": {},
   "source": [
    "Load `matplotlib` in one of the more `jupyter`-friendly [rich-output modes](https://ipython.readthedocs.io/en/stable/interactive/plotting.html). Some options (that may or may not have worked) are `inline`, `notebook`, and `gtk`."
   ]
  },
  {
   "cell_type": "code",
   "execution_count": 3,
   "metadata": {},
   "outputs": [],
   "source": [
    "# Set the matplotlib mode\n",
    "%matplotlib inline"
   ]
  },
  {
   "cell_type": "markdown",
   "metadata": {},
   "source": [
    "### Imports"
   ]
  },
  {
   "cell_type": "markdown",
   "metadata": {},
   "source": [
    "Static imports that shouldn't necessarily change throughout the notebook."
   ]
  },
  {
   "cell_type": "code",
   "execution_count": 6,
   "metadata": {},
   "outputs": [],
   "source": [
    "# Standard library imports\n",
    "import logging\n",
    "from pprint import pprint\n",
    "\n",
    "# Third party\n",
    "import matplotlib.pyplot as plt\n",
    "import numpy as np\n",
    "import seaborn as sns\n",
    "\n",
    "# Progress bar\n",
    "from tqdm import tqdm"
   ]
  },
  {
   "cell_type": "markdown",
   "metadata": {},
   "source": [
    "Local imports that may or may not be autoreloaded. This section contains things that will likely have to be re-imported multiple times, and have additions or subtractions made throughout the project."
   ]
  },
  {
   "cell_type": "code",
   "execution_count": 273,
   "metadata": {},
   "outputs": [],
   "source": [
    "# Task script\n",
    "%aimport leabratf.tasks.combinatorics.combigen\n",
    "import leabratf.tasks.combinatorics.combigen as cg\n",
    "# Visualization for the task\n",
    "%aimport leabratf.visualization.combigen_heatmap\n",
    "import leabratf.visualization.combigen_heatmap as cghm\n",
    "# Utility functions\n",
    "%aimport leabratf.utils\n",
    "from leabratf.utils import setup_logging, as_list"
   ]
  },
  {
   "cell_type": "markdown",
   "metadata": {},
   "source": [
    "### Initial Setup"
   ]
  },
  {
   "cell_type": "markdown",
   "metadata": {},
   "source": [
    "Set [seaborn defaults](https://seaborn.pydata.org/generated/seaborn.set.html) for matplotlib."
   ]
  },
  {
   "cell_type": "code",
   "execution_count": 8,
   "metadata": {},
   "outputs": [],
   "source": [
    "sns.set()"
   ]
  },
  {
   "cell_type": "markdown",
   "metadata": {},
   "source": [
    "Set up the logger configuration to something more useful than baseline. Creates log files for the different log levels in the `logs` directory.\n",
    "\n",
    "See `logging.yml` for the exact logging configuration."
   ]
  },
  {
   "cell_type": "code",
   "execution_count": 9,
   "metadata": {},
   "outputs": [],
   "source": [
    "# Run base logger setup\n",
    "setup_logging()\n",
    "# Define a logger object\n",
    "logger = logging.getLogger(\"leabratf\")"
   ]
  },
  {
   "cell_type": "markdown",
   "metadata": {},
   "source": [
    "## Combigen with Random Numbers of Lines\n",
    "\n",
    "As it stands, the number of lines in the resulting `y` is randomly determined. Below is what the labels, `y`, look like and the resulting inputs, `x`, would look like. "
   ]
  },
  {
   "cell_type": "code",
   "execution_count": 13,
   "metadata": {},
   "outputs": [
    {
     "data": {
      "image/png": "[encoded data removed]",
      "text/plain": [
       "<Figure size 432x288 with 40 Axes>"
      ]
     },
     "metadata": {},
     "output_type": "display_data"
    }
   ],
   "source": [
    "cghm.visualize_combigen(5)\n",
    "plt.show()"
   ]
  },
  {
   "cell_type": "markdown",
   "metadata": {},
   "source": [
    "As shown above, there are a random number of lines in the resulting `x` inputs which should be made controllable. And just to be clear on where the function stands, below is the implemenation as of now."
   ]
  },
  {
   "cell_type": "code",
   "execution_count": 188,
   "metadata": {},
   "outputs": [],
   "source": [
    "def generate_labels(n_samples=1, stack=4, size=5, dims=2):\n",
    "    \"\"\"Returns an array of labels to construct the data from.\"\"\"\n",
    "    # Generate baseline labels\n",
    "    raw_labels = np.random.choice(2, (n_samples, stack, size, dims), replace=True)\n",
    "    # Random selection of indices to zero out\n",
    "    arg_zero = np.random.choice(size, (n_samples*dims*stack), replace=True)\n",
    "    # Alternating indices to loop through the dims of the labels\n",
    "    dim_indices = np.tile(range(dims), stack*n_samples)\n",
    "    # Repeating indices to loop through the samples\n",
    "    sample_indices = np.repeat(range(n_samples), dims*stack)\n",
    "    # Stack indices\n",
    "    stack_indices = np.repeat(np.tile(range(stack), n_samples), dims)\n",
    "    # Zero out a random selection of indices\n",
    "    raw_labels[sample_indices, stack_indices, arg_zero, dim_indices] = 0\n",
    "    return raw_labels    "
   ]
  },
  {
   "cell_type": "markdown",
   "metadata": {},
   "source": [
    "## Reworking the Implementation\n",
    "\n",
    "So now let's rework the implementation to parametrize the desired number of lines for wach axis."
   ]
  },
  {
   "cell_type": "code",
   "execution_count": 189,
   "metadata": {},
   "outputs": [],
   "source": [
    "def generate_labels_n_lines(n_samples=1, stack=4, size=5, dims=2, n_lines=[1,1]):\n",
    "    \"\"\"Returns an array of labels to construct the data from.\"\"\"\n",
    "    # Generate a zero array to fill with 1s\n",
    "    raw_labels = np.zeros((n_samples, stack, size, dims))\n",
    "\n",
    "    # Create a list of length `dims` that contains arrays with the indices which to set\n",
    "    # the value to 1. Each array is of shape `n_samples` by `stack` by `n_line[i]`\n",
    "    # where `i` is the line index.\n",
    "    arg_ones = [np.array([np.random.choice(range(size), line, replace=False)\n",
    "                          for _ in range(n_samples*stack)])\n",
    "                .reshape((n_samples,stack,line))\n",
    "                for line in n_lines]\n",
    "\n",
    "    # Use the index arrays created above to set the desired indices of the zero-array to\n",
    "    # be 1 for each dim in dims.\n",
    "    for dim, arg_one in enumerate(arg_ones):\n",
    "        np.put_along_axis(raw_labels[:,:,:,dim], arg_one, values=1, axis=2)\n",
    "    return raw_labels"
   ]
  },
  {
   "cell_type": "markdown",
   "metadata": {},
   "source": [
    "And so lets visualize the changes that were made."
   ]
  },
  {
   "cell_type": "code",
   "execution_count": 216,
   "metadata": {},
   "outputs": [
    {
     "data": {
      "image/png": "[encoded data removed]",
      "text/plain": [
       "<Figure size 432x288 with 4 Axes>"
      ]
     },
     "metadata": {},
     "output_type": "display_data"
    }
   ],
   "source": [
    "cghm.heatmap(generate_labels_n_lines(n_lines=[1,1]))\n",
    "plt.show()"
   ]
  },
  {
   "cell_type": "markdown",
   "metadata": {},
   "source": [
    "And now let's see for differnet numbers of lines."
   ]
  },
  {
   "cell_type": "code",
   "execution_count": 217,
   "metadata": {},
   "outputs": [
    {
     "data": {
      "image/png": "[encoded data removed]",
      "text/plain": [
       "<Figure size 432x288 with 4 Axes>"
      ]
     },
     "metadata": {},
     "output_type": "display_data"
    },
    {
     "data": {
      "image/png": "[encoded data removed]",
      "text/plain": [
       "<Figure size 432x288 with 4 Axes>"
      ]
     },
     "metadata": {},
     "output_type": "display_data"
    },
    {
     "data": {
      "image/png": "[encoded data removed]",
      "text/plain": [
       "<Figure size 432x288 with 4 Axes>"
      ]
     },
     "metadata": {},
     "output_type": "display_data"
    },
    {
     "data": {
      "image/png": "[encoded data removed]",
      "text/plain": [
       "<Figure size 432x288 with 4 Axes>"
      ]
     },
     "metadata": {},
     "output_type": "display_data"
    }
   ],
   "source": [
    "for n_lines in [(2,2), (3,3), (4,1), (1,3)]:\n",
    "    cghm.heatmap(generate_labels_n_lines(n_lines=n_lines))\n",
    "plt.show()"
   ]
  },
  {
   "cell_type": "markdown",
   "metadata": {},
   "source": [
    "## Ensuring the Statistics are Correct\n",
    "\n",
    "I was a little worried about the fequrency of getting certain indices over others, so let's just quickly try to ensure that the values are being set according to the expected statistics.\n",
    "\n",
    "A quick way is to create labels with 1 `n_sample` and `stack`, but `N` numbers of `dims`, which we can then use to compute a sum accross the `dims` axis. What we expect to see is as `N` gets large, the sums all become increasingly similar."
   ]
  },
  {
   "cell_type": "code",
   "execution_count": 259,
   "metadata": {},
   "outputs": [
    {
     "name": "stdout",
     "output_type": "stream",
     "text": [
      "[[[200.71 199.54 200.76 198.79 200.2 ]]]\n"
     ]
    }
   ],
   "source": [
    "dims = 1000\n",
    "\n",
    "# Create an array containing all the sums of labels with `dims` dimensions. \n",
    "y_tests = np.array(\n",
    "    [generate_labels_n_lines(n_samples=1, stack=1, dims=dims, n_lines=[1]*dims).sum(axis=-1)\n",
    "     for _ in range(100)])\n",
    "\n",
    "# Assert the standard deviation of the means of the sums is less than 1 percent of the total\n",
    "# number of dimensions used.\n",
    "assert 1 > y_tests.mean(axis=0).std() / dims\n",
    "print(y_tests.mean(axis=0))"
   ]
  },
  {
   "cell_type": "markdown",
   "metadata": {},
   "source": [
    "As expected they are all quite similar and do not vary much."
   ]
  },
  {
   "cell_type": "markdown",
   "metadata": {},
   "source": [
    "## Ensuring the Number of Lines is Always Correct\n",
    "\n",
    "A more obvious test is to make sure that we are always getting the desired number of lines. So below loops through all combinations of lines and asserts that they sum to the correct number."
   ]
  },
  {
   "cell_type": "code",
   "execution_count": 268,
   "metadata": {},
   "outputs": [
    {
     "name": "stdout",
     "output_type": "stream",
     "text": [
      "Passed!\n"
     ]
    }
   ],
   "source": [
    "def test_number_of_lines(func=None, n_samples=100, size=5, dims=2, stack=4):\n",
    "    func = func or generate_labels_n_lines\n",
    "    for line_1 in range(size):\n",
    "        for line_2 in range(size):\n",
    "            labels = func(n_samples=n_samples, stack=stack, \n",
    "                          dims=dims, n_lines=[line_1, line_2])\n",
    "            # Ensure the sums are exactly what we expect them to be at each combination\n",
    "            assert np.array_equal(labels.sum(axis=(0,1,2)), \n",
    "                                  [line_1*stack*n_samples, line_2*stack*n_samples])\n",
    "            \n",
    "test_number_of_lines()\n",
    "print('Passed!')"
   ]
  },
  {
   "cell_type": "markdown",
   "metadata": {},
   "source": [
    "## Handling Non-Conforming Arguments\n",
    "\n",
    "The last modification that we should make is to ensure that the provided inputs are checked for some easy mistakes before trying to use them."
   ]
  },
  {
   "cell_type": "code",
   "execution_count": 274,
   "metadata": {},
   "outputs": [],
   "source": [
    "def generate_labels_n_lines_checked_inputs(n_samples=1, stack=4, size=5, dims=2, n_lines=[1,1]):\n",
    "    \"\"\"Returns an array of labels to construct the data from.\"\"\"\n",
    "    # Ensure this is a list\n",
    "    n_lines = as_list(n_lines)\n",
    "    # If one number is passed in for n_lines and there is more than 1 dim, then assume that\n",
    "    # they should both be set to the value of n_lines.\n",
    "    if len(n_lines) == 1 and dims != 1:\n",
    "        n_lines *= dims\n",
    "    # Ensure dims and `len(n_lines)` is the same\n",
    "    if dims != len(n_lines):\n",
    "        raise ValueError('Value for dims must match len(n_lines)')\n",
    "    \n",
    "    # Generate a zero array to fill with 1s\n",
    "    raw_labels = np.zeros((n_samples, stack, size, dims))\n",
    "\n",
    "    # Create a list of length `dims` that contains arrays with the indices which to set\n",
    "    # the value to 1. Each array is of shape `n_samples` by `stack` by `n_line[i]`\n",
    "    # where `i` is the line index.\n",
    "    arg_ones = [np.array([np.random.choice(range(size), line, replace=False)\n",
    "                          for _ in range(n_samples*stack)])\n",
    "                .reshape((n_samples,stack,line))\n",
    "                for line in n_lines]\n",
    "\n",
    "    # Use the index arrays created above to set the desired indices of the zero-array to\n",
    "    # be 1 for each dim in dims.\n",
    "    for dim, arg_one in enumerate(arg_ones):\n",
    "        np.put_along_axis(raw_labels[:,:,:,dim], arg_one, values=1, axis=2)\n",
    "    return raw_labels"
   ]
  },
  {
   "cell_type": "markdown",
   "metadata": {},
   "source": [
    "Now let's run a couple tests on this."
   ]
  },
  {
   "cell_type": "code",
   "execution_count": 277,
   "metadata": {},
   "outputs": [
    {
     "name": "stdout",
     "output_type": "stream",
     "text": [
      "Passed 1!\n",
      "Passed 2!\n"
     ]
    }
   ],
   "source": [
    "import pytest\n",
    "\n",
    "# Test for integer n_line inputs\n",
    "for line in range(5):\n",
    "    generate_labels_n_lines_checked_inputs(n_samples=100, n_lines=line)\n",
    "    # Ensure the sums are exactly what we expect them to be at each combination\n",
    "    assert np.array_equal(labels.sum(axis=(0,1,2)), \n",
    "                          [line_1*stack*n_samples, line_2*stack*n_samples])\n",
    "print('Passed 1!')\n",
    "\n",
    "# Test that it raises an input error on invalid inputs\n",
    "for i in range(3,10):\n",
    "    with pytest.raises(ValueError):\n",
    "        generate_labels_n_lines_checked_inputs(n_lines=[1]*i)\n",
    "print('Passed 2!')"
   ]
  }
 ],
 "metadata": {
  "anaconda-cloud": {},
  "kernelspec": {
   "display_name": "Python 3",
   "language": "python",
   "name": "python3"
  },
  "language_info": {
   "codemirror_mode": {
    "name": "ipython",
    "version": 3
   },
   "file_extension": ".py",
   "mimetype": "text/x-python",
   "name": "python",
   "nbconvert_exporter": "python",
   "pygments_lexer": "ipython3",
   "version": "3.6.8"
  }
 },
 "nbformat": 4,
 "nbformat_minor": 2
}
