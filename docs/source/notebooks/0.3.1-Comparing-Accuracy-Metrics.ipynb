{
 "cells": [
  {
   "cell_type": "markdown",
   "metadata": {},
   "source": [
    "# 0.3.1 Comparing Accuracy Metrics\n",
    "\n",
    "The accuracy results that we've been getting so far haven't reflected the those presented in O'Reilly's paper, so let's generate them more systematically."
   ]
  },
  {
   "cell_type": "markdown",
   "metadata": {},
   "source": [
    "## Boilerplate\n",
    "\n",
    "The following subsections are largely boilerplate code, so skip around as needed."
   ]
  },
  {
   "cell_type": "markdown",
   "metadata": {},
   "source": [
    "### Jupyter Extensions"
   ]
  },
  {
   "cell_type": "markdown",
   "metadata": {},
   "source": [
    "Load [watermark](https://github.com/rasbt/watermark) to see the state of the machine and environment that's running the notebook. To make sense of the options, take a look at the [usage](https://github.com/rasbt/watermark#usage) section of the readme."
   ]
  },
  {
   "cell_type": "code",
   "execution_count": 1,
   "metadata": {},
   "outputs": [
    {
     "name": "stdout",
     "output_type": "stream",
     "text": [
      "Sat Mar 09 2019 19:34:19 \n",
      "\n",
      "CPython 3.6.8\n",
      "IPython 7.3.0\n",
      "\n",
      "numpy 1.16.2\n",
      "matplotlib 3.0.3\n",
      "seaborn 0.9.0\n",
      "tensorflow 1.12.0\n",
      "\n",
      "compiler   : GCC 7.3.0\n",
      "system     : Linux\n",
      "release    : 4.4.0-130-generic\n",
      "machine    : x86_64\n",
      "processor  : x86_64\n",
      "CPU cores  : 12\n",
      "interpreter: 64bit\n",
      "Git hash   : 38a0a7a2722fde1a3509380782c605515e1e71bf\n",
      "Git branch : master\n"
     ]
    }
   ],
   "source": [
    "# Load `watermark` extension\n",
    "%load_ext watermark\n",
    "# Display the status of the machine and packages. Add more as necessary.\n",
    "%watermark -v -n -m -g -b -t -p numpy,matplotlib,seaborn,tensorflow"
   ]
  },
  {
   "cell_type": "markdown",
   "metadata": {},
   "source": [
    "Load [autoreload](https://ipython.org/ipython-doc/3/config/extensions/autoreload.html) which will always reload modules marked with `%aimport`.\n",
    "\n",
    "This behavior can be inverted by running `autoreload 2` which will set everything to be auto-reloaded *except* for modules marked with `%aimport`."
   ]
  },
  {
   "cell_type": "code",
   "execution_count": 2,
   "metadata": {},
   "outputs": [],
   "source": [
    "# Load `autoreload` extension\n",
    "%load_ext autoreload\n",
    "# Set autoreload behavior\n",
    "%autoreload 1"
   ]
  },
  {
   "cell_type": "markdown",
   "metadata": {},
   "source": [
    "Load `matplotlib` in one of the more `jupyter`-friendly [rich-output modes](https://ipython.readthedocs.io/en/stable/interactive/plotting.html). Some options (that may or may not have worked) are `inline`, `notebook`, and `gtk`."
   ]
  },
  {
   "cell_type": "code",
   "execution_count": 3,
   "metadata": {},
   "outputs": [],
   "source": [
    "# Set the matplotlib mode\n",
    "%matplotlib inline"
   ]
  },
  {
   "cell_type": "markdown",
   "metadata": {},
   "source": [
    "### Imports"
   ]
  },
  {
   "cell_type": "markdown",
   "metadata": {},
   "source": [
    "Static imports that shouldn't necessarily change throughout the notebook."
   ]
  },
  {
   "cell_type": "code",
   "execution_count": 4,
   "metadata": {},
   "outputs": [],
   "source": [
    "# Standard library imports\n",
    "import os\n",
    "import logging\n",
    "from functools import reduce\n",
    "\n",
    "# Third party\n",
    "import matplotlib.pyplot as plt\n",
    "import numpy as np\n",
    "import pandas as pd\n",
    "import seaborn as sns\n",
    "import tensorflow as tf"
   ]
  },
  {
   "cell_type": "markdown",
   "metadata": {},
   "source": [
    "Local imports that may or may not be autoreloaded. This section contains things that will likely have to be re-imported multiple times, and have additions or subtractions made throughout the project."
   ]
  },
  {
   "cell_type": "code",
   "execution_count": 5,
   "metadata": {},
   "outputs": [],
   "source": [
    "# Task script\n",
    "%aimport leabratf.tasks.combinatorics.combigen\n",
    "import leabratf.tasks.combinatorics.combigen as cg\n",
    "# Visualization for the task\n",
    "%aimport leabratf.visualization.combigen_heatmap\n",
    "import leabratf.visualization.combigen_heatmap as cgh\n",
    "# Utility functions\n",
    "%aimport leabratf.utils\n",
    "from leabratf.utils import setup_logging\n",
    "%aimport leabratf.constants\n",
    "from leabratf.constants import DIR_MODELS"
   ]
  },
  {
   "cell_type": "markdown",
   "metadata": {},
   "source": [
    "### Initial Setup"
   ]
  },
  {
   "cell_type": "markdown",
   "metadata": {},
   "source": [
    "Set [seaborn defaults](https://seaborn.pydata.org/generated/seaborn.set.html) for matplotlib."
   ]
  },
  {
   "cell_type": "code",
   "execution_count": 6,
   "metadata": {},
   "outputs": [],
   "source": [
    "sns.set()\n",
    "sns.set_context(\"notebook\")"
   ]
  },
  {
   "cell_type": "markdown",
   "metadata": {},
   "source": [
    "Set up the logger configuration to something more useful than baseline. Creates log files for the different log levels in the `logs` directory.\n",
    "\n",
    "See `logging.yml` for the exact logging configuration."
   ]
  },
  {
   "cell_type": "code",
   "execution_count": 7,
   "metadata": {},
   "outputs": [],
   "source": [
    "# Run base logger setup\n",
    "setup_logging()\n",
    "# Define a logger object\n",
    "logger = logging.getLogger('leabratf')\n",
    "# Don't propagate messages\n",
    "logger.propagate = False\n",
    "\n",
    "tf.logging.set_verbosity(logging.INFO)"
   ]
  },
  {
   "cell_type": "markdown",
   "metadata": {},
   "source": [
    "### Global Variables"
   ]
  },
  {
   "cell_type": "markdown",
   "metadata": {},
   "source": [
    "#### Combigen Task Variables"
   ]
  },
  {
   "cell_type": "code",
   "execution_count": 9,
   "metadata": {},
   "outputs": [],
   "source": [
    "# Number of slots in a training set\n",
    "STACK = 4\n",
    "# Size of each axis in the input array\n",
    "SIZE = 5\n",
    "# Number of axes to use per slot\n",
    "DIMS = 2\n",
    "# Number of lines per axis\n",
    "LINES = [1,1]"
   ]
  },
  {
   "cell_type": "markdown",
   "metadata": {},
   "source": [
    "#### Data Parameters"
   ]
  },
  {
   "cell_type": "code",
   "execution_count": 10,
   "metadata": {},
   "outputs": [],
   "source": [
    "# Number of epochs to train for\n",
    "EPOCHS = 500\n",
    "# Number of samples in the training set\n",
    "N_TRAIN= 100\n",
    "# Number of samples in the validation set\n",
    "N_VAL = 50\n",
    "# Number of samples in the testing set\n",
    "N_TEST = 500"
   ]
  },
  {
   "cell_type": "markdown",
   "metadata": {},
   "source": [
    "#### Datasets"
   ]
  },
  {
   "cell_type": "code",
   "execution_count": 11,
   "metadata": {},
   "outputs": [],
   "source": [
    "# Training Data\n",
    "Y_TRAIN = cg.generate_labels(n_samples=N_TRAIN, stack=STACK, size=SIZE, dims=DIMS, n_lines=LINES)\n",
    "X_TRAIN = cg.inverse_transform(Y_TRAIN)\n",
    "# Validation Data\n",
    "Y_VAL = cg.generate_labels(n_samples=N_VAL, stack=STACK, size=SIZE, dims=DIMS, n_lines=LINES)\n",
    "X_VAL = cg.inverse_transform(Y_VAL)\n",
    "# Testing data\n",
    "Y_TEST = cg.generate_labels(n_samples=N_TEST, stack=STACK, size=SIZE, dims=DIMS, n_lines=LINES)\n",
    "X_TEST = cg.inverse_transform(Y_TEST)"
   ]
  },
  {
   "cell_type": "markdown",
   "metadata": {},
   "source": [
    "#### Network Parameters"
   ]
  },
  {
   "cell_type": "code",
   "execution_count": 12,
   "metadata": {},
   "outputs": [],
   "source": [
    "# Learning rate\n",
    "ALPHA = 0.01\n",
    "# Batch size\n",
    "BATCH_SIZE = 1\n",
    "# Number of parameters in the inputs\n",
    "N_INPUTS = STACK * SIZE ** DIMS\n",
    "# Number of hidden units\n",
    "N_HIDDEN_1 = 100\n",
    "# Number of parameters in the labels\n",
    "N_OUTPUTS = STACK * SIZE * DIMS"
   ]
  },
  {
   "cell_type": "markdown",
   "metadata": {},
   "source": [
    "#### Training Parameters"
   ]
  },
  {
   "cell_type": "code",
   "execution_count": 41,
   "metadata": {},
   "outputs": [],
   "source": [
    "# Number of times to print an update\n",
    "N_UPDATES = 5\n",
    "# Which device to train on\n",
    "TF_DEVICE = '/cpu:0'"
   ]
  },
  {
   "cell_type": "markdown",
   "metadata": {},
   "source": [
    "## Background\n",
    "\n",
    "This section goes over some of the background information for the notebook using results from previous notebooks. Skip around as needed."
   ]
  },
  {
   "cell_type": "markdown",
   "metadata": {},
   "source": [
    "### The Combigen Task\n",
    "\n",
    "Quickly remind ourselves what the task looks like before diving in."
   ]
  },
  {
   "cell_type": "code",
   "execution_count": 13,
   "metadata": {},
   "outputs": [
    {
     "data": {
      "image/png": "[encoded data removed]",
      "text/plain": [
       "<Figure size 432x288 with 40 Axes>"
      ]
     },
     "metadata": {},
     "output_type": "display_data"
    }
   ],
   "source": [
    "cgh.visualize_combigen(5)\n",
    "plt.show()"
   ]
  },
  {
   "cell_type": "markdown",
   "metadata": {},
   "source": [
    "### Previous Accuracy Results\n",
    "\n",
    "Between nb-0.2.x and 0.3, our accuracy results have been quite reproducible. Here is a summary of the different results so far. All of the models shown below were trained using the O'Reilly BP architecture and binary cross-entropy as the loss. \n",
    "\n",
    "#### Elemental Accuracy\n",
    "\n",
    "In nb-0.2.x, the O'Reilly BP model was implemented in keras using an absolute error based accuracy metric. Below is the training curve when trained to 5000 epochs.\n",
    "\n",
    "![BCE_SGD](images/nb0.2.1_bce_sgd_5000_epochs.png)\n",
    "\n",
    "#### Sample Accuracy\n",
    "\n",
    "In nb-0.3, the model was implemented in tensorflow with a modification to the accuracy\n",
    "Some things to note are that the models were trained to 10 times the number of epochs as O'Reilly did (500). However, a dotted vertical line was added at the 500 epoch mark to make it clear what the model's performance would have looked like."
   ]
  },
  {
   "cell_type": "markdown",
   "metadata": {},
   "source": [
    "## Obtaining the Metrics\n",
    "\n",
    "This next section will define the computational graph that will be used to generate the metrics down below. It is largely code copied from nb-0.3, so skip around as needed."
   ]
  },
  {
   "cell_type": "code",
   "execution_count": 14,
   "metadata": {},
   "outputs": [],
   "source": [
    "# Cleanup any residual nodes\n",
    "tf.reset_default_graph()"
   ]
  },
  {
   "cell_type": "markdown",
   "metadata": {},
   "source": [
    "### Make the Datasets\n",
    "\n",
    "Define the various `tf.Dataset`s that will be used."
   ]
  },
  {
   "cell_type": "code",
   "execution_count": 19,
   "metadata": {},
   "outputs": [],
   "source": [
    "def make_tf_datasets(init_ops):\n",
    "    # The first step of the setup is that each of the datasets (training, validation, and \n",
    "    # testing) are turned into their own `Dataset` objects.\n",
    "    # Training dataset\n",
    "    dataset_train = tf.data.Dataset.from_tensor_slices(\n",
    "        (X_TRAIN, Y_TRAIN)).repeat().batch(BATCH_SIZE)\n",
    "    # Validation dataset\n",
    "    dataset_val = tf.data.Dataset.from_tensor_slices(\n",
    "        (X_VAL, Y_VAL)).repeat().batch(N_VAL)\n",
    "    # Testing dataset\n",
    "    dataset_test = tf.data.Dataset.from_tensor_slices(\n",
    "        (X_TEST, Y_TEST)).repeat().batch(N_TEST)\n",
    "    \n",
    "    # Next, let's define the iterators for each of the datasets, and then add their \n",
    "    # initializations to the `init_ops` list.\n",
    "    # Training iterator\n",
    "    train_iter = dataset_train.make_initializable_iterator()\n",
    "    # Validation iterator\n",
    "    val_iter = dataset_val.make_initializable_iterator()\n",
    "    # Testing iterator\n",
    "    test_iter = dataset_test.make_initializable_iterator()\n",
    "    # Aggregate the iterators\n",
    "    iterators = [train_iter, val_iter, test_iter]\n",
    "\n",
    "    # Add the initiatlizations to the init opts\n",
    "    init_ops += [train_iter.initializer, val_iter.initializer, test_iter.initializer]\n",
    "    \n",
    "    # And finally, the interesting part. Rather than creating separate next elements for \n",
    "    # the model, the `tf.data` API has a string handler iterator so we can contextually \n",
    "    # switch the active `Dataset` object, resulting in different values being used for `x` \n",
    "    # and `y`.\n",
    "\n",
    "    # The way this is done is by defining a `tf.placeholder` variable, which is used \n",
    "    # first to create a string handler iterator, and later to hold the dataset-indicating \n",
    "    # string handle. The string handler iterator is what then changes the values of `x` and \n",
    "    # `y`, naturally also supplying them using the `get_next` method.\n",
    "    # The placeholder variable of type string\n",
    "    handle = tf.placeholder(tf.string, shape=[])\n",
    "    # Iterator from string handle\n",
    "    handle_iterator = tf.data.Iterator.from_string_handle(\n",
    "        handle, dataset_train.output_types, \n",
    "        dataset_train.output_shapes)\n",
    "\n",
    "    # x and y that will be used in the graph\n",
    "    x, y = handle_iterator.get_next()\n",
    "    \n",
    "    return x, y, iterators, handle, init_ops"
   ]
  },
  {
   "cell_type": "markdown",
   "metadata": {},
   "source": [
    "### TF Variables\n",
    "\n",
    "Straight forward section where we define the weights and biases. One thing to note is that the weights are initialized using the `tf.contrib.layers.xavier_initializer`. \n",
    "\n",
    "Additionally, create an empty list that will contain the initialization operations to be performed at the start of a session."
   ]
  },
  {
   "cell_type": "code",
   "execution_count": 21,
   "metadata": {},
   "outputs": [],
   "source": [
    "# Weights and biases\n",
    "weights = {\n",
    "    'h1': tf.get_variable(name='w_h1', shape=[N_INPUTS, N_HIDDEN_1],\n",
    "                      initializer=tf.contrib.layers.xavier_initializer()),\n",
    "    'out': tf.get_variable(name='w_out', shape=[N_HIDDEN_1, N_OUTPUTS],\n",
    "                      initializer=tf.contrib.layers.xavier_initializer()),\n",
    "}\n",
    "biases = {\n",
    "    'b1': tf.get_variable(name=\"b_1\", shape=[N_HIDDEN_1], \n",
    "                      initializer=tf.zeros_initializer()),\n",
    "    'out': tf.get_variable(name=\"b_out\", shape=[N_OUTPUTS], \n",
    "                      initializer=tf.zeros_initializer()),\n",
    "}\n",
    "\n",
    "# List for initialization operations\n",
    "init_ops = [tf.global_variables_initializer()]"
   ]
  },
  {
   "cell_type": "markdown",
   "metadata": {},
   "source": [
    "### Model and Loss Function\n",
    "\n",
    "The architecture is the same as previous notebooks. See nb-0.3 for more details."
   ]
  },
  {
   "cell_type": "code",
   "execution_count": 22,
   "metadata": {},
   "outputs": [],
   "source": [
    "def oreilly_model(inputs):\n",
    "    # Reshape for hidden layer\n",
    "    inputs = tf.reshape(inputs, shape=[-1, N_INPUTS])\n",
    "    # Single hidden layer\n",
    "    inputs = tf.sigmoid(tf.add(tf.matmul(inputs, weights['h1']), biases['b1']))\n",
    "    # Output layer\n",
    "    inputs = tf.add(tf.matmul(inputs, weights['out']), biases['out'])\n",
    "    # Reshape for labels\n",
    "    return tf.reshape(inputs, shape=[-1, STACK, SIZE, DIMS])\n",
    "\n",
    "with tf.device(TF_DEVICE):\n",
    "    # Get the relevant dataset nodes\n",
    "    x, y, iterators, handle, init_ops = make_tf_datasets(init_ops)\n",
    "    \n",
    "    # Build the model\n",
    "    logits = oreilly_model(x)\n",
    "    # Ensure y is cast to the same type as logits\n",
    "    labels = tf.cast(y, logits.dtype)\n",
    "\n",
    "    # Define loss and optimizer\n",
    "    loss_op = tf.reduce_mean(tf.nn.sigmoid_cross_entropy_with_logits(\n",
    "        logits=logits, labels=labels))\n",
    "    optimizer = tf.train.GradientDescentOptimizer(learning_rate=ALPHA)\n",
    "\n",
    "    # train_op = optimizer.minimize(loss_op, global_step=tf.train.get_global_step())\n",
    "    train_op = optimizer.minimize(loss_op)"
   ]
  },
  {
   "cell_type": "markdown",
   "metadata": {},
   "source": [
    "### Metrics\n",
    "\n",
    "The last few ops to define before training are the metrics. "
   ]
  },
  {
   "cell_type": "code",
   "execution_count": 29,
   "metadata": {},
   "outputs": [],
   "source": [
    "with tf.device(TF_DEVICE):\n",
    "    # Define some intermediate nodes\n",
    "    predictions = tf.sigmoid(logits)\n",
    "    rounded_predictions = tf.round(predictions)\n",
    "    equal_labels_and_preds = tf.equal(rounded_predictions, labels)\n",
    "    \n",
    "    # O'Reilly Accuracy \n",
    "    axis_acc = tf.reduce_all(equal_labels_and_preds, axis=(2))\n",
    "    slot_acc = tf.reduce_all(axis_acc, axis=(2))\n",
    "    sample_acc = tf.reduce_all(slot_acc, axis=(1))\n",
    " \n",
    "    # Elemental Accuracy \n",
    "    el_acc_op = tf.reduce_mean(tf.cast(equal_labels_and_preds, tf.float16))\n",
    "    # Axis Accuracy\n",
    "    axis_acc_op = tf.reduce_mean(tf.cast(axis_acc, tf.float16))\n",
    "    # Slot Accuracy\n",
    "    slot_acc_op = tf.reduce_mean(tf.cast(slot_acc, tf.float16))\n",
    "    # Sample Accuracy\n",
    "    sample_acc_op = tf.reduce_mean(tf.cast(sample_acc, tf.float16))"
   ]
  },
  {
   "cell_type": "markdown",
   "metadata": {},
   "source": [
    "### New Session Function\n",
    "\n",
    "In the event that we do not want to immediately close sessions, we won't be using the context handler but will still need to grab new sessions as necessary. So let's quickly write a function that will properly run `sess.close()` if a previous session exists and then return a new `tf.Session` instance."
   ]
  },
  {
   "cell_type": "code",
   "execution_count": 30,
   "metadata": {},
   "outputs": [],
   "source": [
    "def new_session(*args, **kwargs):\n",
    "    # Try to close the globally defined session if it isn't already\n",
    "    try:\n",
    "        if not sess._closed:\n",
    "            sess.close()\n",
    "    # If it doesn't exist, then just pass\n",
    "    except NameError:\n",
    "        pass\n",
    "    # Return the new instance\n",
    "    return tf.Session(*args, **kwargs)"
   ]
  },
  {
   "cell_type": "markdown",
   "metadata": {},
   "source": [
    "### Defining the Training Function\n",
    "\n",
    "Let's define a function that runs the training routine and accepts the number of epochs as the inputs."
   ]
  },
  {
   "cell_type": "code",
   "execution_count": 40,
   "metadata": {},
   "outputs": [],
   "source": [
    "def train_or_model(sess, epochs=EPOCHS, n_updates=N_UPDATES):\n",
    "    # Ensure this is an int\n",
    "    epochs = int(epochs)\n",
    "    # Dict with the various metrics we care about\n",
    "    metrics = {'loss':[], 'el_acc':[], 'ax_acc':[], 'sl_acc':[], 'sm_acc':[], \n",
    "               'val_loss':[], 'val_el_acc':[], 'val_ax_acc':[], 'val_sl_acc':[], \n",
    "               'val_sm_acc':[]}\n",
    "    # Run the initialization ops\n",
    "    sess.run(init_ops)\n",
    "    # Define training and validation handlers\n",
    "    training_handle, validation_handle, testing_handle = sess.run([i.string_handle() \n",
    "                                                                   for i in iterators])\n",
    "\n",
    "    for epoch in range(epochs):\n",
    "        ep_loss, ep_el_acc, ep_sl_acc, ep_ax_acc, ep_sm_acc = np.zeros([5, N_TRAIN])\n",
    "        # Run the training steps\n",
    "        for i in range(N_TRAIN):\n",
    "            _, ep_loss[i], ep_el_acc[i], ep_sl_acc[i], ep_ax_acc[i], ep_sm_acc[i] = sess.run(\n",
    "                [train_op, loss_op, el_acc_op, axis_acc_op, slot_acc_op, sample_acc_op],\n",
    "                feed_dict={handle: training_handle})\n",
    "            \n",
    "        # Get means for the epoch\n",
    "        epoch_data = list(np.mean((ep_loss, ep_el_acc, ep_sl_acc, ep_ax_acc, ep_sm_acc), \n",
    "                                  axis=1))\n",
    "\n",
    "        # Calculate validation accuracy and loss\n",
    "        val_data = list(sess.run([loss_op, el_acc_op, axis_acc_op, slot_acc_op, sample_acc_op],\n",
    "                                 feed_dict={handle: validation_handle}))\n",
    "        \n",
    "        # Record\n",
    "        for key, value in zip(metrics.keys(), epoch_data + val_data):\n",
    "            metrics[key].append(value)\n",
    "\n",
    "        # Selectively display the epoch number\n",
    "        if not epoch % (epochs / n_updates) or epoch == epochs - 1:\n",
    "            print((\"Completed epoch {0}/{1}. Metrics:\\n\" + \n",
    "                   \"                     Loss   Sample Accuracy   Elem Accuracy\\n\" +\n",
    "                   \"    Epoch:      {2:10.4f}   {3:10.4f}   {4:10.4f}\\n\" +\n",
    "                   \"    Validation: {5:10.4f}   {6:10.4f}   {7:10.4f}\\n\").format(\n",
    "                epoch+1, epochs, epoch_data[0],epoch_data[4], epoch_data[1], \n",
    "                val_data[0], val_data[4], val_data[1]))\n",
    "\n",
    "    # Calculate accuracy for test images\n",
    "    print(\"Optimization Finished! Testing Accuracy:\", sess.run(\n",
    "        accuracy_op, feed_dict={handle: testing_handle}))\n",
    "    return metrics"
   ]
  },
  {
   "cell_type": "markdown",
   "metadata": {},
   "source": [
    "### Getting Metrics for 10 Models\n",
    "\n",
    "The last thing to do is encapsulate everything into one "
   ]
  },
  {
   "cell_type": "code",
   "execution_count": 55,
   "metadata": {},
   "outputs": [
    {
     "name": "stdout",
     "output_type": "stream",
     "text": [
      "Starting training for model 0...\n",
      "Completed epoch 1/25000. Metrics:\n",
      "                     Loss   Sample Accuracy   Elem Accuracy\n",
      "    Epoch:          0.6657       0.0000       0.5955\n",
      "    Validation:     0.6367       0.0000       0.6450\n",
      "\n",
      "Completed epoch 25000/25000. Metrics:\n",
      "                     Loss   Sample Accuracy   Elem Accuracy\n",
      "    Epoch:          0.0025       1.0000       1.0000\n",
      "    Validation:     0.0635       0.3999       0.9766\n",
      "\n",
      "Optimization Finished! Testing Accuracy: 0.454\n",
      "Completed training for model 0!\n",
      "\n",
      "Starting training for model 1...\n",
      "Completed epoch 1/25000. Metrics:\n",
      "                     Loss   Sample Accuracy   Elem Accuracy\n",
      "    Epoch:          0.7226       0.0000       0.5315\n",
      "    Validation:     0.6821       0.0000       0.5732\n",
      "\n",
      "Completed epoch 25000/25000. Metrics:\n",
      "                     Loss   Sample Accuracy   Elem Accuracy\n",
      "    Epoch:          0.0025       1.0000       1.0000\n",
      "    Validation:     0.0618       0.4199       0.9771\n",
      "\n",
      "Optimization Finished! Testing Accuracy: 0.484\n",
      "Completed training for model 1!\n",
      "\n",
      "Starting training for model 2...\n",
      "Completed epoch 1/25000. Metrics:\n",
      "                     Loss   Sample Accuracy   Elem Accuracy\n",
      "    Epoch:          0.6739       0.0000       0.6012\n",
      "    Validation:     0.6468       0.0000       0.6465\n",
      "\n",
      "Completed epoch 25000/25000. Metrics:\n",
      "                     Loss   Sample Accuracy   Elem Accuracy\n",
      "    Epoch:          0.0025       1.0000       1.0000\n",
      "    Validation:     0.0613       0.3999       0.9761\n",
      "\n",
      "Optimization Finished! Testing Accuracy: 0.452\n",
      "Completed training for model 2!\n",
      "\n",
      "Starting training for model 3...\n",
      "Completed epoch 1/25000. Metrics:\n",
      "                     Loss   Sample Accuracy   Elem Accuracy\n",
      "    Epoch:          0.7103       0.0000       0.5833\n",
      "    Validation:     0.6879       0.0000       0.6040\n",
      "\n",
      "Completed epoch 25000/25000. Metrics:\n",
      "                     Loss   Sample Accuracy   Elem Accuracy\n",
      "    Epoch:          0.0025       1.0000       1.0000\n",
      "    Validation:     0.0674       0.3799       0.9736\n",
      "\n",
      "Optimization Finished! Testing Accuracy: 0.438\n",
      "Completed training for model 3!\n",
      "\n",
      "Starting training for model 4...\n",
      "Completed epoch 1/25000. Metrics:\n",
      "                     Loss   Sample Accuracy   Elem Accuracy\n",
      "    Epoch:          0.7036       0.0000       0.5950\n",
      "    Validation:     0.6646       0.0000       0.6196\n",
      "\n",
      "Completed epoch 25000/25000. Metrics:\n",
      "                     Loss   Sample Accuracy   Elem Accuracy\n",
      "    Epoch:          0.0025       1.0000       1.0000\n",
      "    Validation:     0.0596       0.4199       0.9775\n",
      "\n",
      "Optimization Finished! Testing Accuracy: 0.454\n",
      "Completed training for model 4!\n",
      "\n",
      "Starting training for model 5...\n",
      "Completed epoch 1/25000. Metrics:\n",
      "                     Loss   Sample Accuracy   Elem Accuracy\n",
      "    Epoch:          0.7352       0.0000       0.4913\n",
      "    Validation:     0.6886       0.0000       0.5649\n",
      "\n",
      "Completed epoch 25000/25000. Metrics:\n",
      "                     Loss   Sample Accuracy   Elem Accuracy\n",
      "    Epoch:          0.0025       1.0000       1.0000\n",
      "    Validation:     0.0639       0.3601       0.9746\n",
      "\n",
      "Optimization Finished! Testing Accuracy: 0.49\n",
      "Completed training for model 5!\n",
      "\n",
      "Starting training for model 6...\n",
      "Completed epoch 1/25000. Metrics:\n",
      "                     Loss   Sample Accuracy   Elem Accuracy\n",
      "    Epoch:          0.7234       0.0000       0.4922\n",
      "    Validation:     0.6932       0.0000       0.5278\n",
      "\n",
      "Completed epoch 25000/25000. Metrics:\n",
      "                     Loss   Sample Accuracy   Elem Accuracy\n",
      "    Epoch:          0.0025       1.0000       1.0000\n",
      "    Validation:     0.0585       0.4800       0.9790\n",
      "\n",
      "Optimization Finished! Testing Accuracy: 0.466\n",
      "Completed training for model 6!\n",
      "\n",
      "Starting training for model 7...\n",
      "Completed epoch 1/25000. Metrics:\n",
      "                     Loss   Sample Accuracy   Elem Accuracy\n",
      "    Epoch:          0.6881       0.0000       0.5540\n",
      "    Validation:     0.6663       0.0000       0.5747\n",
      "\n",
      "Completed epoch 25000/25000. Metrics:\n",
      "                     Loss   Sample Accuracy   Elem Accuracy\n",
      "    Epoch:          0.0025       1.0000       1.0000\n",
      "    Validation:     0.0644       0.5200       0.9790\n",
      "\n",
      "Optimization Finished! Testing Accuracy: 0.434\n",
      "Completed training for model 7!\n",
      "\n",
      "Starting training for model 8...\n",
      "Completed epoch 1/25000. Metrics:\n",
      "                     Loss   Sample Accuracy   Elem Accuracy\n",
      "    Epoch:          0.6645       0.0000       0.5910\n",
      "    Validation:     0.6521       0.0000       0.6362\n",
      "\n",
      "Completed epoch 25000/25000. Metrics:\n",
      "                     Loss   Sample Accuracy   Elem Accuracy\n",
      "    Epoch:          0.0025       1.0000       1.0000\n",
      "    Validation:     0.0631       0.5000       0.9761\n",
      "\n",
      "Optimization Finished! Testing Accuracy: 0.468\n",
      "Completed training for model 8!\n",
      "\n",
      "Starting training for model 9...\n",
      "Completed epoch 1/25000. Metrics:\n",
      "                     Loss   Sample Accuracy   Elem Accuracy\n",
      "    Epoch:          0.6865       0.0000       0.5622\n",
      "    Validation:     0.6628       0.0000       0.6001\n",
      "\n",
      "Completed epoch 25000/25000. Metrics:\n",
      "                     Loss   Sample Accuracy   Elem Accuracy\n",
      "    Epoch:          0.0025       1.0000       1.0000\n",
      "    Validation:     0.0621       0.3601       0.9746\n",
      "\n",
      "Optimization Finished! Testing Accuracy: 0.452\n",
      "Completed training for model 9!\n",
      "\n",
      "CPU times: user 1d 3h 11min 44s, sys: 4h 45min 4s, total: 1d 7h 56min 49s\n",
      "Wall time: 11h 19min 5s\n"
     ]
    }
   ],
   "source": [
    "%%time\n",
    "sess = new_session()\n",
    "metrics_ = []\n",
    "for i in range(10):\n",
    "    print('Starting training for model {0}...'.format(i))\n",
    "    metrics.append(train_or_model(sess, epochs=50*EPOCHS, n_updates=1))\n",
    "    print('Completed training for model {0}!\\n'.format(i))"
   ]
  },
  {
   "cell_type": "markdown",
   "metadata": {},
   "source": [
    "## Plotting the Metrics\n",
    "\n",
    "Just like before, let's plot the training curves using the metrics we obtained. To do this, let's borrow the same function from nb-0.3 but make it a bit more general."
   ]
  },
  {
   "cell_type": "code",
   "execution_count": null,
   "metadata": {},
   "outputs": [],
   "source": [
    "print(1)"
   ]
  },
  {
   "cell_type": "code",
   "execution_count": null,
   "metadata": {},
   "outputs": [],
   "source": [
    "from leabratf.utils import as_list\n",
    "\n",
    "def plot_metrics(metrics_inp, metrics=None, epochs=None):\n",
    "    import ipdb;ipdb.set_trace()\n",
    "    metrics_list = [metrics_inp] if isinstance(metrics_inp, dict) else list(metrics_inp)\n",
    "    for metrics_dict in metrics_list:\n",
    "        # Keep this working for keras\n",
    "        metrics_dict = metrics_dict if not hasattr(metrics_dict, 'history') else metrics_dict.history\n",
    "        # What metrics to plot\n",
    "        metrics = metrics or metrics_dict.keys()\n",
    "        # How many epochs to plot\n",
    "        if not epochs:\n",
    "            len_metrics = [len(val) for val in metrics_dict.values()]\n",
    "            assert all(l == len_metrics[0] for l in len_metrics), 'Metrics have different lengths'\n",
    "            epochs = len_metrics[0]\n",
    "        # Plot each metric\n",
    "        for key in metrics:\n",
    "            plt.plot(metrics_dict[key][:epochs], label=key)\n",
    "    plt.title('Training History')\n",
    "    plt.xlabel('Epochs')\n",
    "    if epochs > EPOCHS:\n",
    "        plt.axvline(EPOCHS, linestyle='--', label='500 Epochs')\n",
    "    plt.legend()\n",
    "    \n",
    "plot_metrics(metrics)\n",
    "plt.show()"
   ]
  },
  {
   "cell_type": "markdown",
   "metadata": {},
   "source": [
    "### The Legend\n",
    "\n",
    "Now that we have so may metrics to keep track of, it's worth taking the time to define each of them.\n",
    "\n",
    "#### Training Set Metrics\n",
    "\n",
    "Metrics obtained every epoch from from performance on the training set.\n",
    "\n",
    "- `loss` - Loss for the training set\n",
    "- `el_acc` - Element-wise accuracy between predictions and labels for the training set\n",
    "- `ax_acc` - Axis accuracy for each slot in each sample between predictions and labels for the training set. Score per sample goes in eighth steps between 0.0 and 1.0. Every correct axis in every slot contributes 0.125 to the the overall accuracy\n",
    "- `sl_acc` - Slot accuracy for sample between predictions and labels for the training set. Score per sample goes in quarter steps between 0.0 and 1.0. Any slot that has all elements correct contributes 0.25 to the score\n",
    "- `sm_acc` - Sample accuracy between predictions and labels for the training set. Score per sample is binary - model must get every element correct to receive 1.0\n",
    "\n",
    "#### Validation Set Metrics\n",
    "\n",
    "Metrics obtained every epoch from from performance on the validation set.\n",
    "\n",
    "- `val_loss` - Loss for the validation set for a particular epoch\n",
    "- `val_el_acc` - Element-wise accuracy between predictions and labels for the validation set. See above for details\n",
    "- `val_sl_acc` - Slot accuracy for sample between predictions and labels for the validation set. See above for details\n",
    "- `val_sm_acc` - Sample accuracy between predictions and labels for the training set. See above for details"
   ]
  },
  {
   "cell_type": "markdown",
   "metadata": {},
   "source": [
    "### All Metrics\n",
    "\n",
    "Let's plot the average of all the metrics in one plot just to see the general structure, so first get an average value dictionary."
   ]
  },
  {
   "cell_type": "code",
   "execution_count": 78,
   "metadata": {},
   "outputs": [],
   "source": [
    "metrics_ave = {key:np.mean([model[key] for model in metrics], axis=0) for key in metrics[0].keys()}"
   ]
  },
  {
   "cell_type": "markdown",
   "metadata": {},
   "source": [
    "And now plot them all."
   ]
  },
  {
   "cell_type": "code",
   "execution_count": 82,
   "metadata": {},
   "outputs": [
    {
     "ename": "AttributeError",
     "evalue": "'str' object has no attribute 'keys'",
     "output_type": "error",
     "traceback": [
      "\u001b[0;31m---------------------------------------------------------------------------\u001b[0m",
      "\u001b[0;31mAttributeError\u001b[0m                            Traceback (most recent call last)",
      "\u001b[0;32m<ipython-input-82-0723d4b4b028>\u001b[0m in \u001b[0;36m<module>\u001b[0;34m\u001b[0m\n\u001b[0;32m----> 1\u001b[0;31m \u001b[0mplot_metrics\u001b[0m\u001b[0;34m(\u001b[0m\u001b[0mmetrics_ave\u001b[0m\u001b[0;34m)\u001b[0m\u001b[0;34m\u001b[0m\u001b[0;34m\u001b[0m\u001b[0m\n\u001b[0m\u001b[1;32m      2\u001b[0m \u001b[0mplt\u001b[0m\u001b[0;34m.\u001b[0m\u001b[0mshow\u001b[0m\u001b[0;34m(\u001b[0m\u001b[0;34m)\u001b[0m\u001b[0;34m\u001b[0m\u001b[0;34m\u001b[0m\u001b[0m\n",
      "\u001b[0;32m<ipython-input-81-4952321d8a00>\u001b[0m in \u001b[0;36mplot_metrics\u001b[0;34m(metrics_inp, metrics, epochs)\u001b[0m\n\u001b[1;32m      7\u001b[0m         \u001b[0mmetrics_dict\u001b[0m \u001b[0;34m=\u001b[0m \u001b[0mmetrics_dict\u001b[0m \u001b[0;32mif\u001b[0m \u001b[0;32mnot\u001b[0m \u001b[0mhasattr\u001b[0m\u001b[0;34m(\u001b[0m\u001b[0mmetrics_dict\u001b[0m\u001b[0;34m,\u001b[0m \u001b[0;34m'history'\u001b[0m\u001b[0;34m)\u001b[0m \u001b[0;32melse\u001b[0m \u001b[0mmetrics_dict\u001b[0m\u001b[0;34m.\u001b[0m\u001b[0mhistory\u001b[0m\u001b[0;34m\u001b[0m\u001b[0;34m\u001b[0m\u001b[0m\n\u001b[1;32m      8\u001b[0m         \u001b[0;31m# What metrics to plot\u001b[0m\u001b[0;34m\u001b[0m\u001b[0;34m\u001b[0m\u001b[0;34m\u001b[0m\u001b[0m\n\u001b[0;32m----> 9\u001b[0;31m         \u001b[0mmetrics\u001b[0m \u001b[0;34m=\u001b[0m \u001b[0mmetrics\u001b[0m \u001b[0;32mor\u001b[0m \u001b[0mmetrics_dict\u001b[0m\u001b[0;34m.\u001b[0m\u001b[0mkeys\u001b[0m\u001b[0;34m(\u001b[0m\u001b[0;34m)\u001b[0m\u001b[0;34m\u001b[0m\u001b[0;34m\u001b[0m\u001b[0m\n\u001b[0m\u001b[1;32m     10\u001b[0m         \u001b[0;31m# How many epochs to plot\u001b[0m\u001b[0;34m\u001b[0m\u001b[0;34m\u001b[0m\u001b[0;34m\u001b[0m\u001b[0m\n\u001b[1;32m     11\u001b[0m         \u001b[0;32mif\u001b[0m \u001b[0;32mnot\u001b[0m \u001b[0mepochs\u001b[0m\u001b[0;34m:\u001b[0m\u001b[0;34m\u001b[0m\u001b[0;34m\u001b[0m\u001b[0m\n",
      "\u001b[0;31mAttributeError\u001b[0m: 'str' object has no attribute 'keys'"
     ]
    }
   ],
   "source": [
    "plot_metrics(metrics_ave)\n",
    "plt.show()"
   ]
  },
  {
   "cell_type": "markdown",
   "metadata": {},
   "source": [
    "## Accuracy Metrics in Detail\n",
    "\n",
    "Let's go through each of the different accuracy metrics individually."
   ]
  },
  {
   "cell_type": "markdown",
   "metadata": {},
   "source": [
    "### Sample Accuracy\n",
    "\n",
    "The first one to check out should be the sample accuracy since it's the one that seems the most similar to O'Reilly's definition of accuracy. So let's plot the sample accuracies of all the models."
   ]
  },
  {
   "cell_type": "code",
   "execution_count": null,
   "metadata": {},
   "outputs": [],
   "source": []
  }
 ],
 "metadata": {
  "anaconda-cloud": {},
  "kernelspec": {
   "display_name": "Python 3",
   "language": "python",
   "name": "python3"
  },
  "language_info": {
   "codemirror_mode": {
    "name": "ipython",
    "version": 3
   },
   "file_extension": ".py",
   "mimetype": "text/x-python",
   "name": "python",
   "nbconvert_exporter": "python",
   "pygments_lexer": "ipython3",
   "version": "3.6.8"
  }
 },
 "nbformat": 4,
 "nbformat_minor": 2
}
