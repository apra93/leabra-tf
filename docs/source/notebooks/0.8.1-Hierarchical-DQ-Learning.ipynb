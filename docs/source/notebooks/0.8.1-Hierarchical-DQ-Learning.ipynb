{
 "cells": [
  {
   "cell_type": "markdown",
   "metadata": {},
   "source": [
    "# 0.8.1 Hierarchical DQ Learning\n",
    "\n",
    "Quickly put together a reinforcement learning how DQNs perform when run on tasks with a hierarchical structure such as the one laid out in [this](http://ski.clps.brown.edu/papers/CollinsFrank_Cognition.pdf) paper."
   ]
  },
  {
   "cell_type": "markdown",
   "metadata": {
    "toc-hr-collapsed": true
   },
   "source": [
    "## Boilerplate\n",
    "\n",
    "The following subsections are largely boilerplate code, so skip around as needed."
   ]
  },
  {
   "cell_type": "markdown",
   "metadata": {},
   "source": [
    "### Jupyter Extensions"
   ]
  },
  {
   "cell_type": "markdown",
   "metadata": {},
   "source": [
    "Load [watermark](https://github.com/rasbt/watermark) to see the state of the machine and environment that's running the notebook. To make sense of the options, take a look at the [usage](https://github.com/rasbt/watermark#usage) section of the readme."
   ]
  },
  {
   "cell_type": "code",
   "execution_count": 35,
   "metadata": {},
   "outputs": [
    {
     "name": "stdout",
     "output_type": "stream",
     "text": [
      "The watermark extension is already loaded. To reload it, use:\n",
      "  %reload_ext watermark\n",
      "Thu Jun 13 2019 00:56:49 \n",
      "\n",
      "CPython 3.6.8\n",
      "IPython 7.3.0\n",
      "\n",
      "numpy 1.16.2\n",
      "matplotlib 3.0.2\n",
      "seaborn 0.9.0\n",
      "tensorflow 1.10.0\n",
      "\n",
      "compiler   : GCC 7.3.0\n",
      "system     : Linux\n",
      "release    : 4.18.0-21-generic\n",
      "machine    : x86_64\n",
      "processor  : x86_64\n",
      "CPU cores  : 8\n",
      "interpreter: 64bit\n",
      "Git hash   : 9b138876ec01744f4f4b303641c4f9be4079437e\n",
      "Git branch : master\n"
     ]
    }
   ],
   "source": [
    "# Load `watermark` extension\n",
    "%load_ext watermark\n",
    "# Display the status of the machine and packages. Add more as necessary.\n",
    "%watermark -v -n -m -g -b -t -p numpy,matplotlib,seaborn,tensorflow"
   ]
  },
  {
   "cell_type": "markdown",
   "metadata": {},
   "source": [
    "Load [autoreload](https://ipython.org/ipython-doc/3/config/extensions/autoreload.html) which will always reload modules marked with `%aimport`.\n",
    "\n",
    "This behavior can be inverted by running `autoreload 2` which will set everything to be auto-reloaded *except* for modules marked with `%aimport`."
   ]
  },
  {
   "cell_type": "code",
   "execution_count": 2,
   "metadata": {},
   "outputs": [],
   "source": [
    "# Load `autoreload` extension\n",
    "%load_ext autoreload\n",
    "# Set autoreload behavior\n",
    "%autoreload 1"
   ]
  },
  {
   "cell_type": "markdown",
   "metadata": {},
   "source": [
    "Load `matplotlib` in one of the more `jupyter`-friendly [rich-output modes](https://ipython.readthedocs.io/en/stable/interactive/plotting.html). Some options (that may or may not have worked) are `inline`, `notebook`, and `gtk`."
   ]
  },
  {
   "cell_type": "code",
   "execution_count": 3,
   "metadata": {},
   "outputs": [],
   "source": [
    "# Set the matplotlib mode.\n",
    "%matplotlib inline"
   ]
  },
  {
   "cell_type": "markdown",
   "metadata": {},
   "source": [
    "### Imports"
   ]
  },
  {
   "cell_type": "markdown",
   "metadata": {},
   "source": [
    "Static imports that shouldn't necessarily change throughout the notebook."
   ]
  },
  {
   "cell_type": "code",
   "execution_count": 36,
   "metadata": {},
   "outputs": [],
   "source": [
    "# Standard library imports\n",
    "import logging\n",
    "import os\n",
    "from pathlib import Path\n",
    "from copy import deepcopy\n",
    "from pprint import pprint\n",
    "\n",
    "# Third party\n",
    "import IPython as ipy\n",
    "import matplotlib.pyplot as plt\n",
    "import numpy as np\n",
    "import pandas as pd\n",
    "import seaborn as sns\n",
    "import tensorflow as tf\n",
    "from pstar import pdict"
   ]
  },
  {
   "cell_type": "markdown",
   "metadata": {},
   "source": [
    "Local imports that may or may not be autoreloaded. This section contains things that will likely have to be re-imported multiple times, and have additions or subtractions made throughout the project."
   ]
  },
  {
   "cell_type": "code",
   "execution_count": 5,
   "metadata": {},
   "outputs": [],
   "source": [
    "# Utility functions\n",
    "%aimport leabratf.utils\n",
    "from leabratf.utils import setup_logging\n",
    "%aimport leabratf.constants\n",
    "from leabratf.constants import DIR_DATA_PROC"
   ]
  },
  {
   "cell_type": "markdown",
   "metadata": {},
   "source": [
    "### Initial Setup"
   ]
  },
  {
   "cell_type": "markdown",
   "metadata": {},
   "source": [
    "Set [seaborn defaults](https://seaborn.pydata.org/generated/seaborn.set.html) for matplotlib."
   ]
  },
  {
   "cell_type": "code",
   "execution_count": 6,
   "metadata": {},
   "outputs": [],
   "source": [
    "sns.set()\n",
    "sns.set_context(\"notebook\")"
   ]
  },
  {
   "cell_type": "markdown",
   "metadata": {},
   "source": [
    "Set up the logger configuration to something more useful than baseline. Creates log files for the different log levels in the `logs` directory.\n",
    "\n",
    "See `logging.yml` for the exact logging configuration."
   ]
  },
  {
   "cell_type": "code",
   "execution_count": 7,
   "metadata": {},
   "outputs": [],
   "source": [
    "# Run base logger setup\n",
    "setup_logging()\n",
    "# Define a logger object\n",
    "logger = logging.getLogger('leabratf')"
   ]
  },
  {
   "cell_type": "markdown",
   "metadata": {
    "toc-hr-collapsed": true
   },
   "source": [
    "## Task Definitions"
   ]
  },
  {
   "cell_type": "markdown",
   "metadata": {},
   "source": [
    "### Constants"
   ]
  },
  {
   "cell_type": "code",
   "execution_count": 8,
   "metadata": {},
   "outputs": [],
   "source": [
    "N_COLORS = 5\n",
    "N_SHAPES = 4\n",
    "N_ACTIONS = 4"
   ]
  },
  {
   "cell_type": "markdown",
   "metadata": {},
   "source": [
    "### Phase Colors and Shapes"
   ]
  },
  {
   "cell_type": "code",
   "execution_count": 12,
   "metadata": {},
   "outputs": [],
   "source": [
    "# All the colors and shapes\n",
    "all_colors = [0, 1, 2, 3, 4]\n",
    "all_shapes = [1 ,2, 3, 4]\n",
    "\n",
    "# Phase A\n",
    "phase_a_colors = [0, 1, 2]\n",
    "phase_a_shapes = [1, 2]\n",
    "\n",
    "# Phase B\n",
    "phase_b_colors = [0, 1, 2]\n",
    "phase_b_shapes = [3, 4]\n",
    "\n",
    "# Phase C\n",
    "phase_c_colors = [3, 4]\n",
    "phase_c_shapes = [3, 4]\n",
    "\n",
    "# Phase Pairs\n",
    "phase_color_shape_pairs = {\n",
    "    'Phase A' : (phase_a_colors, phase_a_shapes),\n",
    "    'Phase B' : (phase_b_colors, phase_b_shapes),\n",
    "    'Phase C' : (phase_c_colors, phase_c_shapes),\n",
    "}\n",
    "\n",
    "# Color lines correspond to a particular horizontal line\n",
    "# # colors are not uniformly selected for\n",
    "# Shapes corespond to a particular vertical line\n",
    "# Color, Shape combinations correspond to a particular action 1-4"
   ]
  },
  {
   "cell_type": "markdown",
   "metadata": {},
   "source": [
    "### Task-Sets"
   ]
  },
  {
   "cell_type": "code",
   "execution_count": 29,
   "metadata": {},
   "outputs": [],
   "source": [
    "# Define the constants\n",
    "# TS Colors\n",
    "ts1_colors = [0, 1]\n",
    "ts2_colors = [2]\n",
    "ts_old_colors = [3]\n",
    "ts_new_colors = [4]\n",
    "\n",
    "ts_color_shape_pairs = {\n",
    "    'TS 1 Phase A' : (ts1_colors, phase_a_shapes),\n",
    "    'TS 2 Phase A' : (ts2_colors, phase_a_shapes),\n",
    "    'TS 1 Phase B' : (ts1_colors, phase_b_shapes),\n",
    "    'TS 2 Phase B' : (ts2_colors, phase_b_shapes),\n",
    "    'TS Old Phase C' : (ts_old_colors, phase_c_shapes),\n",
    "    'TS New Phase C' : (ts_new_colors, phase_c_shapes),\n",
    "}"
   ]
  },
  {
   "cell_type": "markdown",
   "metadata": {},
   "source": [
    "### Action Mapping"
   ]
  },
  {
   "cell_type": "code",
   "execution_count": 22,
   "metadata": {},
   "outputs": [],
   "source": [
    "action_dictonary_ts1 = {\n",
    "    # (Color, Shape) : Action\n",
    "    #      Phase A       |       Phase B\n",
    "    (0,1) : 1, (0,2) : 2, (0,3) : 1, (0,4) : 3, # TS 1\n",
    "    (1,1) : 1, (1,2) : 2, (1,3) : 1, (1,4) : 3, # TS 1\n",
    "    (2,1) : 3, (2,2) : 4, (2,3) : 4, (2,4) : 2, # TS 2\n",
    "    #                    |       Phase C\n",
    "                          (3,3) : 1, (3,4) : 3, # TS Old\n",
    "                          (4,3) : 1, (4,4) : 2} # TS New"
   ]
  },
  {
   "cell_type": "code",
   "execution_count": 23,
   "metadata": {},
   "outputs": [],
   "source": [
    "action_dictonary_ts2 = {\n",
    "    # (Color, Shape) : Action\n",
    "    #      Phase A       |       Phase B\n",
    "    (0,1) : 1, (0,2) : 2, (0,3) : 1, (0,4) : 3, # TS 1\n",
    "    (1,1) : 1, (1,2) : 2, (1,3) : 1, (1,4) : 3, # TS 1\n",
    "    (2,1) : 3, (2,2) : 4, (2,3) : 4, (2,4) : 2, # TS 2\n",
    "    #                    |       Phase C\n",
    "                          (3,3) : 4, (3,4) : 2, # TS Old\n",
    "                          (4,3) : 1, (4,4) : 2} # TS New"
   ]
  },
  {
   "cell_type": "markdown",
   "metadata": {
    "toc-hr-collapsed": true
   },
   "source": [
    "## Data Generation Functions"
   ]
  },
  {
   "cell_type": "markdown",
   "metadata": {},
   "source": [
    "### Phase Label Generation"
   ]
  },
  {
   "cell_type": "code",
   "execution_count": 16,
   "metadata": {},
   "outputs": [],
   "source": [
    "def explicit_phase_labels(phase_colors,\n",
    "                          phase_shapes,\n",
    "                          n_colors=N_COLORS,\n",
    "                          n_shapes=N_SHAPES,\n",
    "                         ):\n",
    "    # Meshgrid across the colors and shapes\n",
    "    choices = np.array(np.meshgrid(phase_colors, phase_shapes)).T.reshape(-1,2)\n",
    "    # Turn them into one hot vectors\n",
    "    color_choices = np.eye(n_colors)[choices[:,0]]\n",
    "    shape_choices = np.eye(n_shapes)[choices[:,1] - 1]\n",
    "    # Reshape to the desired shape\n",
    "    color_choices = color_choices.reshape((len(color_choices), n_colors, 1))\n",
    "    shape_choices = shape_choices.reshape((len(shape_choices), n_shapes, 1))\n",
    "    \n",
    "    return color_choices, shape_choices"
   ]
  },
  {
   "cell_type": "markdown",
   "metadata": {},
   "source": [
    "### Action Selection"
   ]
  },
  {
   "cell_type": "code",
   "execution_count": 24,
   "metadata": {},
   "outputs": [],
   "source": [
    "def actions(color_choices, shape_choices, action_dict=action_dictonary_ts1, \n",
    "            n_actions=N_ACTIONS):\n",
    "    \"\"\"Implements the mapping from shapes and colors to actions\"\"\"\n",
    "    # Make binary from one hot and increment shape by 1\n",
    "    color_binarized = integer_labels(color_choices)\n",
    "    shape_binarized = [i+1 for i in integer_labels(shape_choices)]\n",
    "    # Compile into a list of tuples\n",
    "    label_tuples = [(color, shape) for color, shape in zip(\n",
    "        color_binarized, shape_binarized)]\n",
    "    # Substitute based on the action dictionary\n",
    "    integer_actions = [action_dict[key] for key in label_tuples]\n",
    "    return np.eye(n_actions)[np.array(integer_actions)-1]"
   ]
  },
  {
   "cell_type": "markdown",
   "metadata": {},
   "source": [
    "### Helper Functions"
   ]
  },
  {
   "cell_type": "code",
   "execution_count": 19,
   "metadata": {},
   "outputs": [],
   "source": [
    "def integer_labels(labels):\n",
    "    \"\"\"Turns one-hot labels to integers\"\"\"\n",
    "    return [np.where(r==1)[0][0] for r in labels]\n",
    "    \n",
    "def input_array(color_choices, shape_choices, \n",
    "                n_shapes=N_SHAPES, n_colors=N_COLORS):\n",
    "    \"\"\"Turns one-hot labels to 2D input arrays with lines\"\"\"\n",
    "    # Full Color array\n",
    "    color_array = np.tile(color_choices, n_shapes)\n",
    "    # Full Shape Array\n",
    "    shape_array = np.transpose(\n",
    "        np.tile(shape_choices, n_colors),\n",
    "        [0, 2, 1])\n",
    "        \n",
    "    # Full data with both\n",
    "    x_data = np.maximum(color_array, shape_array)\n",
    "    return x_data"
   ]
  },
  {
   "cell_type": "markdown",
   "metadata": {
    "toc-hr-collapsed": false
   },
   "source": [
    "## Making the Datasets"
   ]
  },
  {
   "cell_type": "markdown",
   "metadata": {
    "toc-hr-collapsed": true
   },
   "source": [
    "### Generating the Phase Data"
   ]
  },
  {
   "cell_type": "code",
   "execution_count": 20,
   "metadata": {},
   "outputs": [],
   "source": [
    "phase_datasets = {}\n",
    "for phase, phase_pair in phase_color_shape_pairs.items():\n",
    "    choices = explicit_phase_labels(*phase_pair)\n",
    "    inputs = input_array(*choices)\n",
    "    labels = actions(*choices)\n",
    "    phase_datasets[phase] = (inputs, labels)"
   ]
  },
  {
   "cell_type": "markdown",
   "metadata": {},
   "source": [
    "### Generating the Task-Set Datasets"
   ]
  },
  {
   "cell_type": "code",
   "execution_count": 30,
   "metadata": {},
   "outputs": [],
   "source": [
    "ts_datasets = {}\n",
    "for ts, ts_pair in ts_color_shape_pairs.items():\n",
    "    choices = explicit_phase_labels(*ts_pair)\n",
    "    inputs = input_array(*choices)\n",
    "    labels = actions(*choices)\n",
    "    ts_datasets[ts] = (inputs, labels)"
   ]
  },
  {
   "cell_type": "markdown",
   "metadata": {},
   "source": [
    "### Tensorflow Datasets"
   ]
  },
  {
   "cell_type": "code",
   "execution_count": 39,
   "metadata": {},
   "outputs": [],
   "source": [
    "def make_tf_ts_datasets(datasets, init_ops=None):\n",
    "    # The first step of the setup is that each of the datasets (training, validation, and \n",
    "    # testing) are turned into their own `Dataset` objects.\n",
    "    tf_datasets = pdict()\n",
    "    for data, name in zip(datasets, ['train', 'ts']):\n",
    "        for key in data.keys():\n",
    "            tf_datasets[key] = tf.data.Dataset.from_tensor_slices(\n",
    "                data[key]).repeat().shuffle(len(data[key][0])).batch(\n",
    "                1 if name=='train' else len(data[key][0]))\n",
    "    \n",
    "    # Next, let's define the iterators for each of the datasets, and then add their \n",
    "    # initializations to the `init_ops` list.\n",
    "    # Training iterator\n",
    "    iterators = pdict({name : data.make_initializable_iterator()\n",
    "                      for name, data in tf_datasets.items()})\n",
    "\n",
    "    # Add the initiatlizations to the init opts\n",
    "    init_ops = init_ops or []\n",
    "    init_ops += [iter.initializer for iter in iterators.values()]\n",
    "    \n",
    "    first_dataset = list(tf_datasets.values())[0] \n",
    "    output_types, output_shapes = first_dataset.output_types, first_dataset.output_shapes\n",
    "    \n",
    "    # And finally, the interesting part. Rather than creating separate next elements for \n",
    "    # the model, the `tf.data` API has a string handler iterator so we can contextually \n",
    "    # switch the active `Dataset` object, resulting in different values being used for `x` \n",
    "    # and `y`.\n",
    "\n",
    "    # The way this is done is by defining a `tf.placeholder` variable, which is used \n",
    "    # first to create a string handler iterator, and later to hold the dataset-indicating \n",
    "    # string handle. The string handler iterator is what then changes the values of `x` and \n",
    "    # `y`, naturally also supplying them using the `get_next` method.\n",
    "    # The placeholder variable of type string\n",
    "    handle = tf.placeholder(tf.string, shape=[])\n",
    "    \n",
    "    # Iterator from string handle\n",
    "    handle_iterator = tf.data.Iterator.from_string_handle(\n",
    "        handle, output_types, output_shapes)\n",
    "\n",
    "    # x and y that will be used in the graph\n",
    "    x, y = handle_iterator.get_next()\n",
    "    \n",
    "    return x, y, iterators, handle, init_ops"
   ]
  },
  {
   "cell_type": "markdown",
   "metadata": {},
   "source": [
    "## Recreating Old Plots"
   ]
  },
  {
   "cell_type": "code",
   "execution_count": 33,
   "metadata": {},
   "outputs": [],
   "source": [
    "N_INPUTS = N_COLORS * N_SHAPES\n",
    "N_HIDDEN_1 = 100 \n",
    "N_OUTPUTS = 4\n",
    "TF_DEVICE = '/device:CPU:0'"
   ]
  },
  {
   "cell_type": "markdown",
   "metadata": {},
   "source": [
    "### Oreilly Model"
   ]
  },
  {
   "cell_type": "code",
   "execution_count": 41,
   "metadata": {},
   "outputs": [],
   "source": [
    "def oreilly_model(inputs):\n",
    "    # Reshape for hidden layer\n",
    "    inputs = tf.reshape(inputs, shape=[-1, N_INPUTS])\n",
    "    # Single hidden layer\n",
    "    inputs = tf.sigmoid(tf.add(tf.matmul(inputs, weights['h1']), biases['b1']))\n",
    "    # Output layer\n",
    "    inputs = tf.add(tf.matmul(inputs, weights['out']), biases['out'])\n",
    "    # Reshape for labels\n",
    "    return tf.reshape(inputs, shape=[-1, N_OUTPUTS])"
   ]
  },
  {
   "cell_type": "markdown",
   "metadata": {},
   "source": [
    "### Main Graph Definitions"
   ]
  },
  {
   "cell_type": "code",
   "execution_count": 42,
   "metadata": {},
   "outputs": [],
   "source": [
    "# Cleanup any residual nodes\n",
    "tf.reset_default_graph()\n",
    "init_ops = []\n",
    "\n",
    "# Weights and biases\n",
    "weights = pdict({\n",
    "    'h1': tf.get_variable(\n",
    "        name='w_h1', \n",
    "        shape=[N_INPUTS, N_HIDDEN_1],\n",
    "        initializer=tf.contrib.layers.xavier_initializer(),\n",
    "        dtype=tf.float64),\n",
    "    'out': tf.get_variable(\n",
    "        name='w_out', \n",
    "        shape=[N_HIDDEN_1, N_OUTPUTS],\n",
    "        initializer=tf.contrib.layers.xavier_initializer(),\n",
    "        dtype=tf.float64),\n",
    "})\n",
    "biases = pdict({\n",
    "    'b1': tf.get_variable(\n",
    "        name=\"b_1\", \n",
    "        shape=[N_HIDDEN_1], \n",
    "        initializer=tf.zeros_initializer(),\n",
    "        dtype=tf.float64),\n",
    "    'out': tf.get_variable(\n",
    "        name=\"b_out\", \n",
    "        shape=[N_OUTPUTS], \n",
    "        initializer=tf.zeros_initializer(),\n",
    "        dtype=tf.float64),\n",
    "})\n",
    "\n",
    "with tf.device(TF_DEVICE):\n",
    "    # Get the relevant dataset nodes\n",
    "    x, y, iterators, handler, init_ops = make_tf_ts_datasets(\n",
    "        (phase_datasets, ts_datasets), init_ops)\n",
    "\n",
    "    # Build the model\n",
    "    logits = oreilly_model(x)\n",
    "    # Ensure y is cast to the same type as logits\n",
    "    labels = tf.cast(y, logits.dtype)\n",
    "    \n",
    "    # We will keep this in for now\n",
    "    # Define alpha as placeholder variable\n",
    "    alpha_ph = tf.placeholder(tf.float32, shape=[])\n",
    "\n",
    "    # Define loss and optimizer\n",
    "    loss_op = tf.reduce_mean(tf.losses.softmax_cross_entropy(\n",
    "        labels, logits))\n",
    "\n",
    "    # Define some intermediate nodes\n",
    "    predictions = tf.nn.softmax(logits)\n",
    "    rounded_predictions = tf.round(predictions)\n",
    "    equal_labels_and_preds = tf.equal(rounded_predictions, labels)\n",
    "    \n",
    "    # Accuracy \n",
    "    sample_acc = tf.reduce_all(equal_labels_and_preds, axis=1)\n",
    "    accuracy = tf.reduce_mean(tf.cast(sample_acc, tf.float64))\n",
    " \n",
    "    # Adam\n",
    "    train_op_adam = tf.train.AdamOptimizer(alpha_ph).minimize(loss_op)\n",
    "    # Adadelta \n",
    "    train_op_adadelta = tf.train.AdadeltaOptimizer(alpha_ph).minimize(loss_op)\n",
    "    # RMSProp\n",
    "    train_op_rmsprop = tf.train.RMSPropOptimizer(alpha_ph).minimize(loss_op)\n",
    "    # SGD\n",
    "    train_op_sgd = tf.train.GradientDescentOptimizer(alpha_ph).minimize(loss_op)\n",
    "    \n",
    "# And now add these to a dictionary\n",
    "optimizer_dict = pdict({\n",
    "    'Adam' : train_op_adam,\n",
    "    'Adadelta' : train_op_adadelta,\n",
    "    'RMSProp' : train_op_rmsprop,\n",
    "    'sgd' : train_op_sgd,\n",
    "})"
   ]
  },
  {
   "cell_type": "markdown",
   "metadata": {},
   "source": [
    "### TF Helper Functions"
   ]
  },
  {
   "cell_type": "code",
   "execution_count": 43,
   "metadata": {},
   "outputs": [],
   "source": [
    "def new_session(*args, **kwargs):\n",
    "    # Try to close the globally defined session if it isn't already\n",
    "    try:\n",
    "        if not sess._closed:\n",
    "            sess.close()\n",
    "    # If it doesn't exist, then just pass\n",
    "    except NameError:\n",
    "        pass\n",
    "    # Return the new instance\n",
    "    return tf.Session(*args, **kwargs)"
   ]
  },
  {
   "cell_type": "code",
   "execution_count": 44,
   "metadata": {},
   "outputs": [],
   "source": [
    "# Based on code from \n",
    "# https://codereview.stackexchange.com/questions/169870/decorator-to-measure-execution-time-of-a-function\n",
    "from functools import wraps\n",
    "from time import time\n",
    "import datetime\n",
    "\n",
    "def timing(func):\n",
    "    @wraps(func)\n",
    "    def wrapper(*args, **kwargs):\n",
    "        start = time()\n",
    "        result = func(*args, **kwargs)\n",
    "        end = time()\n",
    "        logger.info('Elapsed time: {}'.format(\n",
    "            datetime.timedelta(seconds=end-start)))\n",
    "        return result\n",
    "    return wrapper"
   ]
  },
  {
   "cell_type": "markdown",
   "metadata": {},
   "source": [
    "### Training Function"
   ]
  },
  {
   "cell_type": "code",
   "execution_count": 124,
   "metadata": {},
   "outputs": [],
   "source": [
    "@timing\n",
    "def train_exp(\n",
    "    sess, \n",
    "    lr=0.0033, \n",
    "    epochs=100,\n",
    "    train_op=optimizer_dict['Adam'], \n",
    "    init_ops=None,\n",
    "    verbose=False,\n",
    "    phases=['a'],\n",
    "    n_train=None,\n",
    "    n_val=5,\n",
    "):\n",
    "    log_level = logger.info if verbose else logger.debug\n",
    "    log_level(f'Beginning training using learning rate {lr}, {train_op.name} '\n",
    "              f'training routine, for {epochs} epochs')\n",
    "    # Ensure this is an int\n",
    "    epochs = int(epochs)\n",
    "    # Dict with the various metrics we care about while training\n",
    "    phase_metrics = pdict()\n",
    "    \n",
    "    # Run the initialization ops\n",
    "    init_ops = init_ops or []\n",
    "    if tf.global_variables_initializer() not in init_ops:\n",
    "        init_ops += [tf.global_variables_initializer(), \n",
    "                     tf.local_variables_initializer()]\n",
    "    sess.run(init_ops)\n",
    "    \n",
    "    # Define training and validation handlers\n",
    "    handles = pdict({name : sess.run(iterators[name].string_handle())\n",
    "                    for name in iterators.keys()})\n",
    "    \n",
    "    for i, phase in enumerate(phases):\n",
    "        n_train = len(phase_datasets[phase][0])\n",
    "        epoch_metrics = pdict(\n",
    "            {key : pdict({'loss':[], 'accuracy':[]})\n",
    "             for key in ts_datasets.keys()})\n",
    "        epoch_metrics['encounter'] = []\n",
    "        training_metrics = pdict(\n",
    "            {key : pdict({'loss':[], 'accuracy':[]})\n",
    "             for key in ts_datasets.keys()})\n",
    "        \n",
    "        for epoch in range(epochs):\n",
    "            for _ in range(n_train):\n",
    "                # Training op and compute metrics\n",
    "                _ = sess.run(\n",
    "                    train_op, \n",
    "                    feed_dict={alpha_ph: lr, handler: handles[phase]})\n",
    "                \n",
    "                for met_key in ts_datasets.keys():\n",
    "                    metrics = sess.run(\n",
    "                        [loss_op, accuracy],\n",
    "                        feed_dict={handler: handles[met_key]})\n",
    "                    # Record\n",
    "                    for key, metric in zip(['loss', 'accuracy'], metrics):\n",
    "                        training_metrics[met_key][key].append(metric)\n",
    "\n",
    "            if not epoch % n_val or epoch == epochs - 1:\n",
    "                for ts_key in ts_datasets.keys():\n",
    "                    for metric, values in training_metrics[ts_key].items():\n",
    "                        epoch_metrics[ts_key][metric].append(np.mean(values))\n",
    "                epoch_metrics['encounter'].append(epoch + i*epochs)\n",
    "                log_level(f'Completed Epoch {epoch} for {phase}')\n",
    "                training_metrics = pdict(\n",
    "                    {key : pdict({'loss':[], 'accuracy':[]})\n",
    "                     for key in ts_datasets.keys()})\n",
    "        \n",
    "        phase_metrics[phase] = epoch_metrics\n",
    "        log_level(f'Completed {phase}')\n",
    "\n",
    "    return phase_metrics"
   ]
  },
  {
   "cell_type": "markdown",
   "metadata": {},
   "source": [
    "### Running the Experiment"
   ]
  },
  {
   "cell_type": "code",
   "execution_count": null,
   "metadata": {},
   "outputs": [],
   "source": [
    "%%time\n",
    "N_MODELS = 100\n",
    "sess = new_session()\n",
    "all_ts_phase_metrics = [train_exp(\n",
    "    sess, \n",
    "    phases=phase_datasets.keys(),\n",
    "    lr=0.00333, \n",
    "    epochs=25,\n",
    "    train_op=optimizer_dict['Adam'], \n",
    "    init_ops=init_ops,\n",
    "    verbose=False,\n",
    "    n_train=None,\n",
    "    n_val=1,\n",
    ") for _ in range(N_MODELS)]"
   ]
  },
  {
   "cell_type": "markdown",
   "metadata": {},
   "source": [
    "### Plotting TS Data"
   ]
  },
  {
   "cell_type": "markdown",
   "metadata": {},
   "source": [
    "#### Plotting Functions"
   ]
  },
  {
   "cell_type": "code",
   "execution_count": 134,
   "metadata": {},
   "outputs": [],
   "source": [
    "def plot_multiple_models(all_ts_phase_metrics, dataset_to_plot, title=None):\n",
    "    model_average = True\n",
    "    \n",
    "    # Empty lists for the long form data\n",
    "    long_epochs, long_metrics, long_hues, long_units = [], [], [], []\n",
    "\n",
    "    # Loop through each model's data\n",
    "    for i, model_metrics in enumerate(all_ts_phase_metrics):\n",
    "        # Plot the number of epochs according to the data with the shortest\n",
    "        # number of epochs.\n",
    "        # Add to the long form lists\n",
    "        samples = []\n",
    "        for phase, phase_metrics in model_metrics.items():\n",
    "            for dataname in dataset_to_plot:\n",
    "                n_epochs = len(phase_metrics['encounter'])\n",
    "                label = dataname\n",
    "                units = i\n",
    "                long_epochs += phase_metrics['encounter']\n",
    "                long_metrics += phase_metrics[dataname]['accuracy']\n",
    "                long_hues += [f'{dataname}']*n_epochs\n",
    "                long_units += [units]*n_epochs\n",
    "\n",
    "    if model_average:\n",
    "        sns.lineplot(x=long_epochs, y=long_metrics, hue=long_hues, \n",
    "                     estimator='mean')\n",
    "    # Plot each line individually\n",
    "    else:\n",
    "        sns.lineplot(x=long_epochs, y=long_metrics, hue=long_hues, \n",
    "                     estimator=None, units=long_units)\n",
    "\n",
    "    for vline in [n_epochs, n_epochs*2]:\n",
    "        plt.axvline(vline, linestyle='--')\n",
    "\n",
    "    if title:\n",
    "        plt.title(title)\n",
    "    plt.xlabel('Number of Phase Encounters')\n",
    "    plt.ylabel('Accuracy')\n",
    "    plt.show()"
   ]
  },
  {
   "cell_type": "markdown",
   "metadata": {},
   "source": [
    "#### Full Plots Using TS1 for TS Old"
   ]
  },
  {
   "cell_type": "code",
   "execution_count": 143,
   "metadata": {},
   "outputs": [
    {
     "data": {
      "image/png": "[encoded data removed]",
      "text/plain": [
       "<Figure size 432x288 with 1 Axes>"
      ]
     },
     "metadata": {},
     "output_type": "display_data"
    },
    {
     "data": {
      "image/png": "[encoded data removed]",
      "text/plain": [
       "<Figure size 432x288 with 1 Axes>"
      ]
     },
     "metadata": {},
     "output_type": "display_data"
    },
    {
     "data": {
      "image/png": "[encoded data removed]",
      "text/plain": [
       "<Figure size 432x288 with 1 Axes>"
      ]
     },
     "metadata": {},
     "output_type": "display_data"
    }
   ],
   "source": [
    "datasets_to_plot = [['TS 1 Phase A', 'TS 2 Phase A'],\n",
    "                    ['TS 1 Phase B', 'TS 2 Phase B'],\n",
    "                    ['TS Old Phase C', 'TS New Phase C']]\n",
    "titles = ['TS 1 and 2 Phase A Full Training',\n",
    "          'TS 1 and 2 Phase B Full Training',\n",
    "          'TS Old and New Phase C Full Training']\n",
    "for dataset, title in zip(datasets_to_plot, titles):\n",
    "    plot_multiple_models(all_ts_phase_metrics, dataset,\n",
    "                         title=title)"
   ]
  }
 ],
 "metadata": {
  "anaconda-cloud": {},
  "kernelspec": {
   "display_name": "Python 3",
   "language": "python",
   "name": "python3"
  },
  "language_info": {
   "codemirror_mode": {
    "name": "ipython",
    "version": 3
   },
   "file_extension": ".py",
   "mimetype": "text/x-python",
   "name": "python",
   "nbconvert_exporter": "python",
   "pygments_lexer": "ipython3",
   "version": "3.6.8"
  }
 },
 "nbformat": 4,
 "nbformat_minor": 2
}
