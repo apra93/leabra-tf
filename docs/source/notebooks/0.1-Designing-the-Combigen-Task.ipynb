{
 "cells": [
  {
   "cell_type": "markdown",
   "metadata": {},
   "source": [
    "# 0.1 Implementing the Combinatorial Generalization Task\n",
    "\n",
    "Designing the combinatorial task that will be used for the 0.0 release. See the [readme](combinatorics.rst) for more detail on the task."
   ]
  },
  {
   "cell_type": "markdown",
   "metadata": {},
   "source": [
    "## Jupyter Extensions"
   ]
  },
  {
   "cell_type": "markdown",
   "metadata": {},
   "source": [
    "Load [watermark](https://github.com/rasbt/watermark) to see the state of the machine and environment that's running the notebook. To make sense of the options, take a look at the [usage](https://github.com/rasbt/watermark#usage) section of the readme."
   ]
  },
  {
   "cell_type": "code",
   "execution_count": 1,
   "metadata": {},
   "outputs": [
    {
     "name": "stdout",
     "output_type": "stream",
     "text": [
      "Thu Feb 14 2019 01:15:10 \n",
      "\n",
      "CPython 3.6.8\n",
      "IPython 7.2.0\n",
      "\n",
      "numpy 1.15.4\n",
      "pandas 0.24.1\n",
      "matplotlib 3.0.2\n",
      "seaborn 0.9.0\n",
      "\n",
      "compiler   : GCC 7.3.0\n",
      "system     : Linux\n",
      "release    : 4.15.0-45-generic\n",
      "machine    : x86_64\n",
      "processor  : x86_64\n",
      "CPU cores  : 4\n",
      "interpreter: 64bit\n",
      "Git hash   : 016fe750436621c5f43133787c21d99b9dca7903\n",
      "Git branch : task\n"
     ]
    }
   ],
   "source": [
    "# Load `watermark` extension\n",
    "%load_ext watermark\n",
    "# Display the status of the machine and packages. Add more as necessary.\n",
    "%watermark -v -n -m -g -b -t -p numpy,pandas,matplotlib,seaborn"
   ]
  },
  {
   "cell_type": "markdown",
   "metadata": {},
   "source": [
    "Load [autoreload](https://ipython.org/ipython-doc/3/config/extensions/autoreload.html) which will always reload modules marked with `%aimport`.\n",
    "\n",
    "This behavior can be inverted by running `autoreload 2` which will set everything to be auto-reloaded *except* for modules marked with `%aimport`."
   ]
  },
  {
   "cell_type": "code",
   "execution_count": 2,
   "metadata": {},
   "outputs": [],
   "source": [
    "# Load `autoreload` extension\n",
    "%load_ext autoreload\n",
    "# Set autoreload behavior\n",
    "%autoreload 1"
   ]
  },
  {
   "cell_type": "markdown",
   "metadata": {},
   "source": [
    "Load `matplotlib` in one of the more `jupyter`-friendly [rich-output modes](https://ipython.readthedocs.io/en/stable/interactive/plotting.html). Some options (that may or may not have worked) are `inline`, `notebook`, and `gtk`."
   ]
  },
  {
   "cell_type": "code",
   "execution_count": 3,
   "metadata": {},
   "outputs": [],
   "source": [
    "# Set the matplotlib mode\n",
    "%matplotlib inline"
   ]
  },
  {
   "cell_type": "markdown",
   "metadata": {},
   "source": [
    "## Imports"
   ]
  },
  {
   "cell_type": "markdown",
   "metadata": {},
   "source": [
    "Static imports that shouldn't necessarily change throughout the notebook."
   ]
  },
  {
   "cell_type": "code",
   "execution_count": 4,
   "metadata": {},
   "outputs": [],
   "source": [
    "# Standard library imports\n",
    "import logging\n",
    "\n",
    "# Third party\n",
    "import matplotlib.pyplot as plt\n",
    "import numpy as np\n",
    "import seaborn as sns"
   ]
  },
  {
   "cell_type": "markdown",
   "metadata": {},
   "source": [
    "Local imports that may or may not be autoreloaded. This section contains things that will likely have to be re-imported multiple times, and have additions or subtractions made throughout the project."
   ]
  },
  {
   "cell_type": "code",
   "execution_count": 5,
   "metadata": {},
   "outputs": [],
   "source": [
    "# Utility functions\n",
    "%aimport leabratf.utils\n",
    "from leabratf.utils import setup_logging"
   ]
  },
  {
   "cell_type": "markdown",
   "metadata": {},
   "source": [
    "## Initial Setup"
   ]
  },
  {
   "cell_type": "markdown",
   "metadata": {},
   "source": [
    "Set [seaborn defaults](https://seaborn.pydata.org/generated/seaborn.set.html) for matplotlib."
   ]
  },
  {
   "cell_type": "code",
   "execution_count": 6,
   "metadata": {},
   "outputs": [],
   "source": [
    "sns.set()"
   ]
  },
  {
   "cell_type": "markdown",
   "metadata": {},
   "source": [
    "Set up the logger configuration to something more useful than baseline. Creates log files for the different log levels in the `logs` directory.\n",
    "\n",
    "See `logging.yml` for the exact logging configuration."
   ]
  },
  {
   "cell_type": "code",
   "execution_count": 8,
   "metadata": {},
   "outputs": [],
   "source": [
    "# Run base logger setup\n",
    "setup_logging()\n",
    "# Define a logger object\n",
    "logger = logging.getLogger(\"leabratf\")"
   ]
  },
  {
   "cell_type": "markdown",
   "metadata": {},
   "source": [
    "## Visualizing the Task\n",
    "\n",
    "The heart of the task is creating a mapping from a $n$x$n$ boolean matrix to a $n$x$2$ boolean matrix. Below is an example of what the resulting $n$x$2$ matrix should look like.\n"
   ]
  },
  {
   "cell_type": "code",
   "execution_count": 71,
   "metadata": {},
   "outputs": [
    {
     "name": "stdout",
     "output_type": "stream",
     "text": [
      "[[0 1]\n",
      " [1 0]\n",
      " [1 1]\n",
      " [0 0]\n",
      " [1 1]]\n"
     ]
    }
   ],
   "source": [
    "example_y = np.random.choice(2, (5,2), True)\n",
    "print(example_y)"
   ]
  },
  {
   "cell_type": "markdown",
   "metadata": {},
   "source": [
    "Visualizing this using a heatmap will probably be an easier way to make sense of it."
   ]
  },
  {
   "cell_type": "code",
   "execution_count": 72,
   "metadata": {},
   "outputs": [
    {
     "data": {
      "image/png": "[encoded data removed]",
      "text/plain": [
       "<Figure size 432x288 with 1 Axes>"
      ]
     },
     "metadata": {},
     "output_type": "display_data"
    }
   ],
   "source": [
    "sns.heatmap(example_y, vmin=0, vmax=2, cbar=False, linewidths=1, square=True)\n",
    "plt.show()"
   ]
  },
  {
   "cell_type": "markdown",
   "metadata": {},
   "source": [
    "Let's turn this setup into a function, with the specific defaults to produce the above plot."
   ]
  },
  {
   "cell_type": "code",
   "execution_count": 73,
   "metadata": {},
   "outputs": [],
   "source": [
    "def heatmap(data, vmin=0, vmax=2, cbar=False, linewidths=1, square=True, \n",
    "            *args, **kwargs):\n",
    "    \"\"\"Wrapper function of `sns.heatmap` with some different defaults. \n",
    "    \n",
    "    Only changed values are shown, see the documentation for `sns.heatmap`\n",
    "    for all available parameters.\n",
    "        \n",
    "    Parameters\n",
    "    ----------\n",
    "    vmin : float, optional\n",
    "        Min color. Now set to 0\n",
    "        \n",
    "    vmax : float, optional\n",
    "        Max color. Now set to 2\n",
    "        \n",
    "    cbar : bool, optional\n",
    "        Color bar present or not. Now set to False\n",
    "        \n",
    "    linewidths : float, optional\n",
    "        Width of lines between boxes. Now set to 1\n",
    "        \n",
    "    square : bool, optional\n",
    "        Maintain aspect ratio. Now set to True\n",
    "    \"\"\"\n",
    "    sns.heatmap(data, vmin=vmin, vmax=vmax, cbar=cbar,\n",
    "                linewidths=linewidths, square=square, *args, **kwargs)"
   ]
  },
  {
   "cell_type": "markdown",
   "metadata": {},
   "source": [
    "And sanity checking things:"
   ]
  },
  {
   "cell_type": "code",
   "execution_count": 75,
   "metadata": {},
   "outputs": [
    {
     "data": {
      "image/png": "[encoded data removed]",
      "text/plain": [
       "<Figure size 432x288 with 1 Axes>"
      ]
     },
     "metadata": {},
     "output_type": "display_data"
    }
   ],
   "source": [
    "heatmap(example_y)\n",
    "plt.show()"
   ]
  },
  {
   "cell_type": "markdown",
   "metadata": {},
   "source": [
    "Moving on to the inputs that wouild generate this, putting it together by hand it would look like this: "
   ]
  },
  {
   "cell_type": "code",
   "execution_count": 77,
   "metadata": {},
   "outputs": [
    {
     "data": {
      "image/png": "[encoded data removed]",
      "text/plain": [
       "<Figure size 432x288 with 1 Axes>"
      ]
     },
     "metadata": {},
     "output_type": "display_data"
    }
   ],
   "source": [
    "example_x = np.array([[1, 0, 1, 0, 1],\n",
    "                      [1, 1, 1, 1, 1],\n",
    "                      [1, 1, 1, 1, 1],\n",
    "                      [1, 0, 1, 0, 1],\n",
    "                      [1, 1, 1, 1, 1]])\n",
    "heatmap(example_x)"
   ]
  },
  {
   "cell_type": "markdown",
   "metadata": {},
   "source": [
    "## Inverse Transform\n",
    "\n",
    "So let's try to put together a straight forward implementation of the mapping from `y` to `x` so we can start generating data."
   ]
  },
  {
   "cell_type": "code",
   "execution_count": 387,
   "metadata": {},
   "outputs": [
    {
     "name": "stderr",
     "output_type": "stream",
     "text": [
      "2019-02-14 19:15:34 apra-xps13 leabratf[23007] INFO Passed!\n"
     ]
    }
   ],
   "source": [
    "def inverse_transform_first_pass(y):\n",
    "    \"\"\"Turns the inputted nxn array into the nx2 array\n",
    "    \n",
    "    Parameters\n",
    "    ----------\n",
    "    y : array-like (nx2)\n",
    "        The the label we are transforming.\n",
    "        \n",
    "    Returns\n",
    "    -------\n",
    "    x : np.array (nxn)\n",
    "        The `x` that would have generated the inputted `y`.\n",
    "    \"\"\"\n",
    "    # Grab the length of y\n",
    "    n = len(y)\n",
    "    # Create a horizontal array and a vertical array according to y\n",
    "    horizontal, vertical = np.tile(y, n).reshape(n, n, 2).T\n",
    "    return (horizontal.T + vertical).astype(bool)\n",
    "\n",
    "generated_x = inverse_transform_first_pass(example_y)\n",
    "# Quick check of the function\n",
    "assert np.array_equal(generated_x, example_x)\n",
    "logger.info('Passed!')"
   ]
  },
  {
   "cell_type": "markdown",
   "metadata": {},
   "source": [
    "And in case we aren't convinved, here is a plot of `y`, the expected `x` and the generated `x`:"
   ]
  },
  {
   "cell_type": "code",
   "execution_count": 160,
   "metadata": {},
   "outputs": [
    {
     "data": {
      "image/png": "[encoded data removed]",
      "text/plain": [
       "<Figure size 432x288 with 3 Axes>"
      ]
     },
     "metadata": {},
     "output_type": "display_data"
    }
   ],
   "source": [
    "# Create 3 subplots with the same y, and set the width ratios\n",
    "_, axn = plt.subplots(1, 3, sharey=True, \n",
    "                      gridspec_kw={'width_ratios': [2, 5, 5]})\n",
    "# Create a list of the titles for each\n",
    "titles = ['y', 'Expected x', 'Generated x']\n",
    "# Create a list of values we will pass into the heatmap\n",
    "values = [example_y, example_x, generated_x]\n",
    "\n",
    "# Loop through and generate the plots\n",
    "for i, ax in enumerate(axn):\n",
    "    heatmap(values[i], ax=ax)\n",
    "    ax.set_title(titles[i])\n",
    "plt.show()"
   ]
  },
  {
   "cell_type": "markdown",
   "metadata": {},
   "source": [
    "Now that we're satisfied, let's revisit the line that generates the `y` values:\n",
    "```\n",
    "example_y = np.random.choice(2, (5,2), True)\n",
    "```\n",
    "\n",
    "This generates a single `y` which will be fed into `inverse_transform_first_pass` to generate a single `x`. Let's ensure the function above can take in an array of `y`s of arbitrary length - call it capital `Y`, and output all the `x`s, or just capital `X`."
   ]
  },
  {
   "cell_type": "code",
   "execution_count": 302,
   "metadata": {},
   "outputs": [
    {
     "ename": "ValueError",
     "evalue": "cannot reshape array of size 90 into shape (3,3,2)",
     "output_type": "error",
     "traceback": [
      "\u001b[0;31m---------------------------------------------------------------------------\u001b[0m",
      "\u001b[0;31mValueError\u001b[0m                                Traceback (most recent call last)",
      "\u001b[0;32m<ipython-input-302-2bb7f8d699e9>\u001b[0m in \u001b[0;36m<module>\u001b[0;34m\u001b[0m\n\u001b[1;32m      4\u001b[0m \u001b[0mexample_Y\u001b[0m \u001b[0;34m=\u001b[0m \u001b[0mnp\u001b[0m\u001b[0;34m.\u001b[0m\u001b[0mrandom\u001b[0m\u001b[0;34m.\u001b[0m\u001b[0mchoice\u001b[0m\u001b[0;34m(\u001b[0m\u001b[0;36m2\u001b[0m\u001b[0;34m,\u001b[0m \u001b[0;34m(\u001b[0m\u001b[0mN\u001b[0m\u001b[0;34m,\u001b[0m\u001b[0;36m5\u001b[0m\u001b[0;34m,\u001b[0m\u001b[0;36m2\u001b[0m\u001b[0;34m)\u001b[0m\u001b[0;34m,\u001b[0m \u001b[0;32mTrue\u001b[0m\u001b[0;34m)\u001b[0m\u001b[0;34m\u001b[0m\u001b[0;34m\u001b[0m\u001b[0m\n\u001b[1;32m      5\u001b[0m \u001b[0;31m# Let's see if it even runs\u001b[0m\u001b[0;34m\u001b[0m\u001b[0;34m\u001b[0m\u001b[0;34m\u001b[0m\u001b[0m\n\u001b[0;32m----> 6\u001b[0;31m \u001b[0minverse_transform_first_pass\u001b[0m\u001b[0;34m(\u001b[0m\u001b[0mexample_Y\u001b[0m\u001b[0;34m)\u001b[0m\u001b[0;34m\u001b[0m\u001b[0;34m\u001b[0m\u001b[0m\n\u001b[0m",
      "\u001b[0;32m<ipython-input-268-ead1c6c675d0>\u001b[0m in \u001b[0;36minverse_transform_first_pass\u001b[0;34m(y)\u001b[0m\n\u001b[1;32m     15\u001b[0m     \u001b[0mn\u001b[0m \u001b[0;34m=\u001b[0m \u001b[0mlen\u001b[0m\u001b[0;34m(\u001b[0m\u001b[0my\u001b[0m\u001b[0;34m)\u001b[0m\u001b[0;34m\u001b[0m\u001b[0;34m\u001b[0m\u001b[0m\n\u001b[1;32m     16\u001b[0m     \u001b[0;31m# Create a horizontal array and a vertical array according to y\u001b[0m\u001b[0;34m\u001b[0m\u001b[0;34m\u001b[0m\u001b[0;34m\u001b[0m\u001b[0m\n\u001b[0;32m---> 17\u001b[0;31m     \u001b[0mhorizontal\u001b[0m\u001b[0;34m,\u001b[0m \u001b[0mvertical\u001b[0m \u001b[0;34m=\u001b[0m \u001b[0mnp\u001b[0m\u001b[0;34m.\u001b[0m\u001b[0mtile\u001b[0m\u001b[0;34m(\u001b[0m\u001b[0my\u001b[0m\u001b[0;34m,\u001b[0m \u001b[0mn\u001b[0m\u001b[0;34m)\u001b[0m\u001b[0;34m.\u001b[0m\u001b[0mreshape\u001b[0m\u001b[0;34m(\u001b[0m\u001b[0mn\u001b[0m\u001b[0;34m,\u001b[0m \u001b[0mn\u001b[0m\u001b[0;34m,\u001b[0m \u001b[0;36m2\u001b[0m\u001b[0;34m)\u001b[0m\u001b[0;34m.\u001b[0m\u001b[0mT\u001b[0m\u001b[0;34m\u001b[0m\u001b[0;34m\u001b[0m\u001b[0m\n\u001b[0m\u001b[1;32m     18\u001b[0m     \u001b[0;32mreturn\u001b[0m \u001b[0;34m(\u001b[0m\u001b[0mhorizontal\u001b[0m\u001b[0;34m.\u001b[0m\u001b[0mT\u001b[0m \u001b[0;34m+\u001b[0m \u001b[0mvertical\u001b[0m\u001b[0;34m)\u001b[0m\u001b[0;34m.\u001b[0m\u001b[0mastype\u001b[0m\u001b[0;34m(\u001b[0m\u001b[0mbool\u001b[0m\u001b[0;34m)\u001b[0m\u001b[0;34m\u001b[0m\u001b[0;34m\u001b[0m\u001b[0m\n",
      "\u001b[0;31mValueError\u001b[0m: cannot reshape array of size 90 into shape (3,3,2)"
     ]
    }
   ],
   "source": [
    "# Number of samples to generate, starting off real simple\n",
    "N = 3\n",
    "# Input Y data\n",
    "example_Y = np.random.choice(2, (N,5,2), True)\n",
    "# Let's see if it even runs\n",
    "inverse_transform_first_pass(example_Y)"
   ]
  },
  {
   "cell_type": "markdown",
   "metadata": {},
   "source": [
    "Of course not, we're making too may assumptions about the shape. We probably can't visualize it either."
   ]
  },
  {
   "cell_type": "code",
   "execution_count": 164,
   "metadata": {},
   "outputs": [
    {
     "ename": "ValueError",
     "evalue": "Must pass 2-d input",
     "output_type": "error",
     "traceback": [
      "\u001b[0;31m---------------------------------------------------------------------------\u001b[0m",
      "\u001b[0;31mValueError\u001b[0m                                Traceback (most recent call last)",
      "\u001b[0;32m<ipython-input-164-1cad21ffed0a>\u001b[0m in \u001b[0;36m<module>\u001b[0;34m\u001b[0m\n\u001b[0;32m----> 1\u001b[0;31m \u001b[0mheatmap\u001b[0m\u001b[0;34m(\u001b[0m\u001b[0mexample_Y\u001b[0m\u001b[0;34m)\u001b[0m\u001b[0;34m\u001b[0m\u001b[0;34m\u001b[0m\u001b[0m\n\u001b[0m",
      "\u001b[0;32m<ipython-input-73-6a2d7ade3c07>\u001b[0m in \u001b[0;36mheatmap\u001b[0;34m(data, vmin, vmax, cbar, linewidths, square, *args, **kwargs)\u001b[0m\n\u001b[1;32m     24\u001b[0m     \"\"\"\n\u001b[1;32m     25\u001b[0m     sns.heatmap(data, vmin=vmin, vmax=vmax, cbar=cbar,\n\u001b[0;32m---> 26\u001b[0;31m                 linewidths=linewidths, square=square, *args, **kwargs)\n\u001b[0m",
      "\u001b[0;32m~/miniconda3/envs/leabratf/lib/python3.6/site-packages/seaborn/matrix.py\u001b[0m in \u001b[0;36mheatmap\u001b[0;34m(data, vmin, vmax, cmap, center, robust, annot, fmt, annot_kws, linewidths, linecolor, cbar, cbar_kws, cbar_ax, square, xticklabels, yticklabels, mask, ax, **kwargs)\u001b[0m\n\u001b[1;32m    515\u001b[0m     plotter = _HeatMapper(data, vmin, vmax, cmap, center, robust, annot, fmt,\n\u001b[1;32m    516\u001b[0m                           \u001b[0mannot_kws\u001b[0m\u001b[0;34m,\u001b[0m \u001b[0mcbar\u001b[0m\u001b[0;34m,\u001b[0m \u001b[0mcbar_kws\u001b[0m\u001b[0;34m,\u001b[0m \u001b[0mxticklabels\u001b[0m\u001b[0;34m,\u001b[0m\u001b[0;34m\u001b[0m\u001b[0;34m\u001b[0m\u001b[0m\n\u001b[0;32m--> 517\u001b[0;31m                           yticklabels, mask)\n\u001b[0m\u001b[1;32m    518\u001b[0m \u001b[0;34m\u001b[0m\u001b[0m\n\u001b[1;32m    519\u001b[0m     \u001b[0;31m# Add the pcolormesh kwargs here\u001b[0m\u001b[0;34m\u001b[0m\u001b[0;34m\u001b[0m\u001b[0;34m\u001b[0m\u001b[0m\n",
      "\u001b[0;32m~/miniconda3/envs/leabratf/lib/python3.6/site-packages/seaborn/matrix.py\u001b[0m in \u001b[0;36m__init__\u001b[0;34m(self, data, vmin, vmax, cmap, center, robust, annot, fmt, annot_kws, cbar, cbar_kws, xticklabels, yticklabels, mask)\u001b[0m\n\u001b[1;32m    108\u001b[0m         \u001b[0;32melse\u001b[0m\u001b[0;34m:\u001b[0m\u001b[0;34m\u001b[0m\u001b[0;34m\u001b[0m\u001b[0m\n\u001b[1;32m    109\u001b[0m             \u001b[0mplot_data\u001b[0m \u001b[0;34m=\u001b[0m \u001b[0mnp\u001b[0m\u001b[0;34m.\u001b[0m\u001b[0masarray\u001b[0m\u001b[0;34m(\u001b[0m\u001b[0mdata\u001b[0m\u001b[0;34m)\u001b[0m\u001b[0;34m\u001b[0m\u001b[0;34m\u001b[0m\u001b[0m\n\u001b[0;32m--> 110\u001b[0;31m             \u001b[0mdata\u001b[0m \u001b[0;34m=\u001b[0m \u001b[0mpd\u001b[0m\u001b[0;34m.\u001b[0m\u001b[0mDataFrame\u001b[0m\u001b[0;34m(\u001b[0m\u001b[0mplot_data\u001b[0m\u001b[0;34m)\u001b[0m\u001b[0;34m\u001b[0m\u001b[0;34m\u001b[0m\u001b[0m\n\u001b[0m\u001b[1;32m    111\u001b[0m \u001b[0;34m\u001b[0m\u001b[0m\n\u001b[1;32m    112\u001b[0m         \u001b[0;31m# Validate the mask and convet to DataFrame\u001b[0m\u001b[0;34m\u001b[0m\u001b[0;34m\u001b[0m\u001b[0;34m\u001b[0m\u001b[0m\n",
      "\u001b[0;32m~/miniconda3/envs/leabratf/lib/python3.6/site-packages/pandas/core/frame.py\u001b[0m in \u001b[0;36m__init__\u001b[0;34m(self, data, index, columns, dtype, copy)\u001b[0m\n\u001b[1;32m    422\u001b[0m             \u001b[0;32melse\u001b[0m\u001b[0;34m:\u001b[0m\u001b[0;34m\u001b[0m\u001b[0;34m\u001b[0m\u001b[0m\n\u001b[1;32m    423\u001b[0m                 mgr = init_ndarray(data, index, columns, dtype=dtype,\n\u001b[0;32m--> 424\u001b[0;31m                                    copy=copy)\n\u001b[0m\u001b[1;32m    425\u001b[0m \u001b[0;34m\u001b[0m\u001b[0m\n\u001b[1;32m    426\u001b[0m         \u001b[0;31m# For data is list-like, or Iterable (will consume into list)\u001b[0m\u001b[0;34m\u001b[0m\u001b[0;34m\u001b[0m\u001b[0;34m\u001b[0m\u001b[0m\n",
      "\u001b[0;32m~/miniconda3/envs/leabratf/lib/python3.6/site-packages/pandas/core/internals/construction.py\u001b[0m in \u001b[0;36minit_ndarray\u001b[0;34m(values, index, columns, dtype, copy)\u001b[0m\n\u001b[1;32m    144\u001b[0m     \u001b[0;31m# by definition an array here\u001b[0m\u001b[0;34m\u001b[0m\u001b[0;34m\u001b[0m\u001b[0;34m\u001b[0m\u001b[0m\n\u001b[1;32m    145\u001b[0m     \u001b[0;31m# the dtypes will be coerced to a single dtype\u001b[0m\u001b[0;34m\u001b[0m\u001b[0;34m\u001b[0m\u001b[0;34m\u001b[0m\u001b[0m\n\u001b[0;32m--> 146\u001b[0;31m     \u001b[0mvalues\u001b[0m \u001b[0;34m=\u001b[0m \u001b[0mprep_ndarray\u001b[0m\u001b[0;34m(\u001b[0m\u001b[0mvalues\u001b[0m\u001b[0;34m,\u001b[0m \u001b[0mcopy\u001b[0m\u001b[0;34m=\u001b[0m\u001b[0mcopy\u001b[0m\u001b[0;34m)\u001b[0m\u001b[0;34m\u001b[0m\u001b[0;34m\u001b[0m\u001b[0m\n\u001b[0m\u001b[1;32m    147\u001b[0m \u001b[0;34m\u001b[0m\u001b[0m\n\u001b[1;32m    148\u001b[0m     \u001b[0;32mif\u001b[0m \u001b[0mdtype\u001b[0m \u001b[0;32mis\u001b[0m \u001b[0;32mnot\u001b[0m \u001b[0;32mNone\u001b[0m\u001b[0;34m:\u001b[0m\u001b[0;34m\u001b[0m\u001b[0;34m\u001b[0m\u001b[0m\n",
      "\u001b[0;32m~/miniconda3/envs/leabratf/lib/python3.6/site-packages/pandas/core/internals/construction.py\u001b[0m in \u001b[0;36mprep_ndarray\u001b[0;34m(values, copy)\u001b[0m\n\u001b[1;32m    247\u001b[0m         \u001b[0mvalues\u001b[0m \u001b[0;34m=\u001b[0m \u001b[0mvalues\u001b[0m\u001b[0;34m.\u001b[0m\u001b[0mreshape\u001b[0m\u001b[0;34m(\u001b[0m\u001b[0;34m(\u001b[0m\u001b[0mvalues\u001b[0m\u001b[0;34m.\u001b[0m\u001b[0mshape\u001b[0m\u001b[0;34m[\u001b[0m\u001b[0;36m0\u001b[0m\u001b[0;34m]\u001b[0m\u001b[0;34m,\u001b[0m \u001b[0;36m1\u001b[0m\u001b[0;34m)\u001b[0m\u001b[0;34m)\u001b[0m\u001b[0;34m\u001b[0m\u001b[0;34m\u001b[0m\u001b[0m\n\u001b[1;32m    248\u001b[0m     \u001b[0;32melif\u001b[0m \u001b[0mvalues\u001b[0m\u001b[0;34m.\u001b[0m\u001b[0mndim\u001b[0m \u001b[0;34m!=\u001b[0m \u001b[0;36m2\u001b[0m\u001b[0;34m:\u001b[0m\u001b[0;34m\u001b[0m\u001b[0;34m\u001b[0m\u001b[0m\n\u001b[0;32m--> 249\u001b[0;31m         \u001b[0;32mraise\u001b[0m \u001b[0mValueError\u001b[0m\u001b[0;34m(\u001b[0m\u001b[0;34m'Must pass 2-d input'\u001b[0m\u001b[0;34m)\u001b[0m\u001b[0;34m\u001b[0m\u001b[0;34m\u001b[0m\u001b[0m\n\u001b[0m\u001b[1;32m    250\u001b[0m \u001b[0;34m\u001b[0m\u001b[0m\n\u001b[1;32m    251\u001b[0m     \u001b[0;32mreturn\u001b[0m \u001b[0mvalues\u001b[0m\u001b[0;34m\u001b[0m\u001b[0;34m\u001b[0m\u001b[0m\n",
      "\u001b[0;31mValueError\u001b[0m: Must pass 2-d input"
     ]
    }
   ],
   "source": [
    "heatmap(example_Y)"
   ]
  },
  {
   "cell_type": "markdown",
   "metadata": {},
   "source": [
    "## Going 3-D\n",
    "\n",
    "Before going into actually making changes, one thing that will be useful is to create a decorator that does nothing but turn 2D arrays into 3D ones by reshaping in an extra dimension."
   ]
  },
  {
   "cell_type": "code",
   "execution_count": 369,
   "metadata": {},
   "outputs": [],
   "source": [
    "# Decorator that transfers documentation of the wrapped function to the\n",
    "# decorated one.\n",
    "from functools import wraps\n",
    "\n",
    "def make_input_3d(function, *args, **kwargs):\n",
    "    \"\"\"Looks at the first argument of a function and if it is an array,\n",
    "    and is 2D, it will make it 3D by just reshaping in another one.\n",
    "    \"\"\"\n",
    "    @wraps(function)\n",
    "    def decorator(*args, **kwargs):\n",
    "        # Check to make sure its an array\n",
    "        if isinstance(args[0], np.ndarray):\n",
    "            # Turn it to a list so we can change it\n",
    "            args = list(args)\n",
    "            # Pull out the shape\n",
    "            shape = args[0].shape\n",
    "            # If it is of shape 2, add in an extra dim at the start.\n",
    "            if len(shape) == 2:\n",
    "                args[0] = args[0].reshape(1, *shape)\n",
    "        # Return the passed function\n",
    "        return function(*args, **kwargs)\n",
    "    return decorator"
   ]
  },
  {
   "cell_type": "markdown",
   "metadata": {},
   "source": [
    "And let's just make sure it does what we expect it to."
   ]
  },
  {
   "cell_type": "code",
   "execution_count": 388,
   "metadata": {},
   "outputs": [
    {
     "name": "stderr",
     "output_type": "stream",
     "text": [
      "2019-02-14 19:16:02 apra-xps13 leabratf[23007] INFO Passed!\n"
     ]
    }
   ],
   "source": [
    "@make_input_3d\n",
    "def test_function(data):\n",
    "    \"\"\"\n",
    "    Simply return the inputted data, after being fed through the \n",
    "    generator.\n",
    "    \"\"\"\n",
    "    return data\n",
    "\n",
    "test_data = np.ones((2,2))\n",
    "# Sanity check\n",
    "assert np.array_equal(test_data.shape, (2,2))\n",
    "reshaped_data = test_function(test_data)\n",
    "# The actual test we are after\n",
    "message = 'Got array shape of {0}, expected {1}'.format(\n",
    "    reshaped_data.shape, (1,2,2))\n",
    "assert np.array_equal(reshaped_data.shape, (1,2,2)), message\n",
    "\n",
    "logger.info('Passed!')"
   ]
  },
  {
   "cell_type": "markdown",
   "metadata": {},
   "source": [
    "Alright, now that it's working, let's fix the visualization first."
   ]
  },
  {
   "cell_type": "code",
   "execution_count": 372,
   "metadata": {},
   "outputs": [],
   "source": [
    "# General warning, this will overwrite the originally defined heatmap\n",
    "@make_input_3d\n",
    "def heatmap(data, vmin=0, vmax=2, cbar=False, linewidths=1, square=True, \n",
    "            samples_per_row=10, *args, **kwargs):\n",
    "    \"\"\"Wrapper function of `sns.heatmap` with some different defaults. \n",
    "    \n",
    "    Only changed values are shown, see the documentation for `sns.heatmap`\n",
    "    for all available parameters.\n",
    "        \n",
    "    Parameters\n",
    "    ----------\n",
    "    vmin : float, optional\n",
    "        Min color. Now set to 0\n",
    "        \n",
    "    vmax : float, optional\n",
    "        Max color. Now set to 2\n",
    "        \n",
    "    cbar : bool, optional\n",
    "        Color bar present or not. Now set to False\n",
    "        \n",
    "    linewidths : float, optional\n",
    "        Width of lines between boxes. Now set to 1\n",
    "        \n",
    "    square : bool, optional\n",
    "        Maintain aspect ratio. Now set to True\n",
    "        \n",
    "    samples_per_row : int, optional\n",
    "        Number of samples to have in a plotting row before creating a \n",
    "        new row\n",
    "    \"\"\"\n",
    "    # Place them all in a subplot\n",
    "    n_samples = len(data)\n",
    "    ver_size = n_samples // samples_per_row\n",
    "    ver_size = ver_size + 1 if n_samples % samples_per_row else ver_size\n",
    "    \n",
    "    hor_size = (samples_per_row \n",
    "                if (ver_size > 1 or n_samples == samples_per_row) \n",
    "                else n_samples % samples_per_row)\n",
    "    \n",
    "    _, axn = plt.subplots(ver_size, hor_size, sharey=True, sharex=True,\n",
    "                          squeeze=False)\n",
    "    \n",
    "    # Loop through and generate the plots\n",
    "    gen_data = iter(data)\n",
    "    for i in range(ver_size):\n",
    "        try:\n",
    "            for j in range(hor_size):\n",
    "                sns.heatmap(next(gen_data), vmin=vmin, vmax=vmax, cbar=cbar,\n",
    "                            linewidths=linewidths, square=square, ax=axn[i,j], \n",
    "                            *args, **kwargs)\n",
    "                axn[i,j].set_title(i*ver_size + j)\n",
    "        except StopIteration:\n",
    "            break"
   ]
  },
  {
   "cell_type": "markdown",
   "metadata": {},
   "source": [
    "And then now let's test it for various inputs."
   ]
  },
  {
   "cell_type": "code",
   "execution_count": 382,
   "metadata": {},
   "outputs": [
    {
     "data": {
      "image/png": "[encoded data removed]",
      "text/plain": [
       "<Figure size 432x288 with 1 Axes>"
      ]
     },
     "metadata": {},
     "output_type": "display_data"
    },
    {
     "data": {
      "image/png": "[encoded data removed]",
      "text/plain": [
       "<Figure size 432x288 with 3 Axes>"
      ]
     },
     "metadata": {},
     "output_type": "display_data"
    },
    {
     "data": {
      "image/png": "[encoded data removed]",
      "text/plain": [
       "<Figure size 432x288 with 10 Axes>"
      ]
     },
     "metadata": {},
     "output_type": "display_data"
    },
    {
     "data": {
      "image/png": "[encoded data removed]",
      "text/plain": [
       "<Figure size 432x288 with 20 Axes>"
      ]
     },
     "metadata": {},
     "output_type": "display_data"
    }
   ],
   "source": [
    "example_sample_lengths = [1, 3, 10, 20]\n",
    "for length in example_sample_lengths:\n",
    "    heatmap(np.random.choice(2, (length,5,2), True))\n",
    "    plt.show()"
   ]
  },
  {
   "cell_type": "markdown",
   "metadata": {},
   "source": [
    "For the inverse transform, there are probably some ways that are better than others. So need to test at least a couple and see how they perform.\n",
    "\n",
    "So let's start with a testing function."
   ]
  },
  {
   "cell_type": "code",
   "execution_count": 389,
   "metadata": {},
   "outputs": [],
   "source": [
    "def test_inverse_transform_func(func):\n",
    "    \"\"\"Test function that takes an inverse transform function and tests\n",
    "    it against different lengths of Y. It uses the inverse transform function \n",
    "    defined above as the ground truth.\n",
    "    \n",
    "    Parameters\n",
    "    ----------\n",
    "    func : function\n",
    "        Inverse transform function that takes at least one argument, Y\n",
    "        \n",
    "    Raises\n",
    "    ------\n",
    "    `AssertionError`\n",
    "        If one of the assertions fail\n",
    "    \"\"\"\n",
    "    for length in example_sample_lengths:\n",
    "        # Create the example Y\n",
    "        example_Y = np.random.choice(2, (length,5,2), True)\n",
    "        # Create the ground truth\n",
    "        true_X = [inverse_transform_first_pass(y) for y in example_Y]\n",
    "        # Run the function we are testing.\n",
    "        generated_X = func(example_Y)\n",
    "                   \n",
    "        # Loop through each generated x and compare it with the true x\n",
    "        for true_x, gen_x in zip(true_X, generated_X):\n",
    "            # The message in case it fails\n",
    "            message = 'Func returned array {0}, expected {1}'.format(\n",
    "                true_x, gen_x)\n",
    "            assert np.array_equal(true_x, gen_x), message\n",
    "    logger.info('Passed!')"
   ]
  },
  {
   "cell_type": "markdown",
   "metadata": {},
   "source": [
    "And now to test the test."
   ]
  },
  {
   "cell_type": "code",
   "execution_count": 391,
   "metadata": {},
   "outputs": [
    {
     "name": "stderr",
     "output_type": "stream",
     "text": [
      "2019-02-14 19:40:56 apra-xps13 leabratf[23007] INFO Passed!\n"
     ]
    }
   ],
   "source": [
    "# The same function that's used in the test\n",
    "test_func = lambda Y: [inverse_transform_first_pass(y) for y in Y]\n",
    "test_inverse_transform_func(test_func)"
   ]
  },
  {
   "cell_type": "markdown",
   "metadata": {},
   "source": [
    "## Performance Testing\n",
    "\n",
    "And the last thing we probably want is a way to time the functions to compare them."
   ]
  },
  {
   "cell_type": "code",
   "execution_count": 405,
   "metadata": {},
   "outputs": [],
   "source": [
    "# Import isiterable\n",
    "from leabratf.utils import isiterable\n",
    "\n",
    "def time_funcs(funcs, sample_lengths=None):\n",
    "    \"\"\"Times all the funcs \"\"\"\n",
    "    # Ensure the functions are in some iterable object\n",
    "    if not isiterable(funcs):\n",
    "        funcs = [funcs]\n",
    "        \n",
    "    # Set the default test lengths\n",
    "    if sample_lengths is None:\n",
    "        sample_lengths = [1, 10, 100, 1000]\n",
    "        \n",
    "    # Loop through each of the functions    \n",
    "    for i, func in enumerate(funcs):\n",
    "        print(' - Testing function {}'.format(i))\n",
    "        # Try different orders of magnitudes for the times\n",
    "        for sample_length in sample_lengths:\n",
    "            print('Testing with Y of length {}'.format(sample_length))\n",
    "            %timeit func(np.random.choice(2, (sample_length,5,2), True))"
   ]
  },
  {
   "cell_type": "markdown",
   "metadata": {},
   "source": [
    "And then now let's make sure it prints what we think it should, and establish a baseline with a straight list comprehension."
   ]
  },
  {
   "cell_type": "code",
   "execution_count": 406,
   "metadata": {},
   "outputs": [
    {
     "name": "stdout",
     "output_type": "stream",
     "text": [
      " - Testing function 0\n",
      "Testing with Y of length 1\n",
      "37.4 µs ± 5.45 µs per loop (mean ± std. dev. of 7 runs, 10000 loops each)\n",
      "Testing with Y of length 10\n",
      "166 µs ± 30.3 µs per loop (mean ± std. dev. of 7 runs, 10000 loops each)\n",
      "Testing with Y of length 100\n",
      "1.06 ms ± 82 µs per loop (mean ± std. dev. of 7 runs, 1000 loops each)\n",
      "Testing with Y of length 1000\n",
      "11.3 ms ± 1.24 ms per loop (mean ± std. dev. of 7 runs, 100 loops each)\n"
     ]
    }
   ],
   "source": [
    "# Test with one instance of the test function\n",
    "time_funcs(test_func)"
   ]
  },
  {
   "cell_type": "code",
   "execution_count": 407,
   "metadata": {},
   "outputs": [
    {
     "name": "stdout",
     "output_type": "stream",
     "text": [
      " - Testing function 0\n",
      "Testing with Y of length 1\n",
      "31.3 µs ± 5.75 µs per loop (mean ± std. dev. of 7 runs, 10000 loops each)\n",
      "Testing with Y of length 10\n",
      "135 µs ± 7.34 µs per loop (mean ± std. dev. of 7 runs, 10000 loops each)\n",
      "Testing with Y of length 100\n",
      "1.49 ms ± 154 µs per loop (mean ± std. dev. of 7 runs, 1000 loops each)\n",
      "Testing with Y of length 1000\n",
      "15.5 ms ± 3.4 ms per loop (mean ± std. dev. of 7 runs, 100 loops each)\n",
      " - Testing function 1\n",
      "Testing with Y of length 1\n",
      "27.9 µs ± 1.29 µs per loop (mean ± std. dev. of 7 runs, 10000 loops each)\n",
      "Testing with Y of length 10\n",
      "144 µs ± 23.8 µs per loop (mean ± std. dev. of 7 runs, 10000 loops each)\n",
      "Testing with Y of length 100\n",
      "1.14 ms ± 82.3 µs per loop (mean ± std. dev. of 7 runs, 1000 loops each)\n",
      "Testing with Y of length 1000\n",
      "11.9 ms ± 1.05 ms per loop (mean ± std. dev. of 7 runs, 100 loops each)\n"
     ]
    }
   ],
   "source": [
    "# And now test with passing a list of 2 of the test function\n",
    "time_funcs(2*[test_func])"
   ]
  },
  {
   "cell_type": "markdown",
   "metadata": {},
   "source": [
    "Seems like it scales fairly linearly starting on the order of 10 $\\mu$$s$ per sample. And assuming that we wanted to generate as many samples as there are possible combinations of lines for four 5 by 5 grids (~4 million), this would only take about 40s.\n",
    "\n",
    "So rather than trying to really be smart about things, let's just use this base implementation until we start running into any bottlenecks.\n",
    "\n",
    "Just to be complete though, the final implementation as it stands would be the following:"
   ]
  },
  {
   "cell_type": "code",
   "execution_count": 443,
   "metadata": {},
   "outputs": [],
   "source": [
    "@make_input_3d\n",
    "def inverse_transform(Y, *args, **kwargs):\n",
    "    \"\"\"Wrapper for first pass implementation that accounts for multiple\n",
    "    samples.\"\"\"\n",
    "    return [inverse_transform_first_pass(y) for y in Y]"
   ]
  },
  {
   "cell_type": "markdown",
   "metadata": {},
   "source": [
    "And then just for completeness, let's just run the testing and timing functions."
   ]
  },
  {
   "cell_type": "code",
   "execution_count": 448,
   "metadata": {},
   "outputs": [
    {
     "name": "stderr",
     "output_type": "stream",
     "text": [
      "2019-02-14 21:46:32 apra-xps13 leabratf[23007] INFO Passed!\n"
     ]
    },
    {
     "name": "stdout",
     "output_type": "stream",
     "text": [
      "Testing inverse transform...\n",
      "Timing inverse transform with [100, 1000, 10000, 100000] samples...\n",
      " - Testing function 0\n",
      "Testing with Y of length 100\n",
      "1.29 ms ± 361 µs per loop (mean ± std. dev. of 7 runs, 100 loops each)\n",
      "Testing with Y of length 1000\n",
      "10.2 ms ± 614 µs per loop (mean ± std. dev. of 7 runs, 100 loops each)\n",
      "Testing with Y of length 10000\n",
      "103 ms ± 6.41 ms per loop (mean ± std. dev. of 7 runs, 10 loops each)\n",
      "Testing with Y of length 100000\n",
      "1.04 s ± 35.8 ms per loop (mean ± std. dev. of 7 runs, 1 loop each)\n",
      "Completed!\n"
     ]
    }
   ],
   "source": [
    "# Test the function.\n",
    "print('Testing inverse transform...')\n",
    "test_inverse_transform_func(inverse_transform)\n",
    "\n",
    "sample_lengths = [100, 1000, 10000, 100000]\n",
    "print('Timing inverse transform with {} samples...'\n",
    "            ''.format(sample_lengths))\n",
    "time_funcs(inverse_transform, sample_lengths)\n",
    "print('Completed!')"
   ]
  },
  {
   "cell_type": "code",
   "execution_count": null,
   "metadata": {},
   "outputs": [],
   "source": []
  }
 ],
 "metadata": {
  "anaconda-cloud": {},
  "kernelspec": {
   "display_name": "Python 3",
   "language": "python",
   "name": "python3"
  },
  "language_info": {
   "codemirror_mode": {
    "name": "ipython",
    "version": 3
   },
   "file_extension": ".py",
   "mimetype": "text/x-python",
   "name": "python",
   "nbconvert_exporter": "python",
   "pygments_lexer": "ipython3",
   "version": "3.6.8"
  }
 },
 "nbformat": 4,
 "nbformat_minor": 2
}
